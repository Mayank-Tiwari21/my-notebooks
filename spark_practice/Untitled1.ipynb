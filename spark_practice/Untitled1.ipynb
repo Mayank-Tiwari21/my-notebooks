{
 "cells": [
  {
   "cell_type": "code",
   "execution_count": 1,
   "id": "b2a5e792-50a2-4540-a085-886a90953f97",
   "metadata": {},
   "outputs": [],
   "source": [
    "from pyspark.sql import SparkSession"
   ]
  },
  {
   "cell_type": "code",
   "execution_count": 2,
   "id": "f1e2adf2-a060-49e9-855d-adbcfd5ee5cc",
   "metadata": {},
   "outputs": [
    {
     "name": "stderr",
     "output_type": "stream",
     "text": [
      "25/03/31 16:30:06 WARN Utils: Your hostname, TTNPL-8203 resolves to a loopback address: 127.0.1.1; using 10.1.209.136 instead (on interface wlp0s20f3)\n",
      "25/03/31 16:30:06 WARN Utils: Set SPARK_LOCAL_IP if you need to bind to another address\n",
      "Setting default log level to \"WARN\".\n",
      "To adjust logging level use sc.setLogLevel(newLevel). For SparkR, use setLogLevel(newLevel).\n",
      "25/03/31 16:30:06 WARN NativeCodeLoader: Unable to load native-hadoop library for your platform... using builtin-java classes where applicable\n",
      "25/03/31 16:30:07 WARN Utils: Service 'SparkUI' could not bind on port 4040. Attempting port 4041.\n"
     ]
    }
   ],
   "source": [
    "saprk = SparkSession.builder.appName(\"streamer\").getOrCreate()"
   ]
  },
  {
   "cell_type": "code",
   "execution_count": 3,
   "id": "f4486713-73be-426a-b1ca-14239807d69a",
   "metadata": {},
   "outputs": [
    {
     "name": "stdout",
     "output_type": "stream",
     "text": [
      "<pyspark.sql.session.SparkSession object at 0x754d7f50b460>\n"
     ]
    }
   ],
   "source": [
    "print(saprk\n",
    "     )"
   ]
  },
  {
   "cell_type": "code",
   "execution_count": 10,
   "id": "df9f6ddb-aefe-4ed5-8bd0-7033ef97eeaf",
   "metadata": {},
   "outputs": [],
   "source": [
    "from pyspark.sql.types import *\n",
    "from pyspark.sql.functions import *"
   ]
  },
  {
   "cell_type": "code",
   "execution_count": 7,
   "id": "16ad4a16-28c9-4196-9960-514fbf04d464",
   "metadata": {},
   "outputs": [],
   "source": [
    "schema = StructType([\n",
    "    StructField(\"id\",IntegerType(),True),\n",
    "    StructField(\"name\",StringType(),True),\n",
    "    StructField(\"dept\",StringType(),True),\n",
    "    StructField(\"salary\",IntegerType(),True)\n",
    "])\n",
    "df = saprk.readStream.csv(\"file:///home/hdoop/notebooks/data/spark_practice/example_31Mar2025/*\",header= True,schema=schema)"
   ]
  },
  {
   "cell_type": "code",
   "execution_count": 8,
   "id": "19d7b59a-33a1-4faf-ad71-c3f95d5acfc8",
   "metadata": {},
   "outputs": [
    {
     "name": "stdout",
     "output_type": "stream",
     "text": [
      "root\n",
      " |-- id: integer (nullable = true)\n",
      " |-- name: string (nullable = true)\n",
      " |-- dept: string (nullable = true)\n",
      " |-- salary: integer (nullable = true)\n",
      "\n"
     ]
    }
   ],
   "source": [
    "df.printSchema()"
   ]
  },
  {
   "cell_type": "code",
   "execution_count": 11,
   "id": "c46bb7e7-2e75-48b9-bf40-024d72a42937",
   "metadata": {},
   "outputs": [],
   "source": [
    "df2 = df.withColumn(\"fine\",col(\"salary\")*0.01)"
   ]
  },
  {
   "cell_type": "code",
   "execution_count": 12,
   "id": "88b55379-3edf-4f25-b37b-a60cbb2a32d2",
   "metadata": {},
   "outputs": [],
   "source": [
    "df3 = df2.withColumn(\"bonus\",col(\"salary\")*0.1-col(\"fine\"))"
   ]
  },
  {
   "cell_type": "code",
   "execution_count": null,
   "id": "ccdc0cf6-43d5-4b16-91c1-fea00928d520",
   "metadata": {},
   "outputs": [
    {
     "name": "stderr",
     "output_type": "stream",
     "text": [
      "25/03/31 20:12:12 WARN ResolveWriteToStream: Temporary checkpoint location created which is deleted normally when the query didn't fail: /tmp/temporary-76cbd483-d604-4f11-9369-5311a62a479e. If it's required to delete it under any circumstances, please set spark.sql.streaming.forceDeleteTempCheckpointLocation to true. Important to know deleting temp checkpoint folder is best effort.\n",
      "25/03/31 20:12:12 WARN ResolveWriteToStream: spark.sql.adaptive.enabled is not supported in streaming DataFrames/Datasets and will be disabled.\n"
     ]
    },
    {
     "name": "stdout",
     "output_type": "stream",
     "text": [
      "-------------------------------------------\n",
      "Batch: 0\n",
      "-------------------------------------------\n",
      "+---+--------+--------+------+\n",
      "| id|    name|    dept|salary|\n",
      "+---+--------+--------+------+\n",
      "|  1|  mayank|      IT|100000|\n",
      "|  2|   advay|      HR|150000|\n",
      "|  3|   rohan|      IT|145000|\n",
      "|  4|   naman|Hardware| 45000|\n",
      "|  5|priyansh|      IT|120000|\n",
      "|  1|  mayank|      IT|100000|\n",
      "|  2|   advay|      HR|150000|\n",
      "|  3|   rohan|      IT|145000|\n",
      "+---+--------+--------+------+\n",
      "\n",
      "-------------------------------------------\n",
      "Batch: 5\n",
      "-------------------------------------------\n",
      "+---+--------+--------+------+\n",
      "| id|    name|    dept|salary|\n",
      "+---+--------+--------+------+\n",
      "|  1|  mayank|      IT|100000|\n",
      "|  2|   advay|      HR|150000|\n",
      "|  3|   rohan|      IT|145000|\n",
      "|  4|   naman|Hardware| 45000|\n",
      "|  5|priyansh|      IT|120000|\n",
      "+---+--------+--------+------+\n",
      "\n",
      "-------------------------------------------\n",
      "Batch: 1\n",
      "-------------------------------------------\n",
      "-------------------------------------------\n",
      "Batch: 1\n",
      "-------------------------------------------\n",
      "+---+--------+--------+------+\n",
      "| id|    name|    dept|salary|\n",
      "+---+--------+--------+------+\n",
      "|  1|  mayank|      IT|100000|\n",
      "|  2|   advay|      HR|150000|\n",
      "|  3|   rohan|      IT|145000|\n",
      "|  4|   naman|Hardware| 45000|\n",
      "|  5|priyansh|      IT|120000|\n",
      "+---+--------+--------+------+\n",
      "\n",
      "+---+--------+--------+------+\n",
      "| id|    name|    dept|salary|\n",
      "+---+--------+--------+------+\n",
      "|  1|  mayank|      IT|100000|\n",
      "|  2|   advay|      HR|150000|\n",
      "|  3|   rohan|      IT|145000|\n",
      "|  4|   naman|Hardware| 45000|\n",
      "|  5|priyansh|      IT|120000|\n",
      "+---+--------+--------+------+\n",
      "\n"
     ]
    },
    {
     "name": "stderr",
     "output_type": "stream",
     "text": [
      "25/03/31 20:19:07 WARN FileStreamSource: Listed 3 file(s) in 20012 ms\n"
     ]
    }
   ],
   "source": [
    "query = df.writeStream.format(\"console\").outputMode(\"append\").trigger(processingTime=\"10 seconds\").start().awaitTermination()"
   ]
  },
  {
   "cell_type": "code",
   "execution_count": null,
   "id": "4b63c1d3-fbbc-4f06-8386-a85d2726971c",
   "metadata": {},
   "outputs": [],
   "source": []
  }
 ],
 "metadata": {
  "kernelspec": {
   "display_name": "Python 3 (ipykernel)",
   "language": "python",
   "name": "python3"
  },
  "language_info": {
   "codemirror_mode": {
    "name": "ipython",
    "version": 3
   },
   "file_extension": ".py",
   "mimetype": "text/x-python",
   "name": "python",
   "nbconvert_exporter": "python",
   "pygments_lexer": "ipython3",
   "version": "3.10.12"
  }
 },
 "nbformat": 4,
 "nbformat_minor": 5
}
