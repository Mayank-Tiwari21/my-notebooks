{
 "cells": [
  {
   "cell_type": "code",
   "execution_count": 1,
   "id": "27c8c031-2ab7-4fc0-90c5-ca3789cda5bf",
   "metadata": {},
   "outputs": [],
   "source": [
    "from pyspark.sql import SparkSession"
   ]
  },
  {
   "cell_type": "code",
   "execution_count": 2,
   "id": "6252138e-a4d7-451f-80ca-07e9283694dc",
   "metadata": {},
   "outputs": [
    {
     "name": "stderr",
     "output_type": "stream",
     "text": [
      "25/03/17 16:52:32 WARN Utils: Your hostname, TTNPL-8203 resolves to a loopback address: 127.0.1.1; using 10.1.243.232 instead (on interface wlp0s20f3)\n",
      "25/03/17 16:52:32 WARN Utils: Set SPARK_LOCAL_IP if you need to bind to another address\n",
      "Setting default log level to \"WARN\".\n",
      "To adjust logging level use sc.setLogLevel(newLevel). For SparkR, use setLogLevel(newLevel).\n",
      "25/03/17 16:52:33 WARN NativeCodeLoader: Unable to load native-hadoop library for your platform... using builtin-java classes where applicable\n",
      "25/03/17 16:52:33 WARN Utils: Service 'SparkUI' could not bind on port 4040. Attempting port 4041.\n"
     ]
    },
    {
     "name": "stdout",
     "output_type": "stream",
     "text": [
      "<pyspark.sql.session.SparkSession object at 0x75763cd26aa0>\n"
     ]
    }
   ],
   "source": [
    "spark = SparkSession.builder.appName(\"bucketing\").getOrCreate()\n",
    "print(spark)"
   ]
  },
  {
   "cell_type": "code",
   "execution_count": 3,
   "id": "259dfc70-1fe4-4bbc-a6be-5ca19aa18204",
   "metadata": {},
   "outputs": [],
   "source": [
    "# Create a sample DataFrame\n",
    "data = [\n",
    "    (1, \"Alice\", 25),\n",
    "    (2, \"Bob\", 30),\n",
    "    (3, \"Charlie\", 28),\n",
    "    (4, \"David\", 32),\n",
    "    (5, \"Eve\", 27),\n",
    "]\n",
    "columns = [\"id\", \"name\", \"age\"]\n",
    "df = spark.createDataFrame(data, columns)"
   ]
  },
  {
   "cell_type": "raw",
   "id": "9fe2ad31-c8f1-46a2-93fb-c896ec439847",
   "metadata": {},
   "source": [
    "\n",
    "# Write the DataFrame as a bucketed table (Parquet format)\n",
    "bucketed_path = \"/home/hdoop/Docs/spark_files/17May2025/bucketing/bucket_data\"\n",
    "df.write.bucketBy(4, \"id\").sortBy(\"age\").mode(\"overwrite\").parquet(bucketed_path)\n"
   ]
  },
  {
   "cell_type": "code",
   "execution_count": 5,
   "id": "8fa89ce7-ecb3-443b-a2f2-dce6764cf357",
   "metadata": {},
   "outputs": [],
   "source": [
    "\n",
    "# Register the DataFrame as a temporary view\n",
    "df.createOrReplaceTempView(\"temp_table\")"
   ]
  },
  {
   "cell_type": "code",
   "execution_count": 6,
   "id": "07f4b983-2504-4755-b88d-145676dc4853",
   "metadata": {},
   "outputs": [
    {
     "name": "stderr",
     "output_type": "stream",
     "text": [
      "25/03/17 16:56:58 WARN HadoopFSUtils: The directory file:/home/hdoop/Docs/spark_files/17May2025/bucketing/bucket_data was not found. Was it deleted very recently?\n"
     ]
    },
    {
     "data": {
      "text/plain": [
       "DataFrame[]"
      ]
     },
     "execution_count": 6,
     "metadata": {},
     "output_type": "execute_result"
    }
   ],
   "source": [
    "\n",
    "# Create a bucketed and sorted table using SQL\n",
    "bucketed_path = \"/home/hdoop/Docs/spark_files/17May2025/bucketing/bucket_data\"\n",
    "spark.sql(f\"\"\"\n",
    "    CREATE TABLE bucketed_table\n",
    "    (id INT, name STRING, age INT)\n",
    "    USING parquet\n",
    "    CLUSTERED BY (id) SORTED BY (age) INTO 4 BUCKETS\n",
    "    LOCATION '{bucketed_path}'\n",
    "\"\"\")\n"
   ]
  },
  {
   "cell_type": "code",
   "execution_count": 7,
   "id": "e47b4f82-0e21-420f-a4d2-2616ff6505b4",
   "metadata": {},
   "outputs": [
    {
     "name": "stderr",
     "output_type": "stream",
     "text": [
      "25/03/17 16:57:15 WARN HadoopFSUtils: The directory file:/home/hdoop/Docs/spark_files/17May2025/bucketing/bucket_data was not found. Was it deleted very recently?\n",
      "                                                                                "
     ]
    },
    {
     "data": {
      "text/plain": [
       "DataFrame[]"
      ]
     },
     "execution_count": 7,
     "metadata": {},
     "output_type": "execute_result"
    }
   ],
   "source": [
    "# Insert data from the temporary view into the bucketed table\n",
    "spark.sql(\"INSERT OVERWRITE TABLE bucketed_table SELECT * FROM temp_table\")\n"
   ]
  },
  {
   "cell_type": "code",
   "execution_count": 8,
   "id": "1788d55e-ea6c-4ebb-acfd-a454b23d8db5",
   "metadata": {},
   "outputs": [
    {
     "name": "stdout",
     "output_type": "stream",
     "text": [
      "+---+-------+---+\n",
      "| id|   name|age|\n",
      "+---+-------+---+\n",
      "|  3|Charlie| 28|\n",
      "|  1|  Alice| 25|\n",
      "|  4|  David| 32|\n",
      "|  5|    Eve| 27|\n",
      "|  2|    Bob| 30|\n",
      "+---+-------+---+\n",
      "\n"
     ]
    }
   ],
   "source": [
    "# Read the bucketed data\n",
    "bucketed_df = spark.read.parquet(bucketed_path)\n",
    "bucketed_df.show()\n"
   ]
  },
  {
   "cell_type": "code",
   "execution_count": 9,
   "id": "1f22fa51-4276-479b-ad94-7ba91343914f",
   "metadata": {},
   "outputs": [],
   "source": [
    "spark.stop()"
   ]
  },
  {
   "cell_type": "code",
   "execution_count": null,
   "id": "74dd4e10-1d6c-45ce-8bca-1dbcb590fb4e",
   "metadata": {},
   "outputs": [],
   "source": []
  }
 ],
 "metadata": {
  "kernelspec": {
   "display_name": "Python 3 (ipykernel)",
   "language": "python",
   "name": "python3"
  },
  "language_info": {
   "codemirror_mode": {
    "name": "ipython",
    "version": 3
   },
   "file_extension": ".py",
   "mimetype": "text/x-python",
   "name": "python",
   "nbconvert_exporter": "python",
   "pygments_lexer": "ipython3",
   "version": "3.10.12"
  }
 },
 "nbformat": 4,
 "nbformat_minor": 5
}
