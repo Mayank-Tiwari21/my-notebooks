{
 "cells": [
  {
   "cell_type": "code",
   "execution_count": 6,
   "id": "9848c963-dfb4-49f2-91ca-adc8e3c9bc8d",
   "metadata": {},
   "outputs": [
    {
     "name": "stderr",
     "output_type": "stream",
     "text": [
      "25/03/17 17:15:20 WARN Utils: Service 'SparkUI' could not bind on port 4040. Attempting port 4041.\n"
     ]
    },
    {
     "name": "stdout",
     "output_type": "stream",
     "text": [
      "              0             1                2                3            4  \\\n",
      "0  (Virat, 109)  (Rohit, 140)  (Yashasvi, 130)  (Shubhman, 100)  (Rinku, 72)   \n",
      "\n",
      "              5  \n",
      "0  (Jadeja, 58)  \n",
      "HDFS connection successful!\n"
     ]
    }
   ],
   "source": [
    "from pyspark.sql import SparkSession\n",
    "\n",
    "spark = SparkSession.builder.appName(\"HdfsTest\").getOrCreate()\n",
    "\n",
    "try:\n",
    "    df = spark.read.json(\"hdfs://127.0.0.1:9000/players.json\",multiLine=True) #replace with valid hdfs path\n",
    "    p_df=df.toPandas()\n",
    "    print(p_df)\n",
    "    print(\"HDFS connection successful!\")\n",
    "except Exception as e:\n",
    "    print(f\"Error connecting to HDFS: {e}\")\n"
   ]
  },
  {
   "cell_type": "code",
   "execution_count": 7,
   "id": "e786b595-0e85-4de4-b464-a547b6d2fcfd",
   "metadata": {},
   "outputs": [],
   "source": [
    "\n",
    "spark.stop()"
   ]
  }
 ],
 "metadata": {
  "kernelspec": {
   "display_name": "Python 3 (ipykernel)",
   "language": "python",
   "name": "python3"
  },
  "language_info": {
   "codemirror_mode": {
    "name": "ipython",
    "version": 3
   },
   "file_extension": ".py",
   "mimetype": "text/x-python",
   "name": "python",
   "nbconvert_exporter": "python",
   "pygments_lexer": "ipython3",
   "version": "3.10.12"
  }
 },
 "nbformat": 4,
 "nbformat_minor": 5
}
