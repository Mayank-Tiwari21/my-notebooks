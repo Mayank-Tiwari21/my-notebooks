{
 "cells": [
  {
   "cell_type": "code",
   "execution_count": 2,
   "id": "f5a41111-7f97-4cf6-9835-40800496d0f4",
   "metadata": {},
   "outputs": [],
   "source": [
    "from pyspark.sql import SparkSession\n"
   ]
  },
  {
   "cell_type": "code",
   "execution_count": null,
   "id": "88f5c8eb-2358-49b7-a590-67102c6d6553",
   "metadata": {},
   "outputs": [],
   "source": []
  },
  {
   "cell_type": "code",
   "execution_count": 3,
   "id": "892ed151-3b31-4e95-8cbe-b3314fe86131",
   "metadata": {},
   "outputs": [
    {
     "name": "stderr",
     "output_type": "stream",
     "text": [
      "25/03/12 11:59:34 WARN Utils: Your hostname, TTNPL-8203 resolves to a loopback address: 127.0.1.1; using 10.1.243.232 instead (on interface wlp0s20f3)\n",
      "25/03/12 11:59:34 WARN Utils: Set SPARK_LOCAL_IP if you need to bind to another address\n",
      "Setting default log level to \"WARN\".\n",
      "To adjust logging level use sc.setLogLevel(newLevel). For SparkR, use setLogLevel(newLevel).\n",
      "25/03/12 11:59:35 WARN NativeCodeLoader: Unable to load native-hadoop library for your platform... using builtin-java classes where applicable\n"
     ]
    },
    {
     "name": "stdout",
     "output_type": "stream",
     "text": [
      "<pyspark.sql.session.SparkSession object at 0x771894068910>\n"
     ]
    }
   ],
   "source": [
    "\n",
    "spark = SparkSession.builder\\\n",
    "        .appName(\"Pyspark By Examples\")\\\n",
    "        .getOrCreate()\n",
    "print(spark)"
   ]
  },
  {
   "cell_type": "code",
   "execution_count": 4,
   "id": "cdf7170d-7783-4f01-8307-fb760124067e",
   "metadata": {},
   "outputs": [],
   "source": [
    "dataDF = [((\"James\",\"\",\"Smith\"),'1991-04-01','M',3000),\n",
    "         ((\"Michael\",\"Rose\",\"\"),'2000-05-19','M',4000),\n",
    "         (('Robert','','Williams'),'1978-09-05','M',4000),\n",
    "          (('Maria','Anne','Jones'),'1967-12-01','F',4000),\n",
    "          (('Jen','Mary','Brown'),'1980-02-17','F',-1)]"
   ]
  },
  {
   "cell_type": "code",
   "execution_count": 5,
   "id": "8262f279-c4a0-4ec7-9a34-7a3c3bf65ae7",
   "metadata": {},
   "outputs": [],
   "source": [
    "from pyspark.sql.types import *"
   ]
  },
  {
   "cell_type": "code",
   "execution_count": 15,
   "id": "db663fe9-40d5-47e6-96c6-8607f82be7a3",
   "metadata": {},
   "outputs": [],
   "source": [
    "schema = StructType([\n",
    "    StructField(\"name\",StructType([\n",
    "        StructField(\"firstname\",StringType(),True),\n",
    "        StructField(\"middlename\",StringType(),True),\n",
    "        StructField(\"lastname\",StringType(),True)\n",
    "    ]),True),\n",
    "    StructField(\"dob\",StringType(),True),\n",
    "    StructField(\"gender\",StringType(),True),\n",
    "    StructField(\"salary\",IntegerType(),True)\n",
    "])"
   ]
  },
  {
   "cell_type": "code",
   "execution_count": 16,
   "id": "769d2dd5-f2ec-4d41-bb36-83533bacb65e",
   "metadata": {},
   "outputs": [],
   "source": [
    "df = spark.createDataFrame(data = dataDF,schema =schema)"
   ]
  },
  {
   "cell_type": "code",
   "execution_count": 17,
   "id": "cbb3a59c-fe70-4928-9473-24accce4382a",
   "metadata": {},
   "outputs": [
    {
     "name": "stdout",
     "output_type": "stream",
     "text": [
      "+--------------------+----------+------+------+\n",
      "|                name|       dob|gender|salary|\n",
      "+--------------------+----------+------+------+\n",
      "|    {James, , Smith}|1991-04-01|     M|  3000|\n",
      "|   {Michael, Rose, }|2000-05-19|     M|  4000|\n",
      "|{Robert, , Williams}|1978-09-05|     M|  4000|\n",
      "|{Maria, Anne, Jones}|1967-12-01|     F|  4000|\n",
      "|  {Jen, Mary, Brown}|1980-02-17|     F|    -1|\n",
      "+--------------------+----------+------+------+\n",
      "\n"
     ]
    }
   ],
   "source": [
    "df.show()"
   ]
  },
  {
   "cell_type": "code",
   "execution_count": 18,
   "id": "ae6f773d-a328-4da6-a9f2-60bcbffa12cf",
   "metadata": {},
   "outputs": [
    {
     "name": "stdout",
     "output_type": "stream",
     "text": [
      "root\n",
      " |-- name: struct (nullable = true)\n",
      " |    |-- firstname: string (nullable = true)\n",
      " |    |-- middlename: string (nullable = true)\n",
      " |    |-- lastname: string (nullable = true)\n",
      " |-- dob: string (nullable = true)\n",
      " |-- gender: string (nullable = true)\n",
      " |-- salary: integer (nullable = true)\n",
      "\n"
     ]
    }
   ],
   "source": [
    "df.printSchema()"
   ]
  },
  {
   "cell_type": "markdown",
   "id": "7d96a76c-1086-4d43-9226-ae20ea6a364c",
   "metadata": {},
   "source": [
    "withColumnRenamed()"
   ]
  },
  {
   "cell_type": "code",
   "execution_count": 19,
   "id": "17f6fc8f-aa66-432f-9a01-2813a23359c6",
   "metadata": {},
   "outputs": [
    {
     "name": "stdout",
     "output_type": "stream",
     "text": [
      "+--------------------+-----------+------+------+\n",
      "|                name|DateOfBirth|gender|salary|\n",
      "+--------------------+-----------+------+------+\n",
      "|    {James, , Smith}| 1991-04-01|     M|  3000|\n",
      "|   {Michael, Rose, }| 2000-05-19|     M|  4000|\n",
      "|{Robert, , Williams}| 1978-09-05|     M|  4000|\n",
      "|{Maria, Anne, Jones}| 1967-12-01|     F|  4000|\n",
      "|  {Jen, Mary, Brown}| 1980-02-17|     F|    -1|\n",
      "+--------------------+-----------+------+------+\n",
      "\n"
     ]
    }
   ],
   "source": [
    "df.withColumnRenamed(\"dob\",\"DateOfBirth\").show()"
   ]
  },
  {
   "cell_type": "markdown",
   "id": "bd5ef38c-cd15-47dd-952e-6e923dabb3d9",
   "metadata": {},
   "source": [
    "for multicolumn renaming()"
   ]
  },
  {
   "cell_type": "code",
   "execution_count": 20,
   "id": "a2383831-aed5-4fb4-ad29-d9271d6246e6",
   "metadata": {},
   "outputs": [
    {
     "name": "stdout",
     "output_type": "stream",
     "text": [
      "root\n",
      " |-- name: struct (nullable = true)\n",
      " |    |-- firstname: string (nullable = true)\n",
      " |    |-- middlename: string (nullable = true)\n",
      " |    |-- lastname: string (nullable = true)\n",
      " |-- DateOfBirth: string (nullable = true)\n",
      " |-- gender: string (nullable = true)\n",
      " |-- salary_amount: integer (nullable = true)\n",
      "\n"
     ]
    }
   ],
   "source": [
    "df.withColumnRenamed(\"dob\",\"DateOfBirth\")\\\n",
    "    .withColumnRenamed(\"salary\",\"salary_amount\").printSchema()"
   ]
  },
  {
   "cell_type": "markdown",
   "id": "340a123b-066e-4ef4-9418-106074247a11",
   "metadata": {},
   "source": [
    "rename nested column"
   ]
  },
  {
   "cell_type": "code",
   "execution_count": 22,
   "id": "dd0b9373-16ea-449c-922c-f1b7196228b3",
   "metadata": {},
   "outputs": [
    {
     "name": "stdout",
     "output_type": "stream",
     "text": [
      "+-------+-----+--------+----------+------+------+\n",
      "|  fname|mname|   lname|       dob|gender|salary|\n",
      "+-------+-----+--------+----------+------+------+\n",
      "|  James|     |   Smith|1991-04-01|     M|  3000|\n",
      "|Michael| Rose|        |2000-05-19|     M|  4000|\n",
      "| Robert|     |Williams|1978-09-05|     M|  4000|\n",
      "|  Maria| Anne|   Jones|1967-12-01|     F|  4000|\n",
      "|    Jen| Mary|   Brown|1980-02-17|     F|    -1|\n",
      "+-------+-----+--------+----------+------+------+\n",
      "\n"
     ]
    }
   ],
   "source": [
    "df.select(df.name.firstname.alias(\"fname\"),\n",
    "         df.name.middlename.alias(\"mname\"),\n",
    "         df.name.lastname.alias(\"lname\"),\n",
    "         df.dob,\n",
    "         df.gender,\n",
    "         df.salary).show()"
   ]
  },
  {
   "cell_type": "code",
   "execution_count": 25,
   "id": "98a0f462-532a-47ee-a518-95e3f4216ab4",
   "metadata": {},
   "outputs": [
    {
     "name": "stdout",
     "output_type": "stream",
     "text": [
      "+----------+------+------+-------+-----+--------+\n",
      "|       dob|gender|salary|  fname|mname|   lname|\n",
      "+----------+------+------+-------+-----+--------+\n",
      "|1991-04-01|     M|  3000|  James|     |   Smith|\n",
      "|2000-05-19|     M|  4000|Michael| Rose|        |\n",
      "|1978-09-05|     M|  4000| Robert|     |Williams|\n",
      "|1967-12-01|     F|  4000|  Maria| Anne|   Jones|\n",
      "|1980-02-17|     F|    -1|    Jen| Mary|   Brown|\n",
      "+----------+------+------+-------+-----+--------+\n",
      "\n"
     ]
    }
   ],
   "source": [
    "df.withColumn(\"fname\",df.name.firstname)\\\n",
    "    .withColumn(\"mname\",df.name.middlename)\\\n",
    "    .withColumn(\"lname\",df.name.lastname)\\\n",
    "    .drop(df.name).show()"
   ]
  },
  {
   "cell_type": "code",
   "execution_count": 26,
   "id": "8af08180-29b0-4d6c-a764-fc2d79774125",
   "metadata": {},
   "outputs": [
    {
     "name": "stdout",
     "output_type": "stream",
     "text": [
      "+--------------------+----------+------+------+\n",
      "|                name|       dob|gender|salary|\n",
      "+--------------------+----------+------+------+\n",
      "|    {James, , Smith}|1991-04-01|     M|  3000|\n",
      "|   {Michael, Rose, }|2000-05-19|     M|  4000|\n",
      "|{Robert, , Williams}|1978-09-05|     M|  4000|\n",
      "|{Maria, Anne, Jones}|1967-12-01|     F|  4000|\n",
      "|  {Jen, Mary, Brown}|1980-02-17|     F|    -1|\n",
      "+--------------------+----------+------+------+\n",
      "\n"
     ]
    }
   ],
   "source": [
    "df.show()"
   ]
  },
  {
   "cell_type": "markdown",
   "id": "8af3e43a-bf96-41fc-8dfb-308c20249a93",
   "metadata": {},
   "source": [
    "## withColummn(_)"
   ]
  },
  {
   "cell_type": "code",
   "execution_count": 70,
   "id": "ed64a63a-ed39-4660-8b88-fd0a94376708",
   "metadata": {},
   "outputs": [],
   "source": [
    "data = [('James','','Smith','1991-04-01','M',3000),\n",
    "  ('Michael','Rose','','2000-05-19','M',4000),\n",
    "  ('Robert','','Williams','1978-09-05','M',4000),\n",
    "  ('Maria','Anne','Jones','1967-12-01','F',4000),\n",
    "  ('Jen','Mary','Brown','1980-02-17','F',-1)\n",
    "]\n",
    "\n",
    "columns = [\"firstname\",\"middlename\",\"lastname\",\"dob\",\"gender\",\"salary\"]\n",
    "df = spark.createDataFrame(data=data,schema =columns)"
   ]
  },
  {
   "cell_type": "code",
   "execution_count": 71,
   "id": "a2ed8a71-1e94-403c-a686-ab8d758f3f7a",
   "metadata": {},
   "outputs": [
    {
     "name": "stdout",
     "output_type": "stream",
     "text": [
      "+---------+----------+--------+----------+------+------+\n",
      "|firstname|middlename|lastname|       dob|gender|salary|\n",
      "+---------+----------+--------+----------+------+------+\n",
      "|    James|          |   Smith|1991-04-01|     M|  3000|\n",
      "|  Michael|      Rose|        |2000-05-19|     M|  4000|\n",
      "|   Robert|          |Williams|1978-09-05|     M|  4000|\n",
      "|    Maria|      Anne|   Jones|1967-12-01|     F|  4000|\n",
      "|      Jen|      Mary|   Brown|1980-02-17|     F|    -1|\n",
      "+---------+----------+--------+----------+------+------+\n",
      "\n",
      "root\n",
      " |-- firstname: string (nullable = true)\n",
      " |-- middlename: string (nullable = true)\n",
      " |-- lastname: string (nullable = true)\n",
      " |-- dob: string (nullable = true)\n",
      " |-- gender: string (nullable = true)\n",
      " |-- salary: long (nullable = true)\n",
      "\n"
     ]
    }
   ],
   "source": [
    "df.show()\n",
    "df.printSchema()"
   ]
  },
  {
   "cell_type": "markdown",
   "id": "cd429ae9-bea2-44dd-8897-a863792bd0ef",
   "metadata": {},
   "source": [
    "Changing the datatype"
   ]
  },
  {
   "cell_type": "code",
   "execution_count": 30,
   "id": "a8468ba3-24d1-4daa-a079-bb21ff5b5ee1",
   "metadata": {},
   "outputs": [
    {
     "name": "stdout",
     "output_type": "stream",
     "text": [
      "root\n",
      " |-- firstname: string (nullable = true)\n",
      " |-- middlename: string (nullable = true)\n",
      " |-- lastname: string (nullable = true)\n",
      " |-- dob: string (nullable = true)\n",
      " |-- gender: string (nullable = true)\n",
      " |-- salary: integer (nullable = true)\n",
      "\n"
     ]
    }
   ],
   "source": [
    "df.withColumn(\"salary\",df.salary.cast(\"Integer\")).printSchema()"
   ]
  },
  {
   "cell_type": "code",
   "execution_count": 31,
   "id": "3df07b45-159a-498a-aca0-9023c1139f0e",
   "metadata": {},
   "outputs": [
    {
     "name": "stdout",
     "output_type": "stream",
     "text": [
      "+---------+----------+--------+----------+------+------+\n",
      "|firstname|middlename|lastname|       dob|gender|salary|\n",
      "+---------+----------+--------+----------+------+------+\n",
      "|    James|          |   Smith|1991-04-01|     M|300000|\n",
      "|  Michael|      Rose|        |2000-05-19|     M|400000|\n",
      "|   Robert|          |Williams|1978-09-05|     M|400000|\n",
      "|    Maria|      Anne|   Jones|1967-12-01|     F|400000|\n",
      "|      Jen|      Mary|   Brown|1980-02-17|     F|  -100|\n",
      "+---------+----------+--------+----------+------+------+\n",
      "\n"
     ]
    }
   ],
   "source": [
    "df.withColumn(\"salary\",df.salary*100).show()"
   ]
  },
  {
   "cell_type": "code",
   "execution_count": 32,
   "id": "2c27a3b0-71aa-4d55-a6af-b33e8f53dc81",
   "metadata": {},
   "outputs": [
    {
     "name": "stdout",
     "output_type": "stream",
     "text": [
      "+---------+\n",
      "|namespace|\n",
      "+---------+\n",
      "|  default|\n",
      "+---------+\n",
      "\n"
     ]
    }
   ],
   "source": [
    "spark.sql(\"show databases\").show()"
   ]
  },
  {
   "cell_type": "code",
   "execution_count": 33,
   "id": "c220a5e8-cf11-4645-862a-aad477029c39",
   "metadata": {},
   "outputs": [
    {
     "name": "stdout",
     "output_type": "stream",
     "text": [
      "+---------+---------+-----------+\n",
      "|namespace|tableName|isTemporary|\n",
      "+---------+---------+-----------+\n",
      "+---------+---------+-----------+\n",
      "\n"
     ]
    }
   ],
   "source": [
    "spark.sql(\"show tables\").show()"
   ]
  },
  {
   "cell_type": "code",
   "execution_count": 37,
   "id": "ed749e63-3545-44c9-851e-ec6f12d4987a",
   "metadata": {},
   "outputs": [],
   "source": [
    "from pyspark.sql.functions import *\n"
   ]
  },
  {
   "cell_type": "markdown",
   "id": "438ad7b5-9703-4d12-95cd-3b021ca1fe02",
   "metadata": {},
   "source": [
    "### when(_)"
   ]
  },
  {
   "cell_type": "code",
   "execution_count": 38,
   "id": "e968fe88-7bab-4aab-9c47-d2631fed1a9f",
   "metadata": {},
   "outputs": [],
   "source": [
    "from pyspark.sql.functions import when"
   ]
  },
  {
   "cell_type": "code",
   "execution_count": 39,
   "id": "2b796f1c-63c2-4a3f-974e-7d3844ab5d16",
   "metadata": {},
   "outputs": [
    {
     "name": "stdout",
     "output_type": "stream",
     "text": [
      "+---------+----------+--------+----------+------+------+\n",
      "|firstname|middlename|lastname|       dob|gender|salary|\n",
      "+---------+----------+--------+----------+------+------+\n",
      "|    James|          |   Smith|1991-04-01|     M|  3000|\n",
      "|  Michael|      Rose|        |2000-05-19|     M|  4000|\n",
      "|   Robert|          |Williams|1978-09-05|     M|  4000|\n",
      "|    Maria|      Anne|   Jones|1967-12-01|     F|  4000|\n",
      "|      Jen|      Mary|   Brown|1980-02-17|     F|    -1|\n",
      "+---------+----------+--------+----------+------+------+\n",
      "\n"
     ]
    }
   ],
   "source": [
    "df.show()"
   ]
  },
  {
   "cell_type": "code",
   "execution_count": 40,
   "id": "78ff2377-333a-41fb-ab40-fd09fbb6bc28",
   "metadata": {},
   "outputs": [
    {
     "name": "stdout",
     "output_type": "stream",
     "text": [
      "+---------+----------+--------+----------+------+------+-----+\n",
      "|firstname|middlename|lastname|       dob|gender|salary|bonus|\n",
      "+---------+----------+--------+----------+------+------+-----+\n",
      "|    James|          |   Smith|1991-04-01|     M|  3000|300.0|\n",
      "|  Michael|      Rose|        |2000-05-19|     M|  4000|400.0|\n",
      "|   Robert|          |Williams|1978-09-05|     M|  4000|400.0|\n",
      "|    Maria|      Anne|   Jones|1967-12-01|     F|  4000|600.0|\n",
      "|      Jen|      Mary|   Brown|1980-02-17|     F|    -1|-0.15|\n",
      "+---------+----------+--------+----------+------+------+-----+\n",
      "\n"
     ]
    }
   ],
   "source": [
    "df.withColumn(\"bonus\",when(df.gender=='F',df.salary*0.15)\\\n",
    "             .otherwise(df.salary*0.10)).show()"
   ]
  },
  {
   "cell_type": "code",
   "execution_count": 50,
   "id": "33d215e2-dbea-4b93-90e8-85e571a30c4c",
   "metadata": {},
   "outputs": [
    {
     "data": {
      "text/html": [
       "<div>\n",
       "<style scoped>\n",
       "    .dataframe tbody tr th:only-of-type {\n",
       "        vertical-align: middle;\n",
       "    }\n",
       "\n",
       "    .dataframe tbody tr th {\n",
       "        vertical-align: top;\n",
       "    }\n",
       "\n",
       "    .dataframe thead th {\n",
       "        text-align: right;\n",
       "    }\n",
       "</style>\n",
       "<table border=\"1\" class=\"dataframe\">\n",
       "  <thead>\n",
       "    <tr style=\"text-align: right;\">\n",
       "      <th></th>\n",
       "      <th>firstname</th>\n",
       "      <th>middlename</th>\n",
       "      <th>lastname</th>\n",
       "      <th>dob</th>\n",
       "      <th>gender</th>\n",
       "      <th>salary</th>\n",
       "      <th>tax_incured</th>\n",
       "    </tr>\n",
       "  </thead>\n",
       "  <tbody>\n",
       "    <tr>\n",
       "      <th>0</th>\n",
       "      <td>James</td>\n",
       "      <td></td>\n",
       "      <td>Smith</td>\n",
       "      <td>1991-04-01</td>\n",
       "      <td>M</td>\n",
       "      <td>3000</td>\n",
       "      <td>1500.0</td>\n",
       "    </tr>\n",
       "    <tr>\n",
       "      <th>1</th>\n",
       "      <td>Michael</td>\n",
       "      <td>Rose</td>\n",
       "      <td></td>\n",
       "      <td>2000-05-19</td>\n",
       "      <td>M</td>\n",
       "      <td>4000</td>\n",
       "      <td>400.0</td>\n",
       "    </tr>\n",
       "    <tr>\n",
       "      <th>2</th>\n",
       "      <td>Robert</td>\n",
       "      <td></td>\n",
       "      <td>Williams</td>\n",
       "      <td>1978-09-05</td>\n",
       "      <td>M</td>\n",
       "      <td>4000</td>\n",
       "      <td>400.0</td>\n",
       "    </tr>\n",
       "    <tr>\n",
       "      <th>3</th>\n",
       "      <td>Maria</td>\n",
       "      <td>Anne</td>\n",
       "      <td>Jones</td>\n",
       "      <td>1967-12-01</td>\n",
       "      <td>F</td>\n",
       "      <td>4000</td>\n",
       "      <td>400.0</td>\n",
       "    </tr>\n",
       "    <tr>\n",
       "      <th>4</th>\n",
       "      <td>Jen</td>\n",
       "      <td>Mary</td>\n",
       "      <td>Brown</td>\n",
       "      <td>1980-02-17</td>\n",
       "      <td>F</td>\n",
       "      <td>-1</td>\n",
       "      <td>0.0</td>\n",
       "    </tr>\n",
       "  </tbody>\n",
       "</table>\n",
       "</div>"
      ],
      "text/plain": [
       "  firstname middlename  lastname         dob gender  salary  tax_incured\n",
       "0     James                Smith  1991-04-01      M    3000       1500.0\n",
       "1   Michael       Rose            2000-05-19      M    4000        400.0\n",
       "2    Robert             Williams  1978-09-05      M    4000        400.0\n",
       "3     Maria       Anne     Jones  1967-12-01      F    4000        400.0\n",
       "4       Jen       Mary     Brown  1980-02-17      F      -1          0.0"
      ]
     },
     "execution_count": 50,
     "metadata": {},
     "output_type": "execute_result"
    }
   ],
   "source": [
    "df.withColumn(\"tax_incured\", when (df.salary<0,0)\\\n",
    "             .when(df.salary<4000,df.salary*0.5)\\\n",
    "             .otherwise(df.salary*0.10)).toPandas()"
   ]
  },
  {
   "cell_type": "markdown",
   "id": "4623dad8-ba34-4c17-a26c-4a1d7f5a85ac",
   "metadata": {},
   "source": [
    "#### creating a Temp View"
   ]
  },
  {
   "cell_type": "code",
   "execution_count": 51,
   "id": "475a14e0-6bc6-40d4-a9fc-307ba30085f8",
   "metadata": {},
   "outputs": [],
   "source": [
    "df.createOrReplaceTempView(\"EMP\")"
   ]
  },
  {
   "cell_type": "code",
   "execution_count": 52,
   "id": "c6b502bd-bc7f-47c7-b40e-1994997df8ea",
   "metadata": {
    "scrolled": true
   },
   "outputs": [
    {
     "name": "stdout",
     "output_type": "stream",
     "text": [
      "+---------+----------+--------+----------+------+------+\n",
      "|firstname|middlename|lastname|       dob|gender|salary|\n",
      "+---------+----------+--------+----------+------+------+\n",
      "|    James|          |   Smith|1991-04-01|     M|  3000|\n",
      "|  Michael|      Rose|        |2000-05-19|     M|  4000|\n",
      "|   Robert|          |Williams|1978-09-05|     M|  4000|\n",
      "|    Maria|      Anne|   Jones|1967-12-01|     F|  4000|\n",
      "|      Jen|      Mary|   Brown|1980-02-17|     F|    -1|\n",
      "+---------+----------+--------+----------+------+------+\n",
      "\n"
     ]
    }
   ],
   "source": [
    "spark.sql(\"select * from EMP\").show()"
   ]
  },
  {
   "cell_type": "code",
   "execution_count": 54,
   "id": "7ce36f7b-3d8b-4eee-bd59-64f0d9240c9c",
   "metadata": {},
   "outputs": [
    {
     "name": "stdout",
     "output_type": "stream",
     "text": [
      "+---------+---------+-----------+\n",
      "|namespace|tableName|isTemporary|\n",
      "+---------+---------+-----------+\n",
      "|         |      emp|       true|\n",
      "+---------+---------+-----------+\n",
      "\n"
     ]
    }
   ],
   "source": [
    "spark.sql(\"show tables\").show()"
   ]
  },
  {
   "cell_type": "code",
   "execution_count": 61,
   "id": "3a1e7836-9ba4-401b-a61c-6dcb82b13a8f",
   "metadata": {},
   "outputs": [],
   "source": [
    "gender = df.gender"
   ]
  },
  {
   "cell_type": "code",
   "execution_count": 68,
   "id": "9dc1f1ce-69b1-41d1-b8c1-991f80370918",
   "metadata": {},
   "outputs": [
    {
     "name": "stdout",
     "output_type": "stream",
     "text": [
      "Column<'gender'>\n"
     ]
    }
   ],
   "source": [
    "print(gender)"
   ]
  },
  {
   "cell_type": "code",
   "execution_count": 72,
   "id": "e71cf476-4777-4d8c-b265-cee6fada997b",
   "metadata": {},
   "outputs": [],
   "source": [
    "# df = df.withColumn(\"gender\",gender)"
   ]
  },
  {
   "cell_type": "code",
   "execution_count": 58,
   "id": "41b70cef-12f0-4800-9284-e879c7fa9c19",
   "metadata": {},
   "outputs": [],
   "source": [
    "df = df.drop(\"tax_incured\")"
   ]
  },
  {
   "cell_type": "code",
   "execution_count": 63,
   "id": "034f4695-7760-49b2-994e-a7c8ef950310",
   "metadata": {},
   "outputs": [
    {
     "name": "stdout",
     "output_type": "stream",
     "text": [
      "+---------+----------+--------+----------+------+\n",
      "|firstname|middlename|lastname|       dob|salary|\n",
      "+---------+----------+--------+----------+------+\n",
      "|    James|          |   Smith|1991-04-01|  3000|\n",
      "|  Michael|      Rose|        |2000-05-19|  4000|\n",
      "|   Robert|          |Williams|1978-09-05|  4000|\n",
      "|    Maria|      Anne|   Jones|1967-12-01|  4000|\n",
      "|      Jen|      Mary|   Brown|1980-02-17|    -1|\n",
      "+---------+----------+--------+----------+------+\n",
      "\n"
     ]
    }
   ],
   "source": [
    "df.show()"
   ]
  },
  {
   "cell_type": "code",
   "execution_count": 64,
   "id": "1e2b5578-d69d-4123-867d-fcd087a0e728",
   "metadata": {},
   "outputs": [
    {
     "name": "stdout",
     "output_type": "stream",
     "text": [
      "+---------+----------+--------+----------+------+------+\n",
      "|firstname|middlename|lastname|       dob|gender|salary|\n",
      "+---------+----------+--------+----------+------+------+\n",
      "|    James|          |   Smith|1991-04-01|     M|  3000|\n",
      "|  Michael|      Rose|        |2000-05-19|     M|  4000|\n",
      "|   Robert|          |Williams|1978-09-05|     M|  4000|\n",
      "|    Maria|      Anne|   Jones|1967-12-01|     F|  4000|\n",
      "|      Jen|      Mary|   Brown|1980-02-17|     F|    -1|\n",
      "+---------+----------+--------+----------+------+------+\n",
      "\n"
     ]
    }
   ],
   "source": [
    "spark.sql(\"select * from EMP\").show()"
   ]
  },
  {
   "cell_type": "code",
   "execution_count": 73,
   "id": "3d7aed38-feea-4dc5-89ae-57b48dc0c46f",
   "metadata": {},
   "outputs": [],
   "source": [
    "spark.stop()"
   ]
  },
  {
   "cell_type": "code",
   "execution_count": null,
   "id": "fe0ec0a8-0122-4f0a-80b4-41d74a5a106a",
   "metadata": {},
   "outputs": [],
   "source": []
  }
 ],
 "metadata": {
  "kernelspec": {
   "display_name": "Python 3 (ipykernel)",
   "language": "python",
   "name": "python3"
  },
  "language_info": {
   "codemirror_mode": {
    "name": "ipython",
    "version": 3
   },
   "file_extension": ".py",
   "mimetype": "text/x-python",
   "name": "python",
   "nbconvert_exporter": "python",
   "pygments_lexer": "ipython3",
   "version": "3.10.12"
  }
 },
 "nbformat": 4,
 "nbformat_minor": 5
}
