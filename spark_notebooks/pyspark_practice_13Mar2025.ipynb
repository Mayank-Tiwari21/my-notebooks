{
 "cells": [
  {
   "cell_type": "code",
   "execution_count": 2,
   "id": "4787e8ec-1179-49be-8d1e-89f62e0042cc",
   "metadata": {},
   "outputs": [],
   "source": [
    "from pyspark.sql import SparkSession"
   ]
  },
  {
   "cell_type": "code",
   "execution_count": 3,
   "id": "17484f64-c044-429d-9952-e02ae8e56068",
   "metadata": {},
   "outputs": [
    {
     "name": "stderr",
     "output_type": "stream",
     "text": [
      "25/03/17 09:53:16 WARN Utils: Your hostname, TTNPL-8203 resolves to a loopback address: 127.0.1.1; using 10.1.243.232 instead (on interface wlp0s20f3)\n",
      "25/03/17 09:53:16 WARN Utils: Set SPARK_LOCAL_IP if you need to bind to another address\n",
      "Setting default log level to \"WARN\".\n",
      "To adjust logging level use sc.setLogLevel(newLevel). For SparkR, use setLogLevel(newLevel).\n",
      "25/03/17 09:53:17 WARN NativeCodeLoader: Unable to load native-hadoop library for your platform... using builtin-java classes where applicable\n"
     ]
    },
    {
     "name": "stdout",
     "output_type": "stream",
     "text": [
      "<pyspark.sql.session.SparkSession object at 0x72acd17f2bf0>\n"
     ]
    }
   ],
   "source": [
    "spark = SparkSession.builder\\\n",
    "        .appName(\"spark practice 13mar2025\")\\\n",
    "        .getOrCreate()\n",
    "\n",
    "print(spark)"
   ]
  },
  {
   "cell_type": "code",
   "execution_count": 4,
   "id": "a3de80b5-2e48-4c14-8b41-d76ae6f43379",
   "metadata": {},
   "outputs": [],
   "source": [
    "from pyspark.sql.types import *"
   ]
  },
  {
   "cell_type": "code",
   "execution_count": 5,
   "id": "d26c91b7-833c-40f0-be52-65916394c9e0",
   "metadata": {},
   "outputs": [],
   "source": [
    "data = [(1,\"abc\",[\"java\",\"scala\"]),\n",
    "        (2,\"xyz\",[\"python\",\"R\"]),\n",
    "        (3,\"mno\",[\"scala\",\"javaScript\"])\n",
    "       ]\n",
    "\n",
    "schema = StructType([\n",
    "    StructField(\"Id\",IntegerType(),True),\n",
    "    StructField(\"name\",StringType(),True),\n",
    "    StructField(\"languages\",ArrayType(StringType()) , True)\n",
    "])\n",
    "\n",
    "\n",
    "df = spark.createDataFrame(data =data , schema =schema)"
   ]
  },
  {
   "cell_type": "code",
   "execution_count": 6,
   "id": "6cec8ca4-e79e-4e57-bca9-ce18cda27d8c",
   "metadata": {},
   "outputs": [
    {
     "name": "stderr",
     "output_type": "stream",
     "text": [
      "                                                                                "
     ]
    },
    {
     "name": "stdout",
     "output_type": "stream",
     "text": [
      "+---+----+-------------------+\n",
      "| Id|name|          languages|\n",
      "+---+----+-------------------+\n",
      "|  1| abc|      [java, scala]|\n",
      "|  2| xyz|        [python, R]|\n",
      "|  3| mno|[scala, javaScript]|\n",
      "+---+----+-------------------+\n",
      "\n"
     ]
    }
   ],
   "source": [
    "df.show()"
   ]
  },
  {
   "cell_type": "markdown",
   "id": "c7a09059-fb94-4bf9-8aeb-cd5018f91c9c",
   "metadata": {},
   "source": [
    "#### using isin(_)"
   ]
  },
  {
   "cell_type": "code",
   "execution_count": 7,
   "id": "29a5151b-f931-44d6-8ef4-98cb8f490277",
   "metadata": {},
   "outputs": [],
   "source": [
    "from pyspark.sql.functions import explode"
   ]
  },
  {
   "cell_type": "code",
   "execution_count": 8,
   "id": "5ae2bd49-4d69-4102-a4e3-49b4e194714c",
   "metadata": {},
   "outputs": [],
   "source": [
    "listvalues = [\"java\",\"scala\"]"
   ]
  },
  {
   "cell_type": "code",
   "execution_count": 9,
   "id": "97766084-020c-4537-ad7d-3fcdb13f6509",
   "metadata": {},
   "outputs": [],
   "source": [
    "df2 = df.withColumn(\"languages\",explode(df.languages))\n"
   ]
  },
  {
   "cell_type": "code",
   "execution_count": 10,
   "id": "6bcc14a1-7696-4744-afa7-831cc07e4945",
   "metadata": {},
   "outputs": [
    {
     "name": "stdout",
     "output_type": "stream",
     "text": [
      "df2 is \n",
      "+---+----+----------+\n",
      "| Id|name| languages|\n",
      "+---+----+----------+\n",
      "|  1| abc|      java|\n",
      "|  1| abc|     scala|\n",
      "|  2| xyz|    python|\n",
      "|  2| xyz|         R|\n",
      "|  3| mno|     scala|\n",
      "|  3| mno|javaScript|\n",
      "+---+----+----------+\n",
      "\n",
      "+---+----+---------+\n",
      "| Id|name|languages|\n",
      "+---+----+---------+\n",
      "|  1| abc|     java|\n",
      "|  1| abc|    scala|\n",
      "|  3| mno|    scala|\n",
      "+---+----+---------+\n",
      "\n"
     ]
    }
   ],
   "source": [
    "print(\"df2 is \")\n",
    "df2.show()\n",
    "\n",
    "df2.filter(df2.languages.isin(listvalues)).show()"
   ]
  },
  {
   "cell_type": "code",
   "execution_count": 11,
   "id": "a914a008-008b-4b95-927a-062d04d10a84",
   "metadata": {},
   "outputs": [
    {
     "name": "stdout",
     "output_type": "stream",
     "text": [
      "+---+----+----------+\n",
      "| Id|name| languages|\n",
      "+---+----+----------+\n",
      "|  2| xyz|    python|\n",
      "|  2| xyz|         R|\n",
      "|  3| mno|javaScript|\n",
      "+---+----+----------+\n",
      "\n"
     ]
    }
   ],
   "source": [
    "df2.filter(~ df2.languages.isin(listvalues)).show()"
   ]
  },
  {
   "cell_type": "code",
   "execution_count": 12,
   "id": "11b89ef4-3d13-4901-9ed6-d7ae68356b4d",
   "metadata": {},
   "outputs": [
    {
     "name": "stdout",
     "output_type": "stream",
     "text": [
      "+---+----+----------+\n",
      "| Id|name| languages|\n",
      "+---+----+----------+\n",
      "|  2| xyz|    python|\n",
      "|  2| xyz|         R|\n",
      "|  3| mno|javaScript|\n",
      "+---+----+----------+\n",
      "\n"
     ]
    }
   ],
   "source": [
    "df2.filter(\"languages NOT IN ('java','scala')\").show()"
   ]
  },
  {
   "cell_type": "markdown",
   "id": "3bcda3c0-ae63-4702-8282-dccc78d98b9d",
   "metadata": {},
   "source": [
    "#### Group By functionality"
   ]
  },
  {
   "cell_type": "code",
   "execution_count": 13,
   "id": "77e0918c-fa37-41d0-a0f2-7c66e4bc0e4c",
   "metadata": {},
   "outputs": [],
   "source": [
    "data_e = [\n",
    "    (1,\"abc\",1,35000.0),\n",
    "    (2,\"xyz\",2,45000.0),\n",
    "    (3,\"mno\",3,42000.0),\n",
    "    (4,\"klm\",1,34000.0),\n",
    "    (5,\"fgh\",None,45000.0),\n",
    "]\n",
    "\n",
    "data_d = [\n",
    "    (1,\"IT\"),\n",
    "    (2,\"HR\"),\n",
    "    (3,\"Finance\"),\n",
    "    (4,\"Unofficial\")\n",
    "]\n",
    "\n",
    "schema_e = StructType([\n",
    "    StructField(\"id\",IntegerType(),True),\n",
    "    StructField(\"name\",StringType(),True),\n",
    "    StructField(\"Dept\",IntegerType(),True),\n",
    "    StructField(\"salary\",FloatType(),True)\n",
    "])\n",
    "\n",
    "schema_d = StructType([\n",
    "    StructField(\"dept_code\",IntegerType(),True),\n",
    "    StructField(\"dept\",StringType(),True)\n",
    "])\n",
    "\n",
    "emp_df = spark.createDataFrame(data = data_e,schema = schema_e)\n",
    "dept_df = spark.createDataFrame(data =data_d,schema =schema_d)"
   ]
  },
  {
   "cell_type": "code",
   "execution_count": 14,
   "id": "5888c398-ae09-47a3-982a-366b8c0318c6",
   "metadata": {
    "scrolled": true
   },
   "outputs": [
    {
     "name": "stdout",
     "output_type": "stream",
     "text": [
      "+---+----+----+-------+\n",
      "| id|name|Dept| salary|\n",
      "+---+----+----+-------+\n",
      "|  1| abc|   1|35000.0|\n",
      "|  2| xyz|   2|45000.0|\n",
      "|  3| mno|   3|42000.0|\n",
      "|  4| klm|   1|34000.0|\n",
      "|  5| fgh|NULL|45000.0|\n",
      "+---+----+----+-------+\n",
      "\n",
      "+---------+----------+\n",
      "|dept_code|      dept|\n",
      "+---------+----------+\n",
      "|        1|        IT|\n",
      "|        2|        HR|\n",
      "|        3|   Finance|\n",
      "|        4|Unofficial|\n",
      "+---------+----------+\n",
      "\n"
     ]
    }
   ],
   "source": [
    "emp_df.show()\n",
    "dept_df.show()"
   ]
  },
  {
   "cell_type": "markdown",
   "id": "a11c826e-1319-4daa-9532-29ac3dfc0192",
   "metadata": {},
   "source": [
    "#### joins in the spark"
   ]
  },
  {
   "cell_type": "code",
   "execution_count": 15,
   "id": "6405c5b8-007d-4c9b-a4f4-e62e8fdf6d95",
   "metadata": {},
   "outputs": [
    {
     "name": "stderr",
     "output_type": "stream",
     "text": [
      "[Stage 22:>                                                         (0 + 8) / 8]"
     ]
    },
    {
     "name": "stdout",
     "output_type": "stream",
     "text": [
      "+----+----+----+-------+---------+----------+\n",
      "|  id|name|Dept| salary|dept_code|      dept|\n",
      "+----+----+----+-------+---------+----------+\n",
      "|   5| fgh|NULL|45000.0|     NULL|      NULL|\n",
      "|   4| klm|   1|34000.0|        1|        IT|\n",
      "|   1| abc|   1|35000.0|        1|        IT|\n",
      "|   2| xyz|   2|45000.0|        2|        HR|\n",
      "|   3| mno|   3|42000.0|        3|   Finance|\n",
      "|NULL|NULL|NULL|   NULL|        4|Unofficial|\n",
      "+----+----+----+-------+---------+----------+\n",
      "\n"
     ]
    },
    {
     "name": "stderr",
     "output_type": "stream",
     "text": [
      "                                                                                "
     ]
    }
   ],
   "source": [
    "emp_df.join(dept_df,emp_df.Dept==dept_df.dept_code,\"outer\").show()"
   ]
  },
  {
   "cell_type": "code",
   "execution_count": 16,
   "id": "94c8e0e4-7016-49d5-a2f7-b4f8f0af6f50",
   "metadata": {},
   "outputs": [],
   "source": [
    "df3 = emp_df.join(dept_df,emp_df.Dept==dept_df.dept_code,\"semi\")\n"
   ]
  },
  {
   "cell_type": "code",
   "execution_count": 17,
   "id": "54ce7e41-c842-4465-b64e-813a2906f65b",
   "metadata": {},
   "outputs": [
    {
     "name": "stdout",
     "output_type": "stream",
     "text": [
      "+---+----+----+-------+\n",
      "| id|name|Dept| salary|\n",
      "+---+----+----+-------+\n",
      "|  1| abc|   1|35000.0|\n",
      "|  2| xyz|   2|45000.0|\n",
      "|  3| mno|   3|42000.0|\n",
      "|  4| klm|   1|34000.0|\n",
      "+---+----+----+-------+\n",
      "\n"
     ]
    }
   ],
   "source": [
    "emp_df.join(dept_df,emp_df.Dept==dept_df.dept_code,\"semi\").select(\"*\").orderBy(emp_df.id).show()\n"
   ]
  },
  {
   "cell_type": "code",
   "execution_count": 18,
   "id": "d0c1010f-f7a3-4956-bd1e-3669254e6e3b",
   "metadata": {},
   "outputs": [
    {
     "name": "stdout",
     "output_type": "stream",
     "text": [
      "+---+----+----+-------+\n",
      "| id|name|Dept| salary|\n",
      "+---+----+----+-------+\n",
      "|  5| fgh|NULL|45000.0|\n",
      "+---+----+----+-------+\n",
      "\n"
     ]
    }
   ],
   "source": [
    "emp_df.join(dept_df,emp_df.Dept==dept_df.dept_code,\"anti\").select(\"*\").orderBy(emp_df.id).show()"
   ]
  },
  {
   "cell_type": "code",
   "execution_count": 19,
   "id": "870d652f-b0b2-4b88-8603-3387e04cc1c4",
   "metadata": {},
   "outputs": [
    {
     "name": "stdout",
     "output_type": "stream",
     "text": [
      "+---+----+----+-------+\n",
      "| id|name|Dept| salary|\n",
      "+---+----+----+-------+\n",
      "|  1| abc|   1|35000.0|\n",
      "|  2| xyz|   2|45000.0|\n",
      "|  3| mno|   3|42000.0|\n",
      "|  4| klm|   1|34000.0|\n",
      "+---+----+----+-------+\n",
      "\n"
     ]
    }
   ],
   "source": [
    "emp_df.join(dept_df,emp_df.Dept==dept_df.dept_code,\"semi\").select(\"*\").orderBy(emp_df.id).show()\n"
   ]
  },
  {
   "cell_type": "code",
   "execution_count": 20,
   "id": "8d8dde10-ec3f-4eb3-bb72-20aebd197e38",
   "metadata": {},
   "outputs": [
    {
     "data": {
      "text/plain": [
       "DataFrame[id: int]"
      ]
     },
     "execution_count": 20,
     "metadata": {},
     "output_type": "execute_result"
    }
   ],
   "source": [
    "emp_df.join(dept_df,emp_df.Dept==dept_df.dept_code,\"semi\").select(\"*\").select(emp_df.id,)"
   ]
  },
  {
   "cell_type": "code",
   "execution_count": 21,
   "id": "d85c1168-e9a8-4e58-bebc-04494d11bd8f",
   "metadata": {},
   "outputs": [
    {
     "name": "stdout",
     "output_type": "stream",
     "text": [
      "+---+----+----+-------+\n",
      "| id|name|Dept| salary|\n",
      "+---+----+----+-------+\n",
      "|  1| abc|   1|35000.0|\n",
      "|  2| xyz|   2|45000.0|\n",
      "|  3| mno|   3|42000.0|\n",
      "|  4| klm|   1|34000.0|\n",
      "|  5| fgh|NULL|45000.0|\n",
      "+---+----+----+-------+\n",
      "\n"
     ]
    }
   ],
   "source": [
    "emp_df.show()"
   ]
  },
  {
   "cell_type": "code",
   "execution_count": 22,
   "id": "227734b6-62ad-4dea-9188-ce8b2dae7804",
   "metadata": {},
   "outputs": [],
   "source": [
    "spark.stop()"
   ]
  },
  {
   "cell_type": "code",
   "execution_count": null,
   "id": "a50a9464-1068-4964-8cb5-099d849364e5",
   "metadata": {},
   "outputs": [],
   "source": []
  }
 ],
 "metadata": {
  "kernelspec": {
   "display_name": "Python 3 (ipykernel)",
   "language": "python",
   "name": "python3"
  },
  "language_info": {
   "codemirror_mode": {
    "name": "ipython",
    "version": 3
   },
   "file_extension": ".py",
   "mimetype": "text/x-python",
   "name": "python",
   "nbconvert_exporter": "python",
   "pygments_lexer": "ipython3",
   "version": "3.10.12"
  }
 },
 "nbformat": 4,
 "nbformat_minor": 5
}
