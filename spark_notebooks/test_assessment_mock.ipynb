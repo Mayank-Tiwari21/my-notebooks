{
 "cells": [
  {
   "cell_type": "code",
   "execution_count": 1,
   "id": "e6964853-635d-44b0-9d0f-dfabd0821390",
   "metadata": {},
   "outputs": [],
   "source": [
    "from pyspark.sql import SparkSession"
   ]
  },
  {
   "cell_type": "code",
   "execution_count": 2,
   "id": "9977cc6d-9236-42c0-88d0-4722751ca156",
   "metadata": {},
   "outputs": [
    {
     "name": "stderr",
     "output_type": "stream",
     "text": [
      "25/03/23 17:32:12 WARN Utils: Your hostname, TTNPL-8203 resolves to a loopback address: 127.0.1.1; using 192.168.163.68 instead (on interface wlp0s20f3)\n",
      "25/03/23 17:32:12 WARN Utils: Set SPARK_LOCAL_IP if you need to bind to another address\n",
      "Setting default log level to \"WARN\".\n",
      "To adjust logging level use sc.setLogLevel(newLevel). For SparkR, use setLogLevel(newLevel).\n",
      "25/03/23 17:32:12 WARN NativeCodeLoader: Unable to load native-hadoop library for your platform... using builtin-java classes where applicable\n"
     ]
    },
    {
     "name": "stdout",
     "output_type": "stream",
     "text": [
      "<pyspark.sql.session.SparkSession object at 0x74d55010b430>\n"
     ]
    }
   ],
   "source": [
    "spark =SparkSession.builder.appName(\"Mock Session\").getOrCreate()\n",
    "print(spark)"
   ]
  },
  {
   "cell_type": "code",
   "execution_count": 3,
   "id": "42015791-78a0-42ff-a5cd-8ea12adb4240",
   "metadata": {},
   "outputs": [],
   "source": [
    "rdd = spark.sparkContext.parallelize([(\"Brooke\", 20), (\"Denny\", 31), (\"Jules\", 30), (\"TD\", 35), (\"Brooke\", 25)])"
   ]
  },
  {
   "cell_type": "code",
   "execution_count": 7,
   "id": "f3ffc0f6-ed8e-42fc-b9e3-e2b27ee2f80a",
   "metadata": {},
   "outputs": [
    {
     "data": {
      "text/plain": [
       "[('Brooke', 25), ('Denny', 31), ('TD', 35), ('Jules', 30)]"
      ]
     },
     "execution_count": 7,
     "metadata": {},
     "output_type": "execute_result"
    }
   ],
   "source": [
    "rdd2  =rdd.reduceByKey(lambda x,y:max(x,y))\n",
    "rdd2.collect()"
   ]
  },
  {
   "cell_type": "code",
   "execution_count": 8,
   "id": "c4b1b712-4948-494f-84e4-9da3192a2fd5",
   "metadata": {},
   "outputs": [],
   "source": [
    "rdd3 = rdd.aggregateByKey(\n",
    "    (0,0),\n",
    "    lambda acc , value: (acc[0]+value , acc[1]+1),\n",
    "    lambda acc1,acc2 : (acc1[0]+acc2[0],acc2[1]+acc1[1])\n",
    ")"
   ]
  },
  {
   "cell_type": "code",
   "execution_count": 13,
   "id": "a5fa75c7-e649-4b47-8b74-777414b1068a",
   "metadata": {},
   "outputs": [],
   "source": [
    "rdd4 = rdd3.mapValues(lambda x:x[0]/x[1])"
   ]
  },
  {
   "cell_type": "code",
   "execution_count": 14,
   "id": "ae0aac15-809f-4e40-9366-eef5e0f49da8",
   "metadata": {},
   "outputs": [],
   "source": [
    "dataFrame =  rdd4.toDF([\"name\",\"avg_age\"])"
   ]
  },
  {
   "cell_type": "code",
   "execution_count": 15,
   "id": "6383d375-a238-4231-890f-6fc3d063d146",
   "metadata": {},
   "outputs": [
    {
     "name": "stdout",
     "output_type": "stream",
     "text": [
      "+------+-------+\n",
      "|  name|avg_age|\n",
      "+------+-------+\n",
      "|Brooke|   22.5|\n",
      "| Denny|   31.0|\n",
      "|    TD|   35.0|\n",
      "| Jules|   30.0|\n",
      "+------+-------+\n",
      "\n"
     ]
    }
   ],
   "source": [
    "dataFrame.show()"
   ]
  },
  {
   "cell_type": "code",
   "execution_count": 17,
   "id": "5969c788-9c6f-4934-a40d-864be2b9387e",
   "metadata": {},
   "outputs": [
    {
     "name": "stderr",
     "output_type": "stream",
     "text": [
      "                                                                                "
     ]
    }
   ],
   "source": [
    "df = spark.read.csv(path = \"file:///home/hdoop/notebooks/data/test_assessment_mock\",inferSchema = True,header=True)"
   ]
  },
  {
   "cell_type": "code",
   "execution_count": 18,
   "id": "0accac49-44a3-411f-9a51-0c5b31acba72",
   "metadata": {},
   "outputs": [],
   "source": [
    "df.createTempView(\"temp\")"
   ]
  },
  {
   "cell_type": "code",
   "execution_count": 20,
   "id": "eb6d5f7a-6af6-4405-b9a1-1dbc5bb70319",
   "metadata": {},
   "outputs": [
    {
     "name": "stdout",
     "output_type": "stream",
     "text": [
      "root\n",
      " |-- date: integer (nullable = true)\n",
      " |-- delay: integer (nullable = true)\n",
      " |-- distance: integer (nullable = true)\n",
      " |-- origin: string (nullable = true)\n",
      " |-- destination: string (nullable = true)\n",
      "\n"
     ]
    }
   ],
   "source": [
    "df.printSchema()"
   ]
  },
  {
   "cell_type": "code",
   "execution_count": 28,
   "id": "1be95f68-3ab9-405e-a430-3bae5ac73f33",
   "metadata": {},
   "outputs": [
    {
     "name": "stderr",
     "output_type": "stream",
     "text": [
      "[Stage 35:===========================================>              (6 + 2) / 8]"
     ]
    },
    {
     "name": "stdout",
     "output_type": "stream",
     "text": [
      "+---------+---------+------+\n",
      "|min_delay|max_delay|origin|\n",
      "+---------+---------+------+\n",
      "|-15      |401      |GEG   |\n",
      "|-27      |428      |BUR   |\n",
      "|-19      |414      |GRB   |\n",
      "|-23      |435      |GTF   |\n",
      "|-21      |403      |GRR   |\n",
      "|-21      |353      |EUG   |\n",
      "|-27      |745      |GSO   |\n",
      "|-14      |135      |BTM   |\n",
      "|-15      |196      |COD   |\n",
      "|-30      |530      |FAR   |\n",
      "+---------+---------+------+\n",
      "only showing top 10 rows\n",
      "\n"
     ]
    },
    {
     "name": "stderr",
     "output_type": "stream",
     "text": [
      "                                                                                "
     ]
    }
   ],
   "source": [
    "spark.sql('''select min(delay) as min_delay,\n",
    "        max(delay) as max_delay,\n",
    "        origin\n",
    "        from temp\n",
    "        group by origin''' ).show(truncate = False,n=10)"
   ]
  },
  {
   "cell_type": "code",
   "execution_count": 32,
   "id": "f8687666-bb5e-449e-9e92-5d7af45d610c",
   "metadata": {},
   "outputs": [
    {
     "name": "stderr",
     "output_type": "stream",
     "text": [
      "                                                                                "
     ]
    }
   ],
   "source": [
    "c = df.select(df.origin).distinct().count()"
   ]
  },
  {
   "cell_type": "code",
   "execution_count": 33,
   "id": "6325915d-ecd6-4de5-bd96-3148cedf5d7f",
   "metadata": {},
   "outputs": [
    {
     "name": "stdout",
     "output_type": "stream",
     "text": [
      "255\n"
     ]
    }
   ],
   "source": [
    "print(c)"
   ]
  },
  {
   "cell_type": "code",
   "execution_count": 42,
   "id": "c0e18fba-cce4-452e-ae4b-6728b94e3624",
   "metadata": {},
   "outputs": [],
   "source": [
    "from pyspark.sql.functions import max,min,col,expr"
   ]
  },
  {
   "cell_type": "code",
   "execution_count": 40,
   "id": "f8b51bf7-a32b-4539-8df5-0fb356f91140",
   "metadata": {},
   "outputs": [],
   "source": [
    "max_min_delay_df = df.groupby(df.origin).agg(\n",
    "    \n",
    "    max(\"delay\").alias(\"max_delay\"),\n",
    "    min(\"delay\").alias(\"min_delay\")\n",
    ")"
   ]
  },
  {
   "cell_type": "code",
   "execution_count": 47,
   "id": "68433985-4bfc-4804-802f-236c5ede7712",
   "metadata": {},
   "outputs": [],
   "source": [
    "max_min_delay_df2 = max_min_delay_df.withColumn(\"adjusted_max_delay\",1.5*col(\"max_delay\"))"
   ]
  },
  {
   "cell_type": "code",
   "execution_count": 48,
   "id": "2e6852ca-aa51-43e0-aa6c-c5a72e62eca9",
   "metadata": {},
   "outputs": [],
   "source": [
    "from pyspark.sql.functions import md5"
   ]
  },
  {
   "cell_type": "code",
   "execution_count": 49,
   "id": "764aac72-bfe7-4fc2-b30e-3b623451249e",
   "metadata": {},
   "outputs": [],
   "source": [
    "df2  = max_min_delay_df2.withColumn(\"enc_origin\",md5(\"origin\"))"
   ]
  },
  {
   "cell_type": "code",
   "execution_count": 50,
   "id": "9801376b-a3f5-4675-84b7-36231f9bf8d2",
   "metadata": {},
   "outputs": [
    {
     "name": "stdout",
     "output_type": "stream",
     "text": [
      "root\n",
      " |-- origin: string (nullable = true)\n",
      " |-- max_delay: integer (nullable = true)\n",
      " |-- min_delay: integer (nullable = true)\n",
      " |-- adjusted_max_delay: double (nullable = true)\n",
      " |-- enc_origin: string (nullable = true)\n",
      "\n"
     ]
    }
   ],
   "source": [
    "df2.printSchema()"
   ]
  },
  {
   "cell_type": "code",
   "execution_count": 51,
   "id": "fcec6052-8f76-495f-82e3-d147eafec2d1",
   "metadata": {},
   "outputs": [
    {
     "data": {
      "text/plain": [
       "DataFrame[max_delay: int, min_delay: int, adjusted_max_delay: double, enc_origin: string]"
      ]
     },
     "execution_count": 51,
     "metadata": {},
     "output_type": "execute_result"
    }
   ],
   "source": [
    "df2.drop(df.origin)"
   ]
  },
  {
   "cell_type": "code",
   "execution_count": 55,
   "id": "f73b2bbd-29ea-43ea-a563-0637ecb6a201",
   "metadata": {},
   "outputs": [],
   "source": [
    "df3 = df2.drop(df2.origin)"
   ]
  },
  {
   "cell_type": "code",
   "execution_count": 56,
   "id": "dde31a91-e64f-46f2-83f3-478f594fe9d6",
   "metadata": {},
   "outputs": [
    {
     "name": "stderr",
     "output_type": "stream",
     "text": [
      "[Stage 59:==================================================>       (7 + 1) / 8]"
     ]
    },
    {
     "name": "stdout",
     "output_type": "stream",
     "text": [
      "+---------+---------+------------------+--------------------+\n",
      "|max_delay|min_delay|adjusted_max_delay|          enc_origin|\n",
      "+---------+---------+------------------+--------------------+\n",
      "|      401|      -15|             601.5|0d403b92007a67a49...|\n",
      "|      428|      -27|             642.0|ed15ffd6ff72d4444...|\n",
      "|      414|      -19|             621.0|50725d49d336ca550...|\n",
      "|      435|      -23|             652.5|53596a1c21dd707b4...|\n",
      "|      403|      -21|             604.5|ae52e133c0058654f...|\n",
      "|      353|      -21|             529.5|687e7a185e12ec984...|\n",
      "|      745|      -27|            1117.5|96f70dbef1131b89b...|\n",
      "|      135|      -14|             202.5|228f6d2c84eb95ee5...|\n",
      "|      196|      -15|             294.0|5030551cd5ca2f564...|\n",
      "|      530|      -30|             795.0|31234537adb52d5df...|\n",
      "|      236|      -21|             354.0|7a5912423e6c9aea0...|\n",
      "|      920|      -22|            1380.0|cf4c24e87f3bf7a7b...|\n",
      "|      808|      -29|            1212.0|dd395d6201581ad21...|\n",
      "|      259|      -11|             388.5|efcc21955cfbe7847...|\n",
      "|      166|      -26|             249.0|670a898e8728e1c7a...|\n",
      "|      822|      -23|            1233.0|ba02b273ad9fb7dc1...|\n",
      "|      273|      -23|             409.5|ad3c9cf2d6da1c293...|\n",
      "|      319|      -44|             478.5|d912d6fe776b2d011...|\n",
      "|     1461|      -19|            2191.5|79577141a075acfbe...|\n",
      "|      425|      -18|             637.5|7a10057d5cafe343c...|\n",
      "+---------+---------+------------------+--------------------+\n",
      "only showing top 20 rows\n",
      "\n"
     ]
    },
    {
     "name": "stderr",
     "output_type": "stream",
     "text": [
      "                                                                                "
     ]
    }
   ],
   "source": [
    "df3.show()\n"
   ]
  },
  {
   "cell_type": "code",
   "execution_count": 59,
   "id": "5e33e434-0cc1-473e-bd0c-48cacd6af278",
   "metadata": {},
   "outputs": [
    {
     "ename": "ImportError",
     "evalue": "cannot import name 'otherwise' from 'pyspark.sql.functions' (/home/hdoop/.local/lib/python3.10/site-packages/pyspark/sql/functions.py)",
     "output_type": "error",
     "traceback": [
      "\u001b[0;31m---------------------------------------------------------------------------\u001b[0m",
      "\u001b[0;31mImportError\u001b[0m                               Traceback (most recent call last)",
      "Cell \u001b[0;32mIn[59], line 1\u001b[0m\n\u001b[0;32m----> 1\u001b[0m \u001b[38;5;28;01mfrom\u001b[39;00m\u001b[38;5;250m \u001b[39m\u001b[38;5;21;01mpyspark\u001b[39;00m\u001b[38;5;21;01m.\u001b[39;00m\u001b[38;5;21;01msql\u001b[39;00m\u001b[38;5;21;01m.\u001b[39;00m\u001b[38;5;21;01mfunctions\u001b[39;00m\u001b[38;5;250m \u001b[39m\u001b[38;5;28;01mimport\u001b[39;00m asc,desc,when, otherwise\n",
      "\u001b[0;31mImportError\u001b[0m: cannot import name 'otherwise' from 'pyspark.sql.functions' (/home/hdoop/.local/lib/python3.10/site-packages/pyspark/sql/functions.py)"
     ]
    }
   ],
   "source": [
    "from pyspark.sql.functions import asc,desc,when, otherwise"
   ]
  },
  {
   "cell_type": "code",
   "execution_count": 65,
   "id": "4d5d5cda-4006-4d08-8489-54f89c113ba2",
   "metadata": {},
   "outputs": [],
   "source": [
    "df4 = df.withColumn(\"Flight_Delays\",\n",
    "                    when(df.delay>360,\"Very Long Delays\")\\\n",
    "                   .when(df.delay>120,\"Long Delays\")\\\n",
    "                   .when(df.delay>60,\"Short Delays\")\\\n",
    "                   .when(df.delay>0,\"Tolerabel Delays\")\\\n",
    "                   .when(df.delay == 0,\"No Delays\")\\\n",
    "                   .otherwise(\"Early\")).orderBy(df.origin.desc(),df.delay.desc())"
   ]
  },
  {
   "cell_type": "code",
   "execution_count": 66,
   "id": "014d185d-f2b8-4155-8568-9d6539a41ddd",
   "metadata": {},
   "outputs": [
    {
     "name": "stderr",
     "output_type": "stream",
     "text": [
      "                                                                                "
     ]
    },
    {
     "name": "stdout",
     "output_type": "stream",
     "text": [
      "+-------+-----+--------+------+-----------+----------------+\n",
      "|   date|delay|distance|origin|destination|   Flight_Delays|\n",
      "+-------+-----+--------+------+-----------+----------------+\n",
      "|3281505|  475|     139|   YUM|        PHX|Very Long Delays|\n",
      "|2080600|  347|     206|   YUM|        LAX|     Long Delays|\n",
      "|2210600|  333|     206|   YUM|        LAX|     Long Delays|\n",
      "|3291030|  285|     139|   YUM|        PHX|     Long Delays|\n",
      "|1040600|  267|     206|   YUM|        LAX|     Long Delays|\n",
      "|1261532|  236|     206|   YUM|        LAX|     Long Delays|\n",
      "|2230600|  231|     206|   YUM|        LAX|     Long Delays|\n",
      "|2201605|  230|     139|   YUM|        PHX|     Long Delays|\n",
      "|2220600|  172|     206|   YUM|        LAX|     Long Delays|\n",
      "|3180500|  154|     206|   YUM|        LAX|     Long Delays|\n",
      "|2201530|  135|     206|   YUM|        LAX|     Long Delays|\n",
      "|1291918|   97|     206|   YUM|        LAX|    Short Delays|\n",
      "|3021530|   97|     206|   YUM|        LAX|    Short Delays|\n",
      "|2171605|   95|     139|   YUM|        PHX|    Short Delays|\n",
      "|1251532|   82|     206|   YUM|        LAX|    Short Delays|\n",
      "|2281530|   79|     206|   YUM|        LAX|    Short Delays|\n",
      "|2171859|   74|     139|   YUM|        PHX|    Short Delays|\n",
      "|3191846|   63|     206|   YUM|        LAX|    Short Delays|\n",
      "|1110600|   53|     206|   YUM|        LAX|Tolerabel Delays|\n",
      "|3141846|   52|     206|   YUM|        LAX|Tolerabel Delays|\n",
      "+-------+-----+--------+------+-----------+----------------+\n",
      "only showing top 20 rows\n",
      "\n"
     ]
    }
   ],
   "source": [
    "df4.show()"
   ]
  },
  {
   "cell_type": "code",
   "execution_count": 76,
   "id": "d407d340-83a9-4fb6-9ed9-d6deb7151d66",
   "metadata": {},
   "outputs": [],
   "source": [
    "ndf= df.select(df.origin,df.delay).where(df.delay>20).groupBy(df.origin).agg(min(\"delay\").alias(\"min_delay\"))"
   ]
  },
  {
   "cell_type": "code",
   "execution_count": 94,
   "id": "9f6ba84c-2a8d-4cbc-9a38-b403a3075d5e",
   "metadata": {},
   "outputs": [],
   "source": [
    "df5 = df.select(df.destination,df.origin,df.delay).join(ndf.select(ndf.min_delay) , on = (ndf.origin == df.origin)&(ndf.min_delay == df.delay))"
   ]
  },
  {
   "cell_type": "code",
   "execution_count": 95,
   "id": "5103a915-21f7-4269-9c99-12a5e4147cf2",
   "metadata": {},
   "outputs": [
    {
     "name": "stderr",
     "output_type": "stream",
     "text": [
      "[Stage 84:===========================================>              (6 + 2) / 8]"
     ]
    },
    {
     "name": "stdout",
     "output_type": "stream",
     "text": [
      "+-----------+------+-----+---------+\n",
      "|destination|origin|delay|min_delay|\n",
      "+-----------+------+-----+---------+\n",
      "|        DTW|   ABE|   33|       33|\n",
      "|        ATL|   ABE|   25|       25|\n",
      "|        ATL|   ABE|   25|       25|\n",
      "|        ORD|   ABE|   24|       24|\n",
      "|        ORD|   ABE|   24|       24|\n",
      "|        DFW|   ABI|   26|       26|\n",
      "|        DFW|   ABI|   22|       22|\n",
      "|        DFW|   ABI|   22|       22|\n",
      "|        DFW|   ABI|   22|       22|\n",
      "|        DFW|   ABI|   22|       22|\n",
      "|        DFW|   ABI|   22|       22|\n",
      "|        DFW|   ABI|   22|       22|\n",
      "|        DFW|   ABI|   22|       22|\n",
      "|        DFW|   ABI|   22|       22|\n",
      "|        DFW|   ABI|   22|       22|\n",
      "|        DFW|   ABI|   22|       22|\n",
      "|        DFW|   ABI|   22|       22|\n",
      "|        DFW|   ABI|   22|       22|\n",
      "|        DFW|   ABI|   22|       22|\n",
      "|        DFW|   ABI|   22|       22|\n",
      "+-----------+------+-----+---------+\n",
      "only showing top 20 rows\n",
      "\n"
     ]
    },
    {
     "name": "stderr",
     "output_type": "stream",
     "text": [
      "                                                                                "
     ]
    }
   ],
   "source": [
    "df5.show()"
   ]
  },
  {
   "cell_type": "markdown",
   "id": "b9f68477-904c-4853-8f52-17dec54e6140",
   "metadata": {},
   "source": [
    "#### ques 11 onwards"
   ]
  },
  {
   "cell_type": "code",
   "execution_count": 96,
   "id": "6e1f29af-d546-4d6b-9370-ef1570eeb26a",
   "metadata": {},
   "outputs": [],
   "source": [
    "\n",
    "from pyspark.sql.types import *"
   ]
  },
  {
   "cell_type": "code",
   "execution_count": 105,
   "id": "b7f0a1d9-f15b-45f2-aefe-2406e5efd7f2",
   "metadata": {},
   "outputs": [],
   "source": [
    "data = [ (1, 10),\n",
    "    (1, 12),\n",
    "    (1, 6),\n",
    "    (2, 5),\n",
    "    (2, 6),\n",
    "    (3, 9),\n",
    "    (3, 56)]\n",
    "\n",
    "rdd = spark.sparkContext.parallelize(data)"
   ]
  },
  {
   "cell_type": "code",
   "execution_count": 109,
   "id": "97a1d165-4c88-4d97-b5c4-ac39e7ce7da7",
   "metadata": {},
   "outputs": [
    {
     "data": {
      "text/plain": [
       "[(1, [6, 10, 12]), (2, [5, 6]), (3, [9, 56])]"
      ]
     },
     "execution_count": 109,
     "metadata": {},
     "output_type": "execute_result"
    }
   ],
   "source": [
    "rdd.groupByKey().mapValues(lambda x: sorted(list(x))).collect()"
   ]
  },
  {
   "cell_type": "code",
   "execution_count": 110,
   "id": "c05979e7-5d84-47fc-95c7-20563f8410b1",
   "metadata": {},
   "outputs": [],
   "source": [
    "data  = [(1,1),\n",
    "        (1,2),\n",
    "        (1,5),\n",
    "        (2,95),\n",
    "        (2,3)]\n",
    "rdd = spark.sparkContext.parallelize(data)"
   ]
  },
  {
   "cell_type": "code",
   "execution_count": 112,
   "id": "3c62ce09-91c8-43c2-bc58-8855b5a83ade",
   "metadata": {},
   "outputs": [],
   "source": [
    "rdd2  = rdd.aggregateByKey(\n",
    "    (0,0),\n",
    "    lambda acc,value: (acc[0]+value,acc[1]+1),\n",
    "    lambda acc1,acc2: (acc1[0]+acc2[0],acc1[1]+acc2[1])\n",
    ")"
   ]
  },
  {
   "cell_type": "code",
   "execution_count": 113,
   "id": "88a5e11b-da2c-4729-a9bd-6595b7995a24",
   "metadata": {},
   "outputs": [
    {
     "data": {
      "text/plain": [
       "[(1, (8, 3)), (2, (98, 2))]"
      ]
     },
     "execution_count": 113,
     "metadata": {},
     "output_type": "execute_result"
    }
   ],
   "source": [
    "rdd2.collect()"
   ]
  },
  {
   "cell_type": "code",
   "execution_count": 120,
   "id": "b52ad6ca-75ae-436c-8d91-fa82355cd8e3",
   "metadata": {},
   "outputs": [],
   "source": [
    "def func(n):\n",
    "    sum :int = 0\n",
    "    for i in range(n+1):\n",
    "        sum +=i\n",
    "    return sum"
   ]
  },
  {
   "cell_type": "code",
   "execution_count": 125,
   "id": "8851903b-b48b-4bb9-a872-61f3f1d9de6f",
   "metadata": {},
   "outputs": [],
   "source": [
    "rdd3 = rdd2.map(lambda x:(x[0],round(x[1][0]/func(x[1][1]),2)))"
   ]
  },
  {
   "cell_type": "code",
   "execution_count": 126,
   "id": "8dbff907-513e-469b-9fb4-13af2232e8cc",
   "metadata": {},
   "outputs": [
    {
     "data": {
      "text/plain": [
       "[(1, 1.33), (2, 32.67)]"
      ]
     },
     "execution_count": 126,
     "metadata": {},
     "output_type": "execute_result"
    }
   ],
   "source": [
    "rdd3.collect()"
   ]
  },
  {
   "cell_type": "code",
   "execution_count": null,
   "id": "d23cd8c2-aa42-424b-875d-1eedeb4e6e43",
   "metadata": {},
   "outputs": [],
   "source": []
  }
 ],
 "metadata": {
  "kernelspec": {
   "display_name": "Python 3 (ipykernel)",
   "language": "python",
   "name": "python3"
  },
  "language_info": {
   "codemirror_mode": {
    "name": "ipython",
    "version": 3
   },
   "file_extension": ".py",
   "mimetype": "text/x-python",
   "name": "python",
   "nbconvert_exporter": "python",
   "pygments_lexer": "ipython3",
   "version": "3.10.12"
  }
 },
 "nbformat": 4,
 "nbformat_minor": 5
}
