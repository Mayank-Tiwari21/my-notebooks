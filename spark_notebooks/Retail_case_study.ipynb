{
 "cells": [
  {
   "cell_type": "code",
   "execution_count": 15,
   "id": "813fd8cb-ae1e-496d-a126-84c03f9eb502",
   "metadata": {},
   "outputs": [
    {
     "name": "stdout",
     "output_type": "stream",
     "text": [
      "<pyspark.sql.session.SparkSession object at 0x72f01c6fb1f0>\n"
     ]
    }
   ],
   "source": [
    "import findspark\n",
    "findspark.init()  # Initialize findspark\n",
    "\n",
    "from pyspark.sql import SparkSession\n",
    "\n",
    "spark = SparkSession.builder \\\n",
    "    .appName(\"PySpark for Retail_case_study\") \\\n",
    "    .getOrCreate()\n",
    "\n",
    "# Verify SparkSession is created\n",
    "print(spark)"
   ]
  },
  {
   "cell_type": "code",
   "execution_count": 28,
   "id": "404d21e9-2c8e-4d2b-9cdb-8aa62e136a6c",
   "metadata": {},
   "outputs": [],
   "source": [
    "import pandas as pd"
   ]
  },
  {
   "cell_type": "code",
   "execution_count": 23,
   "id": "a28ff9e1-1505-44f3-88be-e1ba81bca1e0",
   "metadata": {},
   "outputs": [],
   "source": [
    "from pyspark.sql.functions import to_date"
   ]
  },
  {
   "cell_type": "code",
   "execution_count": 41,
   "id": "5310fa76-1f88-4336-8887-0470d432ca18",
   "metadata": {},
   "outputs": [],
   "source": [
    "from pyspark.sql.types import *\n",
    "\n",
    "\n",
    "\n",
    "\n",
    "\n",
    "customer_df = spark.read.csv(path='/home/hdoop/Docs/spark_files/case_study_analysis/Customer.csv',header=True,inferSchema = True)"
   ]
  },
  {
   "cell_type": "code",
   "execution_count": 42,
   "id": "cb3d998f-a7df-408d-83b3-ea9216d8a783",
   "metadata": {},
   "outputs": [
    {
     "name": "stdout",
     "output_type": "stream",
     "text": [
      "+-----------+------+------+---------+\n",
      "|customer_Id|   DOB|Gender|city_code|\n",
      "+-----------+------+------+---------+\n",
      "|     268408|2-1-70|     M|        4|\n",
      "|     269696|7-1-70|     F|        8|\n",
      "+-----------+------+------+---------+\n",
      "only showing top 2 rows\n",
      "\n"
     ]
    }
   ],
   "source": [
    "customer_df.show(n=2)"
   ]
  },
  {
   "cell_type": "code",
   "execution_count": 43,
   "id": "b44c44e1-16d8-4304-8e0a-d6393d44e909",
   "metadata": {},
   "outputs": [
    {
     "name": "stdout",
     "output_type": "stream",
     "text": [
      "root\n",
      " |-- customer_Id: integer (nullable = true)\n",
      " |-- DOB: string (nullable = true)\n",
      " |-- Gender: string (nullable = true)\n",
      " |-- city_code: integer (nullable = true)\n",
      "\n"
     ]
    }
   ],
   "source": [
    "customer_df.printSchema()"
   ]
  },
  {
   "cell_type": "code",
   "execution_count": 44,
   "id": "ee4b1c83-b02f-43d1-8375-b56c41472160",
   "metadata": {},
   "outputs": [],
   "source": [
    "customer_df = customer_df.withColumn(\"DOB\",to_date(customer_df.DOB))"
   ]
  },
  {
   "cell_type": "code",
   "execution_count": 45,
   "id": "9ceab939-5353-4bc1-8daa-e12d10d5a8e4",
   "metadata": {},
   "outputs": [
    {
     "name": "stdout",
     "output_type": "stream",
     "text": [
      "root\n",
      " |-- customer_Id: integer (nullable = true)\n",
      " |-- DOB: date (nullable = true)\n",
      " |-- Gender: string (nullable = true)\n",
      " |-- city_code: integer (nullable = true)\n",
      "\n"
     ]
    }
   ],
   "source": [
    "customer_df.printSchema()"
   ]
  },
  {
   "cell_type": "code",
   "execution_count": 46,
   "id": "86f49aea-2bc6-447c-bd40-822c3983eef4",
   "metadata": {},
   "outputs": [
    {
     "name": "stdout",
     "output_type": "stream",
     "text": [
      "+-----------+----+------+---------+\n",
      "|customer_Id| DOB|Gender|city_code|\n",
      "+-----------+----+------+---------+\n",
      "|     268408|NULL|     M|        4|\n",
      "|     269696|NULL|     F|        8|\n",
      "|     268159|NULL|     F|        8|\n",
      "|     270181|NULL|     F|        2|\n",
      "|     268073|NULL|     M|        1|\n",
      "|     273216|NULL|     F|        5|\n",
      "|     266929|NULL|     M|        8|\n",
      "|     275152|NULL|     M|        4|\n",
      "|     275034|NULL|     F|        4|\n",
      "|     273966|NULL|     M|        8|\n",
      "|     270829|NULL|     F|        8|\n",
      "|     266997|NULL|     M|        9|\n",
      "|     272455|NULL|     M|        7|\n",
      "|     274593|NULL|     M|       10|\n",
      "|     273391|NULL|     F|        2|\n",
      "|     267657|NULL|     F|        7|\n",
      "|     271344|NULL|     F|        5|\n",
      "|     268275|NULL|     F|        7|\n",
      "|     274630|NULL|     M|        4|\n",
      "|     273541|NULL|     M|        4|\n",
      "+-----------+----+------+---------+\n",
      "only showing top 20 rows\n",
      "\n"
     ]
    }
   ],
   "source": [
    "customer_df.show()"
   ]
  },
  {
   "cell_type": "code",
   "execution_count": 12,
   "id": "0f2da097-1490-4e40-947b-5c5a8ba8915d",
   "metadata": {},
   "outputs": [],
   "source": [
    "customer_df = customer_df.withColumn(\"city_code\",customer_df.city_code.cast('Integer'))"
   ]
  },
  {
   "cell_type": "code",
   "execution_count": 14,
   "id": "e421a040-98af-46d7-b3f8-4036c27ef955",
   "metadata": {},
   "outputs": [
    {
     "name": "stdout",
     "output_type": "stream",
     "text": [
      "root\n",
      " |-- customer_Id: string (nullable = true)\n",
      " |-- DOB: date (nullable = true)\n",
      " |-- Gender: string (nullable = true)\n",
      " |-- city_code: integer (nullable = true)\n",
      "\n"
     ]
    }
   ],
   "source": [
    "customer_df.printSchema()"
   ]
  },
  {
   "cell_type": "code",
   "execution_count": 18,
   "id": "9e3efcc1-770a-47c6-9408-052518c2dbd9",
   "metadata": {},
   "outputs": [],
   "source": [
    "product_heirarchy = spark.read.csv(path ='/home/hdoop/Docs/spark_files/case_study_analysis/prod_cat_info.csv',header=True,inferSchema=True)"
   ]
  },
  {
   "cell_type": "code",
   "execution_count": 19,
   "id": "a0f2c000-6ef9-4ca0-837d-ff17be921ca3",
   "metadata": {},
   "outputs": [
    {
     "name": "stdout",
     "output_type": "stream",
     "text": [
      "+-------------+----------------+-----------------+-------------------+\n",
      "|prod_cat_code|        prod_cat|prod_sub_cat_code|        prod_subcat|\n",
      "+-------------+----------------+-----------------+-------------------+\n",
      "|            1|        Clothing|                4|               Mens|\n",
      "|            1|        Clothing|                1|              Women|\n",
      "|            1|        Clothing|                3|               Kids|\n",
      "|            2|        Footwear|                1|               Mens|\n",
      "|            2|        Footwear|                3|              Women|\n",
      "|            2|        Footwear|                4|               Kids|\n",
      "|            3|     Electronics|                4|            Mobiles|\n",
      "|            3|     Electronics|                5|          Computers|\n",
      "|            3|     Electronics|                8|Personal Appliances|\n",
      "|            3|     Electronics|                9|            Cameras|\n",
      "|            3|     Electronics|               10|    Audio and video|\n",
      "|            4|            Bags|                1|               Mens|\n",
      "|            4|            Bags|                4|              Women|\n",
      "|            5|           Books|                7|            Fiction|\n",
      "|            5|           Books|               12|           Academic|\n",
      "|            5|           Books|               10|        Non-Fiction|\n",
      "|            5|           Books|               11|           Children|\n",
      "|            5|           Books|                3|             Comics|\n",
      "|            5|           Books|                6|                DIY|\n",
      "|            6|Home and kitchen|                2|         Furnishing|\n",
      "+-------------+----------------+-----------------+-------------------+\n",
      "only showing top 20 rows\n",
      "\n"
     ]
    }
   ],
   "source": [
    "product_heirarchy.show()"
   ]
  },
  {
   "cell_type": "code",
   "execution_count": 20,
   "id": "daf09dc4-2fbc-4820-9a11-56ad50111f43",
   "metadata": {},
   "outputs": [
    {
     "name": "stdout",
     "output_type": "stream",
     "text": [
      "root\n",
      " |-- prod_cat_code: integer (nullable = true)\n",
      " |-- prod_cat: string (nullable = true)\n",
      " |-- prod_sub_cat_code: integer (nullable = true)\n",
      " |-- prod_subcat: string (nullable = true)\n",
      "\n"
     ]
    }
   ],
   "source": [
    "product_heirarchy.printSchema()"
   ]
  },
  {
   "cell_type": "code",
   "execution_count": 21,
   "id": "338fe961-be48-4c1e-a423-08787a524268",
   "metadata": {},
   "outputs": [],
   "source": [
    "transaction =spark.read.csv(path = '/home/hdoop/Docs/spark_files/case_study_analysis/Transactions.csv',header = True,inferSchema =True)"
   ]
  },
  {
   "cell_type": "code",
   "execution_count": 22,
   "id": "a5351676-8e87-47d2-86de-7b21f45b471e",
   "metadata": {},
   "outputs": [
    {
     "name": "stdout",
     "output_type": "stream",
     "text": [
      "+--------------+-------+----------+----------------+-------------+---+-----+-------+---------+--------------+\n",
      "|transaction_id|cust_id| tran_date|prod_subcat_code|prod_cat_code|Qty| Rate|    Tax|total_amt|    Store_type|\n",
      "+--------------+-------+----------+----------------+-------------+---+-----+-------+---------+--------------+\n",
      "|   80712190438| 270351|28-02-2014|               1|            1| -5| -772|  405.3|  -4265.3|        e-Shop|\n",
      "|   29258453508| 270384|27-02-2014|               5|            3| -5|-1497|785.925|-8270.925|        e-Shop|\n",
      "|   51750724947| 273420|24-02-2014|               6|            5| -2| -791| 166.11| -1748.11|      TeleShop|\n",
      "|   93274880719| 271509|24-02-2014|              11|            6| -3|-1363|429.345|-4518.345|        e-Shop|\n",
      "|   51750724947| 273420|23-02-2014|               6|            5| -2| -791| 166.11| -1748.11|      TeleShop|\n",
      "|   97439039119| 272357|23-02-2014|               8|            3| -2| -824| 173.04| -1821.04|      TeleShop|\n",
      "|   45649838090| 273667|22-02-2014|              11|            6| -1|-1450| 152.25| -1602.25|        e-Shop|\n",
      "|   22643667930| 271489|22-02-2014|              12|            6| -1|-1225|128.625|-1353.625|      TeleShop|\n",
      "|   79792372943| 275108|22-02-2014|               3|            1| -3| -908| 286.02| -3010.02|           MBR|\n",
      "|   50076728598| 269014|21-02-2014|               8|            3| -4| -581| 244.02| -2568.02|        e-Shop|\n",
      "|   29258453508| 270384|20-02-2014|               5|            3|  5| 1497|785.925| 8270.925|        e-Shop|\n",
      "|   25455265351| 267750|20-02-2014|              12|            6|  3| 1360|  428.4|   4508.4|        e-Shop|\n",
      "|    1571002198| 275023|20-02-2014|               6|            5|  4|  587| 246.54|  2594.54|        e-Shop|\n",
      "|   43134751727| 268487|20-02-2014|               3|            2| -1| -611| 64.155| -675.155|        e-Shop|\n",
      "|   36554696014| 269345|20-02-2014|               3|            5|  3| 1253|394.695| 4153.695|        e-Shop|\n",
      "|   56814940239| 268799|20-02-2014|               7|            5|  5|  368|  193.2|   2033.2|        e-Shop|\n",
      "|   54295803788| 270787|20-02-2014|              12|            5|  5|  584|  306.6|   3226.6|        e-Shop|\n",
      "|   25963520987| 274829|20-02-2014|               4|            4|  3|  502| 158.13|  1664.13|Flagship store|\n",
      "|   17183929085| 266863|20-02-2014|               1|            2|  1| 1359|142.695| 1501.695|      TeleShop|\n",
      "|   44783317894| 269452|20-02-2014|               3|            1|  3|  825|259.875| 2734.875|      TeleShop|\n",
      "+--------------+-------+----------+----------------+-------------+---+-----+-------+---------+--------------+\n",
      "only showing top 20 rows\n",
      "\n",
      "root\n",
      " |-- transaction_id: long (nullable = true)\n",
      " |-- cust_id: integer (nullable = true)\n",
      " |-- tran_date: string (nullable = true)\n",
      " |-- prod_subcat_code: integer (nullable = true)\n",
      " |-- prod_cat_code: integer (nullable = true)\n",
      " |-- Qty: integer (nullable = true)\n",
      " |-- Rate: integer (nullable = true)\n",
      " |-- Tax: double (nullable = true)\n",
      " |-- total_amt: double (nullable = true)\n",
      " |-- Store_type: string (nullable = true)\n",
      "\n"
     ]
    }
   ],
   "source": [
    "transaction.show()\n",
    "transaction.printSchema()"
   ]
  },
  {
   "cell_type": "code",
   "execution_count": 24,
   "id": "392e52c0-c739-4392-b20e-4ee1a3a309b1",
   "metadata": {},
   "outputs": [],
   "source": [
    "transaction = transaction.withColumn(\"tran_date\",to_date(transaction.tran_date))"
   ]
  },
  {
   "cell_type": "code",
   "execution_count": 25,
   "id": "d4d328fa-eec0-4b86-be0f-4c179a347b6c",
   "metadata": {},
   "outputs": [
    {
     "name": "stdout",
     "output_type": "stream",
     "text": [
      "root\n",
      " |-- transaction_id: long (nullable = true)\n",
      " |-- cust_id: integer (nullable = true)\n",
      " |-- tran_date: date (nullable = true)\n",
      " |-- prod_subcat_code: integer (nullable = true)\n",
      " |-- prod_cat_code: integer (nullable = true)\n",
      " |-- Qty: integer (nullable = true)\n",
      " |-- Rate: integer (nullable = true)\n",
      " |-- Tax: double (nullable = true)\n",
      " |-- total_amt: double (nullable = true)\n",
      " |-- Store_type: string (nullable = true)\n",
      "\n"
     ]
    }
   ],
   "source": [
    "transaction.printSchema()"
   ]
  },
  {
   "cell_type": "code",
   "execution_count": 30,
   "id": "77577479-cbab-41a6-93d4-35d41f019b42",
   "metadata": {},
   "outputs": [],
   "source": [
    "customer_trans=customer_df.join(transaction,[customer_df.customer_Id == transaction.cust_id],\"inner\")"
   ]
  },
  {
   "cell_type": "code",
   "execution_count": 33,
   "id": "26a5a720-4fc9-420d-82fc-3c6a37e0352b",
   "metadata": {},
   "outputs": [
    {
     "name": "stdout",
     "output_type": "stream",
     "text": [
      "+-----------+----+------+---------+\n",
      "|customer_Id| DOB|Gender|city_code|\n",
      "+-----------+----+------+---------+\n",
      "|     268408|NULL|     M|        4|\n",
      "|     269696|NULL|     F|        8|\n",
      "|     268159|NULL|     F|        8|\n",
      "|     270181|NULL|     F|        2|\n",
      "|     268073|NULL|     M|        1|\n",
      "|     273216|NULL|     F|        5|\n",
      "|     266929|NULL|     M|        8|\n",
      "|     275152|NULL|     M|        4|\n",
      "|     275034|NULL|     F|        4|\n",
      "|     273966|NULL|     M|        8|\n",
      "|     270829|NULL|     F|        8|\n",
      "|     266997|NULL|     M|        9|\n",
      "|     272455|NULL|     M|        7|\n",
      "|     274593|NULL|     M|       10|\n",
      "|     273391|NULL|     F|        2|\n",
      "|     267657|NULL|     F|        7|\n",
      "|     271344|NULL|     F|        5|\n",
      "|     268275|NULL|     F|        7|\n",
      "|     274630|NULL|     M|        4|\n",
      "|     273541|NULL|     M|        4|\n",
      "+-----------+----+------+---------+\n",
      "only showing top 20 rows\n",
      "\n"
     ]
    }
   ],
   "source": [
    "customer_df.show()"
   ]
  },
  {
   "cell_type": "code",
   "execution_count": 29,
   "id": "e3404ab5-0d63-4043-a008-47b1573dc0b8",
   "metadata": {},
   "outputs": [
    {
     "data": {
      "text/html": [
       "<div>\n",
       "<style scoped>\n",
       "    .dataframe tbody tr th:only-of-type {\n",
       "        vertical-align: middle;\n",
       "    }\n",
       "\n",
       "    .dataframe tbody tr th {\n",
       "        vertical-align: top;\n",
       "    }\n",
       "\n",
       "    .dataframe thead th {\n",
       "        text-align: right;\n",
       "    }\n",
       "</style>\n",
       "<table border=\"1\" class=\"dataframe\">\n",
       "  <thead>\n",
       "    <tr style=\"text-align: right;\">\n",
       "      <th></th>\n",
       "      <th>customer_Id</th>\n",
       "      <th>DOB</th>\n",
       "      <th>Gender</th>\n",
       "      <th>city_code</th>\n",
       "      <th>transaction_id</th>\n",
       "      <th>cust_id</th>\n",
       "      <th>tran_date</th>\n",
       "      <th>prod_subcat_code</th>\n",
       "      <th>prod_cat_code</th>\n",
       "      <th>Qty</th>\n",
       "      <th>Rate</th>\n",
       "      <th>Tax</th>\n",
       "      <th>total_amt</th>\n",
       "      <th>Store_type</th>\n",
       "    </tr>\n",
       "  </thead>\n",
       "  <tbody>\n",
       "    <tr>\n",
       "      <th>0</th>\n",
       "      <td>270351</td>\n",
       "      <td>None</td>\n",
       "      <td>M</td>\n",
       "      <td>5.0</td>\n",
       "      <td>80712190438</td>\n",
       "      <td>270351</td>\n",
       "      <td>None</td>\n",
       "      <td>1</td>\n",
       "      <td>1</td>\n",
       "      <td>-5</td>\n",
       "      <td>-772</td>\n",
       "      <td>405.300</td>\n",
       "      <td>-4265.300</td>\n",
       "      <td>e-Shop</td>\n",
       "    </tr>\n",
       "    <tr>\n",
       "      <th>1</th>\n",
       "      <td>270384</td>\n",
       "      <td>None</td>\n",
       "      <td>F</td>\n",
       "      <td>8.0</td>\n",
       "      <td>29258453508</td>\n",
       "      <td>270384</td>\n",
       "      <td>None</td>\n",
       "      <td>5</td>\n",
       "      <td>3</td>\n",
       "      <td>-5</td>\n",
       "      <td>-1497</td>\n",
       "      <td>785.925</td>\n",
       "      <td>-8270.925</td>\n",
       "      <td>e-Shop</td>\n",
       "    </tr>\n",
       "    <tr>\n",
       "      <th>2</th>\n",
       "      <td>273420</td>\n",
       "      <td>None</td>\n",
       "      <td>M</td>\n",
       "      <td>8.0</td>\n",
       "      <td>51750724947</td>\n",
       "      <td>273420</td>\n",
       "      <td>None</td>\n",
       "      <td>6</td>\n",
       "      <td>5</td>\n",
       "      <td>-2</td>\n",
       "      <td>-791</td>\n",
       "      <td>166.110</td>\n",
       "      <td>-1748.110</td>\n",
       "      <td>TeleShop</td>\n",
       "    </tr>\n",
       "    <tr>\n",
       "      <th>3</th>\n",
       "      <td>271509</td>\n",
       "      <td>None</td>\n",
       "      <td>M</td>\n",
       "      <td>3.0</td>\n",
       "      <td>93274880719</td>\n",
       "      <td>271509</td>\n",
       "      <td>None</td>\n",
       "      <td>11</td>\n",
       "      <td>6</td>\n",
       "      <td>-3</td>\n",
       "      <td>-1363</td>\n",
       "      <td>429.345</td>\n",
       "      <td>-4518.345</td>\n",
       "      <td>e-Shop</td>\n",
       "    </tr>\n",
       "    <tr>\n",
       "      <th>4</th>\n",
       "      <td>273420</td>\n",
       "      <td>None</td>\n",
       "      <td>M</td>\n",
       "      <td>8.0</td>\n",
       "      <td>51750724947</td>\n",
       "      <td>273420</td>\n",
       "      <td>None</td>\n",
       "      <td>6</td>\n",
       "      <td>5</td>\n",
       "      <td>-2</td>\n",
       "      <td>-791</td>\n",
       "      <td>166.110</td>\n",
       "      <td>-1748.110</td>\n",
       "      <td>TeleShop</td>\n",
       "    </tr>\n",
       "    <tr>\n",
       "      <th>...</th>\n",
       "      <td>...</td>\n",
       "      <td>...</td>\n",
       "      <td>...</td>\n",
       "      <td>...</td>\n",
       "      <td>...</td>\n",
       "      <td>...</td>\n",
       "      <td>...</td>\n",
       "      <td>...</td>\n",
       "      <td>...</td>\n",
       "      <td>...</td>\n",
       "      <td>...</td>\n",
       "      <td>...</td>\n",
       "      <td>...</td>\n",
       "      <td>...</td>\n",
       "    </tr>\n",
       "    <tr>\n",
       "      <th>23048</th>\n",
       "      <td>274550</td>\n",
       "      <td>None</td>\n",
       "      <td>M</td>\n",
       "      <td>7.0</td>\n",
       "      <td>94340757522</td>\n",
       "      <td>274550</td>\n",
       "      <td>None</td>\n",
       "      <td>12</td>\n",
       "      <td>5</td>\n",
       "      <td>1</td>\n",
       "      <td>1264</td>\n",
       "      <td>132.720</td>\n",
       "      <td>1396.720</td>\n",
       "      <td>e-Shop</td>\n",
       "    </tr>\n",
       "    <tr>\n",
       "      <th>23049</th>\n",
       "      <td>270022</td>\n",
       "      <td>None</td>\n",
       "      <td>M</td>\n",
       "      <td>9.0</td>\n",
       "      <td>89780862956</td>\n",
       "      <td>270022</td>\n",
       "      <td>None</td>\n",
       "      <td>4</td>\n",
       "      <td>1</td>\n",
       "      <td>1</td>\n",
       "      <td>677</td>\n",
       "      <td>71.085</td>\n",
       "      <td>748.085</td>\n",
       "      <td>e-Shop</td>\n",
       "    </tr>\n",
       "    <tr>\n",
       "      <th>23050</th>\n",
       "      <td>271020</td>\n",
       "      <td>None</td>\n",
       "      <td>M</td>\n",
       "      <td>8.0</td>\n",
       "      <td>85115299378</td>\n",
       "      <td>271020</td>\n",
       "      <td>None</td>\n",
       "      <td>2</td>\n",
       "      <td>6</td>\n",
       "      <td>4</td>\n",
       "      <td>1052</td>\n",
       "      <td>441.840</td>\n",
       "      <td>4649.840</td>\n",
       "      <td>MBR</td>\n",
       "    </tr>\n",
       "    <tr>\n",
       "      <th>23051</th>\n",
       "      <td>270911</td>\n",
       "      <td>None</td>\n",
       "      <td>M</td>\n",
       "      <td>2.0</td>\n",
       "      <td>72870271171</td>\n",
       "      <td>270911</td>\n",
       "      <td>None</td>\n",
       "      <td>11</td>\n",
       "      <td>5</td>\n",
       "      <td>3</td>\n",
       "      <td>1142</td>\n",
       "      <td>359.730</td>\n",
       "      <td>3785.730</td>\n",
       "      <td>TeleShop</td>\n",
       "    </tr>\n",
       "    <tr>\n",
       "      <th>23052</th>\n",
       "      <td>271961</td>\n",
       "      <td>None</td>\n",
       "      <td>M</td>\n",
       "      <td>1.0</td>\n",
       "      <td>77960931771</td>\n",
       "      <td>271961</td>\n",
       "      <td>None</td>\n",
       "      <td>11</td>\n",
       "      <td>5</td>\n",
       "      <td>1</td>\n",
       "      <td>447</td>\n",
       "      <td>46.935</td>\n",
       "      <td>493.935</td>\n",
       "      <td>TeleShop</td>\n",
       "    </tr>\n",
       "  </tbody>\n",
       "</table>\n",
       "<p>23053 rows × 14 columns</p>\n",
       "</div>"
      ],
      "text/plain": [
       "      customer_Id   DOB Gender  city_code  transaction_id  cust_id tran_date  \\\n",
       "0          270351  None      M        5.0     80712190438   270351      None   \n",
       "1          270384  None      F        8.0     29258453508   270384      None   \n",
       "2          273420  None      M        8.0     51750724947   273420      None   \n",
       "3          271509  None      M        3.0     93274880719   271509      None   \n",
       "4          273420  None      M        8.0     51750724947   273420      None   \n",
       "...           ...   ...    ...        ...             ...      ...       ...   \n",
       "23048      274550  None      M        7.0     94340757522   274550      None   \n",
       "23049      270022  None      M        9.0     89780862956   270022      None   \n",
       "23050      271020  None      M        8.0     85115299378   271020      None   \n",
       "23051      270911  None      M        2.0     72870271171   270911      None   \n",
       "23052      271961  None      M        1.0     77960931771   271961      None   \n",
       "\n",
       "       prod_subcat_code  prod_cat_code  Qty  Rate      Tax  total_amt  \\\n",
       "0                     1              1   -5  -772  405.300  -4265.300   \n",
       "1                     5              3   -5 -1497  785.925  -8270.925   \n",
       "2                     6              5   -2  -791  166.110  -1748.110   \n",
       "3                    11              6   -3 -1363  429.345  -4518.345   \n",
       "4                     6              5   -2  -791  166.110  -1748.110   \n",
       "...                 ...            ...  ...   ...      ...        ...   \n",
       "23048                12              5    1  1264  132.720   1396.720   \n",
       "23049                 4              1    1   677   71.085    748.085   \n",
       "23050                 2              6    4  1052  441.840   4649.840   \n",
       "23051                11              5    3  1142  359.730   3785.730   \n",
       "23052                11              5    1   447   46.935    493.935   \n",
       "\n",
       "      Store_type  \n",
       "0         e-Shop  \n",
       "1         e-Shop  \n",
       "2       TeleShop  \n",
       "3         e-Shop  \n",
       "4       TeleShop  \n",
       "...          ...  \n",
       "23048     e-Shop  \n",
       "23049     e-Shop  \n",
       "23050        MBR  \n",
       "23051   TeleShop  \n",
       "23052   TeleShop  \n",
       "\n",
       "[23053 rows x 14 columns]"
      ]
     },
     "execution_count": 29,
     "metadata": {},
     "output_type": "execute_result"
    }
   ],
   "source": [
    "customer_df.join(transaction,[customer_df.customer_Id == transaction.cust_id],\"inner\").toPandas()"
   ]
  },
  {
   "cell_type": "code",
   "execution_count": 47,
   "id": "0beba716-2794-4bc3-968c-9abeafe0c7ff",
   "metadata": {},
   "outputs": [
    {
     "name": "stderr",
     "output_type": "stream",
     "text": [
      "ERROR:root:Exception while sending command.\n",
      "Traceback (most recent call last):\n",
      "  File \"/opt/spark/python/lib/py4j-0.10.9.7-src.zip/py4j/clientserver.py\", line 516, in send_command\n",
      "    raise Py4JNetworkError(\"Answer from Java side is empty\")\n",
      "py4j.protocol.Py4JNetworkError: Answer from Java side is empty\n",
      "\n",
      "During handling of the above exception, another exception occurred:\n",
      "\n",
      "Traceback (most recent call last):\n",
      "  File \"/opt/spark/python/lib/py4j-0.10.9.7-src.zip/py4j/java_gateway.py\", line 1038, in send_command\n",
      "    response = connection.send_command(command)\n",
      "  File \"/opt/spark/python/lib/py4j-0.10.9.7-src.zip/py4j/clientserver.py\", line 539, in send_command\n",
      "    raise Py4JNetworkError(\n",
      "py4j.protocol.Py4JNetworkError: Error while sending or receiving\n",
      "/opt/spark/python/pyspark/context.py:657: RuntimeWarning: Unable to cleanly shutdown Spark JVM process. It is possible that the process has crashed, been killed or may also be in a zombie state.\n",
      "  warnings.warn(\n"
     ]
    },
    {
     "ename": "ConnectionRefusedError",
     "evalue": "[Errno 111] Connection refused",
     "output_type": "error",
     "traceback": [
      "\u001b[0;31m---------------------------------------------------------------------------\u001b[0m",
      "\u001b[0;31mConnectionRefusedError\u001b[0m                    Traceback (most recent call last)",
      "Cell \u001b[0;32mIn[47], line 1\u001b[0m\n\u001b[0;32m----> 1\u001b[0m \u001b[43mspark\u001b[49m\u001b[38;5;241;43m.\u001b[39;49m\u001b[43mstop\u001b[49m\u001b[43m(\u001b[49m\u001b[43m)\u001b[49m\n",
      "File \u001b[0;32m/opt/spark/python/pyspark/sql/session.py:1799\u001b[0m, in \u001b[0;36mSparkSession.stop\u001b[0;34m(self)\u001b[0m\n\u001b[1;32m   1797\u001b[0m \u001b[38;5;66;03m# We should clean the default session up. See SPARK-23228.\u001b[39;00m\n\u001b[1;32m   1798\u001b[0m \u001b[38;5;28;01massert\u001b[39;00m \u001b[38;5;28mself\u001b[39m\u001b[38;5;241m.\u001b[39m_jvm \u001b[38;5;129;01mis\u001b[39;00m \u001b[38;5;129;01mnot\u001b[39;00m \u001b[38;5;28;01mNone\u001b[39;00m\n\u001b[0;32m-> 1799\u001b[0m \u001b[38;5;28;43mself\u001b[39;49m\u001b[38;5;241;43m.\u001b[39;49m\u001b[43m_jvm\u001b[49m\u001b[38;5;241;43m.\u001b[39;49m\u001b[43mSparkSession\u001b[49m\u001b[38;5;241m.\u001b[39mclearDefaultSession()\n\u001b[1;32m   1800\u001b[0m \u001b[38;5;28mself\u001b[39m\u001b[38;5;241m.\u001b[39m_jvm\u001b[38;5;241m.\u001b[39mSparkSession\u001b[38;5;241m.\u001b[39mclearActiveSession()\n\u001b[1;32m   1801\u001b[0m SparkSession\u001b[38;5;241m.\u001b[39m_instantiatedSession \u001b[38;5;241m=\u001b[39m \u001b[38;5;28;01mNone\u001b[39;00m\n",
      "File \u001b[0;32m/opt/spark/python/lib/py4j-0.10.9.7-src.zip/py4j/java_gateway.py:1712\u001b[0m, in \u001b[0;36mJVMView.__getattr__\u001b[0;34m(self, name)\u001b[0m\n\u001b[1;32m   1709\u001b[0m \u001b[38;5;28;01mif\u001b[39;00m name \u001b[38;5;241m==\u001b[39m UserHelpAutoCompletion\u001b[38;5;241m.\u001b[39mKEY:\n\u001b[1;32m   1710\u001b[0m     \u001b[38;5;28;01mreturn\u001b[39;00m UserHelpAutoCompletion()\n\u001b[0;32m-> 1712\u001b[0m answer \u001b[38;5;241m=\u001b[39m \u001b[38;5;28;43mself\u001b[39;49m\u001b[38;5;241;43m.\u001b[39;49m\u001b[43m_gateway_client\u001b[49m\u001b[38;5;241;43m.\u001b[39;49m\u001b[43msend_command\u001b[49m\u001b[43m(\u001b[49m\n\u001b[1;32m   1713\u001b[0m \u001b[43m    \u001b[49m\u001b[43mproto\u001b[49m\u001b[38;5;241;43m.\u001b[39;49m\u001b[43mREFLECTION_COMMAND_NAME\u001b[49m\u001b[43m \u001b[49m\u001b[38;5;241;43m+\u001b[39;49m\n\u001b[1;32m   1714\u001b[0m \u001b[43m    \u001b[49m\u001b[43mproto\u001b[49m\u001b[38;5;241;43m.\u001b[39;49m\u001b[43mREFL_GET_UNKNOWN_SUB_COMMAND_NAME\u001b[49m\u001b[43m \u001b[49m\u001b[38;5;241;43m+\u001b[39;49m\u001b[43m \u001b[49m\u001b[43mname\u001b[49m\u001b[43m \u001b[49m\u001b[38;5;241;43m+\u001b[39;49m\u001b[43m \u001b[49m\u001b[38;5;124;43m\"\u001b[39;49m\u001b[38;5;130;43;01m\\n\u001b[39;49;00m\u001b[38;5;124;43m\"\u001b[39;49m\u001b[43m \u001b[49m\u001b[38;5;241;43m+\u001b[39;49m\u001b[43m \u001b[49m\u001b[38;5;28;43mself\u001b[39;49m\u001b[38;5;241;43m.\u001b[39;49m\u001b[43m_id\u001b[49m\u001b[43m \u001b[49m\u001b[38;5;241;43m+\u001b[39;49m\n\u001b[1;32m   1715\u001b[0m \u001b[43m    \u001b[49m\u001b[38;5;124;43m\"\u001b[39;49m\u001b[38;5;130;43;01m\\n\u001b[39;49;00m\u001b[38;5;124;43m\"\u001b[39;49m\u001b[43m \u001b[49m\u001b[38;5;241;43m+\u001b[39;49m\u001b[43m \u001b[49m\u001b[43mproto\u001b[49m\u001b[38;5;241;43m.\u001b[39;49m\u001b[43mEND_COMMAND_PART\u001b[49m\u001b[43m)\u001b[49m\n\u001b[1;32m   1716\u001b[0m \u001b[38;5;28;01mif\u001b[39;00m answer \u001b[38;5;241m==\u001b[39m proto\u001b[38;5;241m.\u001b[39mSUCCESS_PACKAGE:\n\u001b[1;32m   1717\u001b[0m     \u001b[38;5;28;01mreturn\u001b[39;00m JavaPackage(name, \u001b[38;5;28mself\u001b[39m\u001b[38;5;241m.\u001b[39m_gateway_client, jvm_id\u001b[38;5;241m=\u001b[39m\u001b[38;5;28mself\u001b[39m\u001b[38;5;241m.\u001b[39m_id)\n",
      "File \u001b[0;32m/opt/spark/python/lib/py4j-0.10.9.7-src.zip/py4j/java_gateway.py:1036\u001b[0m, in \u001b[0;36mGatewayClient.send_command\u001b[0;34m(self, command, retry, binary)\u001b[0m\n\u001b[1;32m   1015\u001b[0m \u001b[38;5;28;01mdef\u001b[39;00m\u001b[38;5;250m \u001b[39m\u001b[38;5;21msend_command\u001b[39m(\u001b[38;5;28mself\u001b[39m, command, retry\u001b[38;5;241m=\u001b[39m\u001b[38;5;28;01mTrue\u001b[39;00m, binary\u001b[38;5;241m=\u001b[39m\u001b[38;5;28;01mFalse\u001b[39;00m):\n\u001b[1;32m   1016\u001b[0m \u001b[38;5;250m    \u001b[39m\u001b[38;5;124;03m\"\"\"Sends a command to the JVM. This method is not intended to be\u001b[39;00m\n\u001b[1;32m   1017\u001b[0m \u001b[38;5;124;03m       called directly by Py4J users. It is usually called by\u001b[39;00m\n\u001b[1;32m   1018\u001b[0m \u001b[38;5;124;03m       :class:`JavaMember` instances.\u001b[39;00m\n\u001b[0;32m   (...)\u001b[0m\n\u001b[1;32m   1034\u001b[0m \u001b[38;5;124;03m     if `binary` is `True`.\u001b[39;00m\n\u001b[1;32m   1035\u001b[0m \u001b[38;5;124;03m    \"\"\"\u001b[39;00m\n\u001b[0;32m-> 1036\u001b[0m     connection \u001b[38;5;241m=\u001b[39m \u001b[38;5;28;43mself\u001b[39;49m\u001b[38;5;241;43m.\u001b[39;49m\u001b[43m_get_connection\u001b[49m\u001b[43m(\u001b[49m\u001b[43m)\u001b[49m\n\u001b[1;32m   1037\u001b[0m     \u001b[38;5;28;01mtry\u001b[39;00m:\n\u001b[1;32m   1038\u001b[0m         response \u001b[38;5;241m=\u001b[39m connection\u001b[38;5;241m.\u001b[39msend_command(command)\n",
      "File \u001b[0;32m/opt/spark/python/lib/py4j-0.10.9.7-src.zip/py4j/clientserver.py:284\u001b[0m, in \u001b[0;36mJavaClient._get_connection\u001b[0;34m(self)\u001b[0m\n\u001b[1;32m    281\u001b[0m     \u001b[38;5;28;01mpass\u001b[39;00m\n\u001b[1;32m    283\u001b[0m \u001b[38;5;28;01mif\u001b[39;00m connection \u001b[38;5;129;01mis\u001b[39;00m \u001b[38;5;28;01mNone\u001b[39;00m \u001b[38;5;129;01mor\u001b[39;00m connection\u001b[38;5;241m.\u001b[39msocket \u001b[38;5;129;01mis\u001b[39;00m \u001b[38;5;28;01mNone\u001b[39;00m:\n\u001b[0;32m--> 284\u001b[0m     connection \u001b[38;5;241m=\u001b[39m \u001b[38;5;28;43mself\u001b[39;49m\u001b[38;5;241;43m.\u001b[39;49m\u001b[43m_create_new_connection\u001b[49m\u001b[43m(\u001b[49m\u001b[43m)\u001b[49m\n\u001b[1;32m    285\u001b[0m \u001b[38;5;28;01mreturn\u001b[39;00m connection\n",
      "File \u001b[0;32m/opt/spark/python/lib/py4j-0.10.9.7-src.zip/py4j/clientserver.py:291\u001b[0m, in \u001b[0;36mJavaClient._create_new_connection\u001b[0;34m(self)\u001b[0m\n\u001b[1;32m    287\u001b[0m \u001b[38;5;28;01mdef\u001b[39;00m\u001b[38;5;250m \u001b[39m\u001b[38;5;21m_create_new_connection\u001b[39m(\u001b[38;5;28mself\u001b[39m):\n\u001b[1;32m    288\u001b[0m     connection \u001b[38;5;241m=\u001b[39m ClientServerConnection(\n\u001b[1;32m    289\u001b[0m         \u001b[38;5;28mself\u001b[39m\u001b[38;5;241m.\u001b[39mjava_parameters, \u001b[38;5;28mself\u001b[39m\u001b[38;5;241m.\u001b[39mpython_parameters,\n\u001b[1;32m    290\u001b[0m         \u001b[38;5;28mself\u001b[39m\u001b[38;5;241m.\u001b[39mgateway_property, \u001b[38;5;28mself\u001b[39m)\n\u001b[0;32m--> 291\u001b[0m     \u001b[43mconnection\u001b[49m\u001b[38;5;241;43m.\u001b[39;49m\u001b[43mconnect_to_java_server\u001b[49m\u001b[43m(\u001b[49m\u001b[43m)\u001b[49m\n\u001b[1;32m    292\u001b[0m     \u001b[38;5;28mself\u001b[39m\u001b[38;5;241m.\u001b[39mset_thread_connection(connection)\n\u001b[1;32m    293\u001b[0m     \u001b[38;5;28;01mreturn\u001b[39;00m connection\n",
      "File \u001b[0;32m/opt/spark/python/lib/py4j-0.10.9.7-src.zip/py4j/clientserver.py:438\u001b[0m, in \u001b[0;36mClientServerConnection.connect_to_java_server\u001b[0;34m(self)\u001b[0m\n\u001b[1;32m    435\u001b[0m \u001b[38;5;28;01mif\u001b[39;00m \u001b[38;5;28mself\u001b[39m\u001b[38;5;241m.\u001b[39mssl_context:\n\u001b[1;32m    436\u001b[0m     \u001b[38;5;28mself\u001b[39m\u001b[38;5;241m.\u001b[39msocket \u001b[38;5;241m=\u001b[39m \u001b[38;5;28mself\u001b[39m\u001b[38;5;241m.\u001b[39mssl_context\u001b[38;5;241m.\u001b[39mwrap_socket(\n\u001b[1;32m    437\u001b[0m         \u001b[38;5;28mself\u001b[39m\u001b[38;5;241m.\u001b[39msocket, server_hostname\u001b[38;5;241m=\u001b[39m\u001b[38;5;28mself\u001b[39m\u001b[38;5;241m.\u001b[39mjava_address)\n\u001b[0;32m--> 438\u001b[0m \u001b[38;5;28;43mself\u001b[39;49m\u001b[38;5;241;43m.\u001b[39;49m\u001b[43msocket\u001b[49m\u001b[38;5;241;43m.\u001b[39;49m\u001b[43mconnect\u001b[49m\u001b[43m(\u001b[49m\u001b[43m(\u001b[49m\u001b[38;5;28;43mself\u001b[39;49m\u001b[38;5;241;43m.\u001b[39;49m\u001b[43mjava_address\u001b[49m\u001b[43m,\u001b[49m\u001b[43m \u001b[49m\u001b[38;5;28;43mself\u001b[39;49m\u001b[38;5;241;43m.\u001b[39;49m\u001b[43mjava_port\u001b[49m\u001b[43m)\u001b[49m\u001b[43m)\u001b[49m\n\u001b[1;32m    439\u001b[0m \u001b[38;5;28mself\u001b[39m\u001b[38;5;241m.\u001b[39mstream \u001b[38;5;241m=\u001b[39m \u001b[38;5;28mself\u001b[39m\u001b[38;5;241m.\u001b[39msocket\u001b[38;5;241m.\u001b[39mmakefile(\u001b[38;5;124m\"\u001b[39m\u001b[38;5;124mrb\u001b[39m\u001b[38;5;124m\"\u001b[39m)\n\u001b[1;32m    440\u001b[0m \u001b[38;5;28mself\u001b[39m\u001b[38;5;241m.\u001b[39mis_connected \u001b[38;5;241m=\u001b[39m \u001b[38;5;28;01mTrue\u001b[39;00m\n",
      "\u001b[0;31mConnectionRefusedError\u001b[0m: [Errno 111] Connection refused"
     ]
    },
    {
     "name": "stderr",
     "output_type": "stream",
     "text": [
      "ERROR:root:Exception while sending command.\n",
      "Traceback (most recent call last):\n",
      "  File \"/opt/spark/python/lib/py4j-0.10.9.7-src.zip/py4j/clientserver.py\", line 516, in send_command\n",
      "    raise Py4JNetworkError(\"Answer from Java side is empty\")\n",
      "py4j.protocol.Py4JNetworkError: Answer from Java side is empty\n",
      "\n",
      "During handling of the above exception, another exception occurred:\n",
      "\n",
      "Traceback (most recent call last):\n",
      "  File \"/opt/spark/python/lib/py4j-0.10.9.7-src.zip/py4j/java_gateway.py\", line 1038, in send_command\n",
      "    response = connection.send_command(command)\n",
      "  File \"/opt/spark/python/lib/py4j-0.10.9.7-src.zip/py4j/clientserver.py\", line 539, in send_command\n",
      "    raise Py4JNetworkError(\n",
      "py4j.protocol.Py4JNetworkError: Error while sending or receiving\n"
     ]
    }
   ],
   "source": [
    "spark.stop()"
   ]
  },
  {
   "cell_type": "code",
   "execution_count": null,
   "id": "91b68185-975a-40da-8151-272dcc6f11e9",
   "metadata": {},
   "outputs": [],
   "source": []
  }
 ],
 "metadata": {
  "kernelspec": {
   "display_name": "Python 3 (ipykernel)",
   "language": "python",
   "name": "python3"
  },
  "language_info": {
   "codemirror_mode": {
    "name": "ipython",
    "version": 3
   },
   "file_extension": ".py",
   "mimetype": "text/x-python",
   "name": "python",
   "nbconvert_exporter": "python",
   "pygments_lexer": "ipython3",
   "version": "3.10.12"
  }
 },
 "nbformat": 4,
 "nbformat_minor": 5
}
