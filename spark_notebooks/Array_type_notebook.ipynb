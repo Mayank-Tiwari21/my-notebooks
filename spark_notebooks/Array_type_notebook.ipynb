{
 "cells": [
  {
   "cell_type": "code",
   "execution_count": 29,
   "id": "34071357-4a3d-42f7-bdc4-aa13cac14f56",
   "metadata": {},
   "outputs": [
    {
     "name": "stdout",
     "output_type": "stream",
     "text": [
      "<pyspark.sql.session.SparkSession object at 0x71ce3c2171c0>\n"
     ]
    }
   ],
   "source": [
    "import findspark\n",
    "findspark.init()  # Initialize findspark\n",
    "\n",
    "from pyspark.sql import SparkSession\n",
    "\n",
    "spark = SparkSession.builder \\\n",
    "    .appName(\"PySpark in Jupyter\") \\\n",
    "    .getOrCreate()\n",
    "\n",
    "# Verify SparkSession is created\n",
    "print(spark)"
   ]
  },
  {
   "cell_type": "code",
   "execution_count": 30,
   "id": "55750689-df53-415e-9c22-4dac992c157a",
   "metadata": {},
   "outputs": [],
   "source": [
    "from pyspark.sql.functions import col"
   ]
  },
  {
   "cell_type": "code",
   "execution_count": 31,
   "id": "43f1ee6d-b4e8-4d40-8d05-666ee41b0fde",
   "metadata": {},
   "outputs": [],
   "source": [
    "from pyspark.sql.types import *"
   ]
  },
  {
   "cell_type": "code",
   "execution_count": 32,
   "id": "c66433ec-9a04-4050-a7bb-7bf9a78ac126",
   "metadata": {},
   "outputs": [],
   "source": [
    "from pyspark.sql.functions import array"
   ]
  },
  {
   "cell_type": "code",
   "execution_count": 33,
   "id": "ce958428-3fbb-42b7-a617-5af9d18cfba0",
   "metadata": {},
   "outputs": [],
   "source": [
    "data = [(\"abc\",[1,2]),(\"xyz\",[4,5]),(\"mno\",[7,8])]\n",
    "# schema = [\"id\",\"number\"]\n",
    "\n",
    "schema = StructType([\\\n",
    "    StructField(name=\"id\",dataType=StringType(),nullable=True),\\\n",
    "    StructField(name = \"numbers\",dataType= ArrayType(IntegerType()),nullable =True)\n",
    "])"
   ]
  },
  {
   "cell_type": "code",
   "execution_count": 34,
   "id": "ed6809c9-8fe1-4c21-b107-574b40f3c0a7",
   "metadata": {},
   "outputs": [],
   "source": [
    "df =spark.createDataFrame(data = data,schema =schema)"
   ]
  },
  {
   "cell_type": "code",
   "execution_count": 35,
   "id": "6e631660-704c-4bf8-80c2-44458d3271a6",
   "metadata": {},
   "outputs": [
    {
     "name": "stdout",
     "output_type": "stream",
     "text": [
      "+---+-------+\n",
      "| id|numbers|\n",
      "+---+-------+\n",
      "|abc| [1, 2]|\n",
      "|xyz| [4, 5]|\n",
      "|mno| [7, 8]|\n",
      "+---+-------+\n",
      "\n"
     ]
    }
   ],
   "source": [
    "df.show()"
   ]
  },
  {
   "cell_type": "code",
   "execution_count": 36,
   "id": "d4c4912a-3af4-425e-acab-9118be710488",
   "metadata": {},
   "outputs": [
    {
     "name": "stdout",
     "output_type": "stream",
     "text": [
      "root\n",
      " |-- id: string (nullable = true)\n",
      " |-- numbers: array (nullable = true)\n",
      " |    |-- element: integer (containsNull = true)\n",
      "\n"
     ]
    }
   ],
   "source": [
    "df.printSchema()"
   ]
  },
  {
   "cell_type": "code",
   "execution_count": null,
   "id": "dba952ce-43c3-4cf1-8047-f0fd252fc7c4",
   "metadata": {},
   "outputs": [],
   "source": []
  },
  {
   "cell_type": "code",
   "execution_count": 37,
   "id": "5acf8e27-e9b3-482d-963b-7f7700476186",
   "metadata": {},
   "outputs": [],
   "source": [
    "df2 = df.withColumn(\"FirstValue\",col(\"numbers\")[0])"
   ]
  },
  {
   "cell_type": "code",
   "execution_count": 41,
   "id": "65261e02-daba-4015-8f67-7e77263b4bd6",
   "metadata": {},
   "outputs": [
    {
     "name": "stdout",
     "output_type": "stream",
     "text": [
      "+----+\n",
      "|num1|\n",
      "+----+\n",
      "|   1|\n",
      "|   4|\n",
      "|   7|\n",
      "+----+\n",
      "\n"
     ]
    }
   ],
   "source": [
    "df.select(col(\"numbers\")[0].alias('num1')).show()"
   ]
  },
  {
   "cell_type": "markdown",
   "id": "9f203a93-d19a-4e4a-8e52-43c30f3c5633",
   "metadata": {},
   "source": [
    "### creating an array of numbers from the first columns "
   ]
  },
  {
   "cell_type": "code",
   "execution_count": 42,
   "id": "8738b55f-e9e2-4fc2-aac9-b07578b5aa45",
   "metadata": {},
   "outputs": [
    {
     "name": "stdout",
     "output_type": "stream",
     "text": [
      "+----+----+\n",
      "|num1|num2|\n",
      "+----+----+\n",
      "|   1|   2|\n",
      "|   3|   4|\n",
      "+----+----+\n",
      "\n"
     ]
    }
   ],
   "source": [
    "data = [(1,2),(3,4)]\n",
    "schema = [\"num1\",\"num2\"]\n",
    "\n",
    "df =spark.createDataFrame(data,schema)\n",
    "df.show()"
   ]
  },
  {
   "cell_type": "code",
   "execution_count": 43,
   "id": "b9de7810-5044-40f6-916a-27439a8958f8",
   "metadata": {},
   "outputs": [
    {
     "name": "stdout",
     "output_type": "stream",
     "text": [
      "+----+----+-------+\n",
      "|num1|num2|numbers|\n",
      "+----+----+-------+\n",
      "|   1|   2| [1, 2]|\n",
      "|   3|   4| [3, 4]|\n",
      "+----+----+-------+\n",
      "\n"
     ]
    }
   ],
   "source": [
    "df.withColumn(\"numbers\",array(df.num1,df.num2)).show()"
   ]
  },
  {
   "cell_type": "markdown",
   "id": "72682566-aa0d-48ba-85a4-41b4bf0880c7",
   "metadata": {},
   "source": [
    "### Array type functions\n",
    "#### explode()\n",
    "#### split()\n",
    "#### array()\n",
    "#### array_contains()"
   ]
  },
  {
   "cell_type": "code",
   "execution_count": 44,
   "id": "5f94d867-b55b-4eea-96ed-a7c6f158d317",
   "metadata": {},
   "outputs": [
    {
     "name": "stdout",
     "output_type": "stream",
     "text": [
      "+----+----+\n",
      "|num1|num2|\n",
      "+----+----+\n",
      "|   1|   2|\n",
      "|   3|   4|\n",
      "+----+----+\n",
      "\n"
     ]
    }
   ],
   "source": [
    "df.show()"
   ]
  },
  {
   "cell_type": "code",
   "execution_count": 45,
   "id": "b1cb7aaa-ffe7-4cf4-874b-091117ff8ccc",
   "metadata": {},
   "outputs": [],
   "source": [
    "data = [(1,\"xyz\",['dotnet','azure']),(2,'abc',[\"java\",\"aws\"])]\n",
    "schema = [\"id\",\"name\",\"skills\"]\n",
    "\n",
    "df = spark.createDataFrame(data =data,schema =schema)"
   ]
  },
  {
   "cell_type": "code",
   "execution_count": 46,
   "id": "05e48526-5c83-404e-9e14-b64c601dcc08",
   "metadata": {},
   "outputs": [
    {
     "name": "stdout",
     "output_type": "stream",
     "text": [
      "root\n",
      " |-- id: long (nullable = true)\n",
      " |-- name: string (nullable = true)\n",
      " |-- skills: array (nullable = true)\n",
      " |    |-- element: string (containsNull = true)\n",
      "\n",
      "+---+----+---------------+\n",
      "| id|name|         skills|\n",
      "+---+----+---------------+\n",
      "|  1| xyz|[dotnet, azure]|\n",
      "|  2| abc|    [java, aws]|\n",
      "+---+----+---------------+\n",
      "\n"
     ]
    }
   ],
   "source": [
    "df.printSchema()\n",
    "df.show()"
   ]
  },
  {
   "cell_type": "markdown",
   "id": "1e3446dd-6925-4692-aac8-acf18c32ebff",
   "metadata": {},
   "source": [
    "#### explode(_)"
   ]
  },
  {
   "cell_type": "code",
   "execution_count": 47,
   "id": "4f313c27-cc56-47cf-b897-f6caeacd7f81",
   "metadata": {},
   "outputs": [],
   "source": [
    "from pyspark.sql.functions import explode"
   ]
  },
  {
   "cell_type": "code",
   "execution_count": 48,
   "id": "63c60dc5-c964-4824-ba4c-628a46a120a9",
   "metadata": {},
   "outputs": [
    {
     "name": "stdout",
     "output_type": "stream",
     "text": [
      "+---+----+---------------+------+\n",
      "| id|name|         skills| skill|\n",
      "+---+----+---------------+------+\n",
      "|  1| xyz|[dotnet, azure]|dotnet|\n",
      "|  1| xyz|[dotnet, azure]| azure|\n",
      "|  2| abc|    [java, aws]|  java|\n",
      "|  2| abc|    [java, aws]|   aws|\n",
      "+---+----+---------------+------+\n",
      "\n"
     ]
    }
   ],
   "source": [
    "df1=df.withColumn(\"skill\",explode(df.skills))\n",
    "df1.show()"
   ]
  },
  {
   "cell_type": "markdown",
   "id": "93995ba3-f739-4996-b97f-914a2d48e809",
   "metadata": {},
   "source": [
    "#### split(_)"
   ]
  },
  {
   "cell_type": "code",
   "execution_count": 49,
   "id": "fd2de8a8-afa1-4c67-a7f1-5129b4480e92",
   "metadata": {},
   "outputs": [
    {
     "name": "stdout",
     "output_type": "stream",
     "text": [
      "root\n",
      " |-- id: long (nullable = true)\n",
      " |-- name: string (nullable = true)\n",
      " |-- skills: string (nullable = true)\n",
      "\n",
      "+---+----+------------+\n",
      "| id|name|      skills|\n",
      "+---+----+------------+\n",
      "|  1| xyz|dotnet,azure|\n",
      "|  2| abc|    java,aws|\n",
      "+---+----+------------+\n",
      "\n"
     ]
    }
   ],
   "source": [
    "data = [(1,\"xyz\",\"dotnet,azure\"),(2,\"abc\",\"java,aws\")]\n",
    "schema = [\"id\",\"name\",\"skills\"]\n",
    "\n",
    "df = spark.createDataFrame(data = data,schema = schema)\n",
    "df.printSchema()\n",
    "df.show()"
   ]
  },
  {
   "cell_type": "code",
   "execution_count": 50,
   "id": "c2942844-2e9f-40b7-a9d5-347cdad00692",
   "metadata": {},
   "outputs": [],
   "source": [
    "from pyspark.sql.functions import split"
   ]
  },
  {
   "cell_type": "code",
   "execution_count": 51,
   "id": "95f803b1-3a67-45ef-8e0d-5676e5d39b1f",
   "metadata": {},
   "outputs": [],
   "source": [
    "df1 = df.withColumn(\"skillsArray\",split(df.skills,','))"
   ]
  },
  {
   "cell_type": "code",
   "execution_count": 52,
   "id": "01dfd4da-a137-452d-baaf-6996583a6ec2",
   "metadata": {},
   "outputs": [
    {
     "name": "stdout",
     "output_type": "stream",
     "text": [
      "+---+----+------------+---------------+\n",
      "| id|name|      skills|    skillsArray|\n",
      "+---+----+------------+---------------+\n",
      "|  1| xyz|dotnet,azure|[dotnet, azure]|\n",
      "|  2| abc|    java,aws|    [java, aws]|\n",
      "+---+----+------------+---------------+\n",
      "\n"
     ]
    }
   ],
   "source": [
    "df1.show()"
   ]
  },
  {
   "cell_type": "code",
   "execution_count": null,
   "id": "afcf620c-d8c5-4ae4-9e98-412a8ea39a63",
   "metadata": {},
   "outputs": [],
   "source": [
    "df.withColumn(\"skillsArray\",split(df.skills, ))"
   ]
  },
  {
   "cell_type": "code",
   "execution_count": 54,
   "id": "7f26754e-82f7-4d14-813a-68831cee4615",
   "metadata": {},
   "outputs": [],
   "source": [
    "df3 = spark.createDataFrame([('oneAtwoBthreeC',)], ['s',])\n",
    "df3.select(split(df3.s, '[ABC]', 2).alias('s')).collect()\n",
    "df3.select(split(df3.s, '[ABC]', -1).alias('s')).collect()"
   ]
  },
  {
   "cell_type": "code",
   "execution_count": 56,
   "id": "173906aa-ee28-439d-ad9f-043b3ee8cb42",
   "metadata": {},
   "outputs": [
    {
     "data": {
      "text/plain": [
       "[Row(s=['one', 'twoBthreeC'])]"
      ]
     },
     "execution_count": 56,
     "metadata": {},
     "output_type": "execute_result"
    }
   ],
   "source": [
    "df3.select(split(df3.s, '[ABC]', 2).alias('s')).collect()"
   ]
  },
  {
   "cell_type": "code",
   "execution_count": 57,
   "id": "c9fe6e49-358f-4a6a-96cb-6e6bcd7e2d94",
   "metadata": {},
   "outputs": [
    {
     "data": {
      "text/plain": [
       "[Row(s=['one', 'two', 'three', ''])]"
      ]
     },
     "execution_count": 57,
     "metadata": {},
     "output_type": "execute_result"
    }
   ],
   "source": [
    "df3.select(split(df3.s, '[ABC]', -1).alias('s')).collect()"
   ]
  },
  {
   "cell_type": "markdown",
   "id": "26eb88ca-4adb-497a-b55c-c17b6566b19e",
   "metadata": {},
   "source": [
    "#### array_contains(_)"
   ]
  },
  {
   "cell_type": "code",
   "execution_count": 59,
   "id": "0d9944b8-58de-4d9a-b029-8dfe60c80224",
   "metadata": {},
   "outputs": [],
   "source": [
    "from pyspark.sql.functions import array_contains"
   ]
  },
  {
   "cell_type": "code",
   "execution_count": 60,
   "id": "7f27d843-cc91-4362-89ad-e5a1adf570bb",
   "metadata": {},
   "outputs": [
    {
     "name": "stdout",
     "output_type": "stream",
     "text": [
      "+---+----+------------+---------------+-------+\n",
      "| id|name|      skills|    skillsArray|HasJava|\n",
      "+---+----+------------+---------------+-------+\n",
      "|  1| xyz|dotnet,azure|[dotnet, azure]|  false|\n",
      "|  2| abc|    java,aws|    [java, aws]|   true|\n",
      "+---+----+------------+---------------+-------+\n",
      "\n"
     ]
    }
   ],
   "source": [
    "df4 = df1.withColumn(\"HasJava\",array_contains(df1.skillsArray,\"java\"))\n",
    "df4.show()"
   ]
  },
  {
   "cell_type": "code",
   "execution_count": 61,
   "id": "e76ecae6-fbfb-41fa-ab3e-13226109a5e4",
   "metadata": {},
   "outputs": [],
   "source": [
    "spark.stop()"
   ]
  },
  {
   "cell_type": "code",
   "execution_count": null,
   "id": "11b07628-0974-4903-8ac4-6ceb56aa2f7a",
   "metadata": {},
   "outputs": [],
   "source": []
  }
 ],
 "metadata": {
  "kernelspec": {
   "display_name": "Python 3 (ipykernel)",
   "language": "python",
   "name": "python3"
  },
  "language_info": {
   "codemirror_mode": {
    "name": "ipython",
    "version": 3
   },
   "file_extension": ".py",
   "mimetype": "text/x-python",
   "name": "python",
   "nbconvert_exporter": "python",
   "pygments_lexer": "ipython3",
   "version": "3.10.12"
  }
 },
 "nbformat": 4,
 "nbformat_minor": 5
}
