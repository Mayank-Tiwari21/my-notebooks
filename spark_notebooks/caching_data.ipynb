{
 "cells": [
  {
   "cell_type": "code",
   "execution_count": 1,
   "id": "718e44cf-8bf5-4230-b8ce-b3e07c8f5644",
   "metadata": {},
   "outputs": [],
   "source": [
    "from pyspark.sql import SparkSession"
   ]
  },
  {
   "cell_type": "code",
   "execution_count": 2,
   "id": "ffc44fab-5b49-4c1d-9407-e597693b2add",
   "metadata": {},
   "outputs": [
    {
     "name": "stderr",
     "output_type": "stream",
     "text": [
      "25/03/17 17:19:43 WARN Utils: Your hostname, TTNPL-8203 resolves to a loopback address: 127.0.1.1; using 10.1.243.232 instead (on interface wlp0s20f3)\n",
      "25/03/17 17:19:43 WARN Utils: Set SPARK_LOCAL_IP if you need to bind to another address\n",
      "Setting default log level to \"WARN\".\n",
      "To adjust logging level use sc.setLogLevel(newLevel). For SparkR, use setLogLevel(newLevel).\n",
      "25/03/17 17:19:44 WARN NativeCodeLoader: Unable to load native-hadoop library for your platform... using builtin-java classes where applicable\n",
      "25/03/17 17:19:45 WARN Utils: Service 'SparkUI' could not bind on port 4040. Attempting port 4041.\n"
     ]
    },
    {
     "name": "stdout",
     "output_type": "stream",
     "text": [
      "<pyspark.sql.session.SparkSession object at 0x7d42b7f64970>\n"
     ]
    }
   ],
   "source": [
    "spark = SparkSession.builder.appName(\"Cache Data\").getOrCreate()\n",
    "print(spark)"
   ]
  },
  {
   "cell_type": "code",
   "execution_count": 3,
   "id": "1ac18752-4084-4c91-a7db-c16d3aa9e760",
   "metadata": {},
   "outputs": [],
   "source": [
    "from pyspark.sql.types import *"
   ]
  },
  {
   "cell_type": "code",
   "execution_count": 9,
   "id": "48cf3d8e-0d9a-46b6-a0db-af27690a4ab4",
   "metadata": {},
   "outputs": [],
   "source": [
    "from pyspark.sql.functions import lit"
   ]
  },
  {
   "cell_type": "code",
   "execution_count": 13,
   "id": "ce73ab4a-9561-4091-8382-d38f04108a1a",
   "metadata": {},
   "outputs": [],
   "source": [
    "data = [(1,\"mayank\",5000),\n",
    "       (2,\"xyz\",40000),\n",
    "       (3,\"abc\",45000)]\n",
    "\n",
    "\n",
    "\n",
    "schema = StructType([\n",
    "    StructField(\"id\",IntegerType(),True),\n",
    "    StructField(\"name\",StringType(),True),\n",
    "    StructField(\"salary\",IntegerType(),True)\n",
    "])\n",
    "\n",
    "df = spark.createDataFrame(data =data,schema =schema)"
   ]
  },
  {
   "cell_type": "code",
   "execution_count": 14,
   "id": "da6bf4b3-f474-43d9-8243-f8f91d20de52",
   "metadata": {},
   "outputs": [],
   "source": [
    "df1 = df.withColumn(\"bonus\",df.salary*0.05)"
   ]
  },
  {
   "cell_type": "code",
   "execution_count": 15,
   "id": "c812644f-db53-4871-b203-15cd7931b613",
   "metadata": {},
   "outputs": [
    {
     "data": {
      "text/plain": [
       "DataFrame[id: int, name: string, salary: int, bonus: double]"
      ]
     },
     "execution_count": 15,
     "metadata": {},
     "output_type": "execute_result"
    }
   ],
   "source": [
    "df1.cache()"
   ]
  },
  {
   "cell_type": "code",
   "execution_count": 16,
   "id": "3bacf3ab-7c76-490c-adee-0a119edae8be",
   "metadata": {},
   "outputs": [],
   "source": [
    "df2_1 = df1.withColumn(\"state\",lit(None))"
   ]
  },
  {
   "cell_type": "code",
   "execution_count": 17,
   "id": "db9e0b4d-7191-4e9f-befc-3b1d30b67280",
   "metadata": {},
   "outputs": [],
   "source": [
    "df2_2 = df1.withColumn(\"country\",lit(None))"
   ]
  },
  {
   "cell_type": "code",
   "execution_count": 18,
   "id": "fdbffdf3-7246-4250-bc04-c8889d60597c",
   "metadata": {},
   "outputs": [
    {
     "data": {
      "text/plain": [
       "[Row(id=1, name='mayank', salary=5000, bonus=250.0, state=None),\n",
       " Row(id=2, name='xyz', salary=40000, bonus=2000.0, state=None),\n",
       " Row(id=3, name='abc', salary=45000, bonus=2250.0, state=None)]"
      ]
     },
     "execution_count": 18,
     "metadata": {},
     "output_type": "execute_result"
    }
   ],
   "source": [
    "df2_1.collect()"
   ]
  },
  {
   "cell_type": "code",
   "execution_count": 19,
   "id": "72b7add9-f381-4b70-8139-a6407c31df05",
   "metadata": {},
   "outputs": [
    {
     "data": {
      "text/plain": [
       "[Row(id=1, name='mayank', salary=5000, bonus=250.0, country=None),\n",
       " Row(id=2, name='xyz', salary=40000, bonus=2000.0, country=None),\n",
       " Row(id=3, name='abc', salary=45000, bonus=2250.0, country=None)]"
      ]
     },
     "execution_count": 19,
     "metadata": {},
     "output_type": "execute_result"
    }
   ],
   "source": [
    "df2_2.collect()"
   ]
  },
  {
   "cell_type": "code",
   "execution_count": 20,
   "id": "c68ef28e-ccaa-4416-8895-06c2e73f2619",
   "metadata": {},
   "outputs": [],
   "source": [
    "df3 = df.withColumn(\"tax\",df.salary*0.10)"
   ]
  },
  {
   "cell_type": "code",
   "execution_count": 21,
   "id": "9f25bca6-18e6-4ee6-a7ad-02b03f6835f0",
   "metadata": {},
   "outputs": [],
   "source": [
    "df4 = df3.withColumn(\"state\",lit(None))\n"
   ]
  },
  {
   "cell_type": "code",
   "execution_count": 22,
   "id": "90128d82-2e8d-45aa-9f40-d06fa123f60c",
   "metadata": {},
   "outputs": [
    {
     "name": "stdout",
     "output_type": "stream",
     "text": [
      "+---+------+------+------+-----+\n",
      "| id|  name|salary|   tax|state|\n",
      "+---+------+------+------+-----+\n",
      "|  1|mayank|  5000| 500.0| NULL|\n",
      "|  2|   xyz| 40000|4000.0| NULL|\n",
      "|  3|   abc| 45000|4500.0| NULL|\n",
      "+---+------+------+------+-----+\n",
      "\n"
     ]
    }
   ],
   "source": [
    "df4.show()"
   ]
  },
  {
   "cell_type": "code",
   "execution_count": 25,
   "id": "626927d0-7344-4714-9b16-76388ebfedad",
   "metadata": {},
   "outputs": [],
   "source": [
    "spark.stop()"
   ]
  },
  {
   "cell_type": "code",
   "execution_count": null,
   "id": "0316c39a-347d-438a-af0b-d1d85b786972",
   "metadata": {},
   "outputs": [],
   "source": []
  }
 ],
 "metadata": {
  "kernelspec": {
   "display_name": "Python 3 (ipykernel)",
   "language": "python",
   "name": "python3"
  },
  "language_info": {
   "codemirror_mode": {
    "name": "ipython",
    "version": 3
   },
   "file_extension": ".py",
   "mimetype": "text/x-python",
   "name": "python",
   "nbconvert_exporter": "python",
   "pygments_lexer": "ipython3",
   "version": "3.10.12"
  }
 },
 "nbformat": 4,
 "nbformat_minor": 5
}
