{
 "cells": [
  {
   "cell_type": "code",
   "execution_count": 7,
   "id": "2ae8c497-fcb3-43b5-bdb0-ed382fa5fd43",
   "metadata": {},
   "outputs": [],
   "source": [
    "from pyspark.sql import SparkSession\n",
    "from pyspark.sql.functions import col"
   ]
  },
  {
   "cell_type": "code",
   "execution_count": 3,
   "id": "5bd0f193-8c2b-4eaf-a860-2a7139067b4b",
   "metadata": {},
   "outputs": [
    {
     "name": "stderr",
     "output_type": "stream",
     "text": [
      "25/03/25 11:32:16 WARN Utils: Your hostname, TTNPL-8203 resolves to a loopback address: 127.0.1.1; using 10.1.209.120 instead (on interface wlp0s20f3)\n",
      "25/03/25 11:32:16 WARN Utils: Set SPARK_LOCAL_IP if you need to bind to another address\n",
      "Setting default log level to \"WARN\".\n",
      "To adjust logging level use sc.setLogLevel(newLevel). For SparkR, use setLogLevel(newLevel).\n",
      "25/03/25 11:32:17 WARN NativeCodeLoader: Unable to load native-hadoop library for your platform... using builtin-java classes where applicable\n",
      "25/03/25 11:32:17 WARN Utils: Service 'SparkUI' could not bind on port 4040. Attempting port 4041.\n"
     ]
    }
   ],
   "source": [
    "spark = SparkSession.builder.appName(\"table to csv\").getOrCreate()"
   ]
  },
  {
   "cell_type": "code",
   "execution_count": 5,
   "id": "0e18bb00-9cc9-4050-9600-02de65ce7532",
   "metadata": {},
   "outputs": [],
   "source": [
    "df = spark.read.format(\"jdbc\")\\\n",
    ".option(\"url\",\"jdbc:postgresql://localhost:5432/my_database\")\\\n",
    ".option(\"user\",\"postgres\")\\\n",
    ".option(\"dbtable\",\"tt\")\\\n",
    ".option(\"password\",\"8308\")\\\n",
    ".option(\"driver\",\"org.postgresql.Driver\")\\\n",
    ".load()"
   ]
  },
  {
   "cell_type": "code",
   "execution_count": 6,
   "id": "5e20f9ae-5aff-41f5-9f21-066a72413ae9",
   "metadata": {},
   "outputs": [
    {
     "name": "stderr",
     "output_type": "stream",
     "text": [
      "                                                                                "
     ]
    },
    {
     "name": "stdout",
     "output_type": "stream",
     "text": [
      "+---+--------+-------+\n",
      "| id|    name|   dept|\n",
      "+---+--------+-------+\n",
      "|  1|  mayank|     IT|\n",
      "|  2|satyarth|Finance|\n",
      "+---+--------+-------+\n",
      "\n"
     ]
    }
   ],
   "source": [
    "df.show()"
   ]
  },
  {
   "cell_type": "code",
   "execution_count": 13,
   "id": "3985689c-a83a-4194-ae72-c358aef78296",
   "metadata": {},
   "outputs": [],
   "source": [
    "df.write.partitionBy(\"dept\").format(\"csv\").option(\"header\",\"True\").mode(\"append\").save(\"file:///home/hdoop/notebooks/data/spark_practice/postgresTOCOnsole/my_part1\")"
   ]
  },
  {
   "cell_type": "code",
   "execution_count": null,
   "id": "8178c32a-832e-4568-a7cb-515c432162ae",
   "metadata": {},
   "outputs": [],
   "source": []
  }
 ],
 "metadata": {
  "kernelspec": {
   "display_name": "Python 3 (ipykernel)",
   "language": "python",
   "name": "python3"
  },
  "language_info": {
   "codemirror_mode": {
    "name": "ipython",
    "version": 3
   },
   "file_extension": ".py",
   "mimetype": "text/x-python",
   "name": "python",
   "nbconvert_exporter": "python",
   "pygments_lexer": "ipython3",
   "version": "3.10.12"
  }
 },
 "nbformat": 4,
 "nbformat_minor": 5
}
