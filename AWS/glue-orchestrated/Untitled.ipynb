{
 "cells": [
  {
   "cell_type": "code",
   "execution_count": 1,
   "id": "bbbd1749-9594-4788-99ae-d4b7f84cf203",
   "metadata": {},
   "outputs": [],
   "source": [
    "from pyspark.sql import SparkSession\n"
   ]
  },
  {
   "cell_type": "code",
   "execution_count": 3,
   "id": "38b051bd-923a-4664-9139-614b27ce7b1a",
   "metadata": {},
   "outputs": [],
   "source": [
    "from pyspark.sql.functions import *\n",
    "from pyspark.sql.types import *"
   ]
  },
  {
   "cell_type": "code",
   "execution_count": 4,
   "id": "3ca20d6e-aeda-41bd-ac53-661a994aa725",
   "metadata": {},
   "outputs": [
    {
     "name": "stderr",
     "output_type": "stream",
     "text": [
      "25/04/08 15:25:48 WARN Utils: Your hostname, TTNPL-8203 resolves to a loopback address: 127.0.1.1; using 10.1.210.48 instead (on interface wlp0s20f3)\n",
      "25/04/08 15:25:48 WARN Utils: Set SPARK_LOCAL_IP if you need to bind to another address\n",
      "Setting default log level to \"WARN\".\n",
      "To adjust logging level use sc.setLogLevel(newLevel). For SparkR, use setLogLevel(newLevel).\n",
      "25/04/08 15:25:50 WARN NativeCodeLoader: Unable to load native-hadoop library for your platform... using builtin-java classes where applicable\n"
     ]
    },
    {
     "name": "stdout",
     "output_type": "stream",
     "text": [
      "<pyspark.sql.session.SparkSession object at 0x7f2d77f3aad0>\n"
     ]
    }
   ],
   "source": [
    "spark = SparkSession.builder.appName(\"Glue-orchestration\").getOrCreate()\n",
    "print(spark)"
   ]
  },
  {
   "cell_type": "code",
   "execution_count": 6,
   "id": "792411e1-c48e-4496-8793-16d86e44bcc5",
   "metadata": {},
   "outputs": [],
   "source": [
    "df = spark.read.csv(\"file:///home/hdoop/notebooks/data/AWS/Glue-orchestrated/orders.csv\",inferSchema = True,header = True)"
   ]
  },
  {
   "cell_type": "code",
   "execution_count": 7,
   "id": "8d0e81e5-5792-43c4-b95b-32f12d47fdf9",
   "metadata": {},
   "outputs": [
    {
     "name": "stdout",
     "output_type": "stream",
     "text": [
      "+-------+------------+----------+------------+-----------+--------+---------+-----------+---------+\n",
      "|OrderID|CustomerName|OrderDate |Product     |Category   |Quantity|UnitPrice|TotalAmount|Status   |\n",
      "+-------+------------+----------+------------+-----------+--------+---------+-----------+---------+\n",
      "|1001   |John Smith  |2024-03-01|Laptop      |Electronics|1       |1200.0   |1200.0     |Delivered|\n",
      "|1002   |Alice Brown |2024-03-02|Desk Chair  |Furniture  |2       |150.0    |300.0      |Shipped  |\n",
      "|1003   |Bob Martin  |2024-03-03|Coffee Maker|Appliances |1       |80.0     |80.0       |Cancelled|\n",
      "|1004   |Emma Wilson |2024-03-04|Smartphone  |Electronics|2       |650.0    |1300.0     |Delivered|\n",
      "|1005   |Chris Evans |2024-03-05|Office Desk |Furniture  |1       |400.0    |400.0      |Pending  |\n",
      "|1006   |Sarah Lee   |2024-03-06|Blender     |Appliances |1       |90.0     |90.0       |Delivered|\n",
      "|1007   |David Miller|2024-03-07|Monitor     |Electronics|2       |200.0    |400.0      |Delivered|\n",
      "+-------+------------+----------+------------+-----------+--------+---------+-----------+---------+\n",
      "only showing top 7 rows\n",
      "\n"
     ]
    }
   ],
   "source": [
    "df.show(n = 7,truncate = False)"
   ]
  },
  {
   "cell_type": "code",
   "execution_count": 9,
   "id": "bd3beace-9f9a-4f3d-be00-de2cab3334b6",
   "metadata": {},
   "outputs": [],
   "source": [
    "df_cancelled = df.filter(col(\"Status\") =='Cancelled')"
   ]
  },
  {
   "cell_type": "code",
   "execution_count": 10,
   "id": "7ce61ddc-da90-4b88-b659-31328a21bb77",
   "metadata": {},
   "outputs": [
    {
     "name": "stdout",
     "output_type": "stream",
     "text": [
      "+-------+-------------+----------+--------------+-----------+--------+---------+-----------+---------+\n",
      "|OrderID| CustomerName| OrderDate|       Product|   Category|Quantity|UnitPrice|TotalAmount|   Status|\n",
      "+-------+-------------+----------+--------------+-----------+--------+---------+-----------+---------+\n",
      "|   1003|   Bob Martin|2024-03-03|  Coffee Maker| Appliances|       1|     80.0|       80.0|Cancelled|\n",
      "|   1009|  James Scott|2024-03-09|     Microwave| Appliances|       1|    150.0|      150.0|Cancelled|\n",
      "|   1015|  Ethan Clark|2024-03-15|Vacuum Cleaner| Appliances|       1|    130.0|      130.0|Cancelled|\n",
      "|   1024|   Ava Torres|2024-03-24|        Heater| Appliances|       1|     75.0|       75.0|Cancelled|\n",
      "|   1031|  Mason Price|2024-03-31|  Game Console|Electronics|       1|    450.0|      450.0|Cancelled|\n",
      "|   1041|Carter Hughes|2024-04-10|  Office Chair|  Furniture|       1|    200.0|      200.0|Cancelled|\n",
      "|   1049|    Owen West|2024-04-18|    Smartphone|Electronics|       1|    700.0|      700.0|Cancelled|\n",
      "+-------+-------------+----------+--------------+-----------+--------+---------+-----------+---------+\n",
      "\n"
     ]
    }
   ],
   "source": [
    "df_cancelled.show()"
   ]
  },
  {
   "cell_type": "code",
   "execution_count": 17,
   "id": "96c78cde-6196-4e6f-befa-34ee7e5b6c2c",
   "metadata": {},
   "outputs": [],
   "source": [
    "df2 = df.withColumn(\"Discount\",when(col(\"TotalAmount\")>1000,col(\"TotalAmount\")*0.025)\\\n",
    "                   .when(col(\"TotalAmount\")>500,col(\"TotalAmount\")*0.020).otherwise(0))"
   ]
  },
  {
   "cell_type": "code",
   "execution_count": 24,
   "id": "fdffe0fa-bff3-48fd-96e6-55c6f73d25ed",
   "metadata": {},
   "outputs": [
    {
     "name": "stderr",
     "output_type": "stream",
     "text": [
      "                                                                                "
     ]
    }
   ],
   "source": [
    "df2.write.partitionBy(\"Status\").format(\"csv\").option(\"header\",\"True\").mode(\"append\").save(\"file:///home/hdoop/notebooks/data/AWS/Glue-orchestrated/output/\")"
   ]
  },
  {
   "cell_type": "code",
   "execution_count": null,
   "id": "f3a8ece5-7d38-4ad9-9add-0791cfba8fa5",
   "metadata": {},
   "outputs": [],
   "source": []
  }
 ],
 "metadata": {
  "kernelspec": {
   "display_name": "Python 3 (ipykernel)",
   "language": "python",
   "name": "python3"
  },
  "language_info": {
   "codemirror_mode": {
    "name": "ipython",
    "version": 3
   },
   "file_extension": ".py",
   "mimetype": "text/x-python",
   "name": "python",
   "nbconvert_exporter": "python",
   "pygments_lexer": "ipython3",
   "version": "3.10.12"
  }
 },
 "nbformat": 4,
 "nbformat_minor": 5
}
