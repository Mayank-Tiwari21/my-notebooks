{
 "cells": [
  {
   "cell_type": "code",
   "execution_count": 2,
   "id": "3fdc689d-f545-47e8-aee0-47509ff9fa1f",
   "metadata": {},
   "outputs": [],
   "source": [
    "from pyspark.sql import SparkSession"
   ]
  },
  {
   "cell_type": "code",
   "execution_count": 3,
   "id": "098692f3-cde2-4a56-b069-8a91736716ac",
   "metadata": {},
   "outputs": [],
   "source": [
    "from pyspark.sql.functions import *\n",
    "from pyspark import broadcast\n",
    "from pyspark import StorageLevel\n",
    "from pyspark.sql.types import *"
   ]
  },
  {
   "cell_type": "code",
   "execution_count": 6,
   "id": "422d83ab-176b-4f10-bfe2-0bff1d9bf32b",
   "metadata": {},
   "outputs": [
    {
     "name": "stdout",
     "output_type": "stream",
     "text": [
      "<pyspark.sql.session.SparkSession object at 0x71cdfb5c82e0>\n"
     ]
    }
   ],
   "source": [
    "spark = SparkSession.builder.appName(\"assessment\").getOrCreate()\n",
    "print(spark)"
   ]
  },
  {
   "cell_type": "code",
   "execution_count": 17,
   "id": "1d4db37a-dabd-4104-a3bb-e14160ec0e7a",
   "metadata": {},
   "outputs": [],
   "source": [
    "x_df = spark.read.csv(\"file:///home/hdoop/notebooks/X.csv\",header =True,inferSchema = True)"
   ]
  },
  {
   "cell_type": "code",
   "execution_count": 18,
   "id": "62b7662f-a587-4ee0-90a1-86d50928af7d",
   "metadata": {},
   "outputs": [],
   "source": [
    "y_df = spark.read.csv(\"file:///home/hdoop/notebooks/Y.csv\",header =True,inferSchema =True)"
   ]
  },
  {
   "cell_type": "markdown",
   "id": "4b5ee4c4-516b-498a-af4c-71dac659cc3b",
   "metadata": {},
   "source": [
    "## 2.2\n"
   ]
  },
  {
   "cell_type": "code",
   "execution_count": 20,
   "id": "03b3c765-c597-42ca-a78d-a9aadd1741e6",
   "metadata": {},
   "outputs": [
    {
     "name": "stdout",
     "output_type": "stream",
     "text": [
      "root\n",
      " |-- invoice_no: integer (nullable = true)\n",
      " |-- gstin: string (nullable = true)\n",
      " |-- supplier_gstin: string (nullable = true)\n",
      " |-- invoice_date: date (nullable = true)\n",
      " |-- amount: integer (nullable = true)\n",
      " |-- gst: double (nullable = true)\n",
      "\n"
     ]
    }
   ],
   "source": [
    "x_df.printSchema()"
   ]
  },
  {
   "cell_type": "code",
   "execution_count": 32,
   "id": "10b1ecdf-8ba6-4cdb-9301-7988eb72107e",
   "metadata": {},
   "outputs": [],
   "source": [
    "x_df1 = x_df.withColumn(\"amount\",when(isnull(col(\"amount\")),10).otherwise(col(\"amount\")))"
   ]
  },
  {
   "cell_type": "code",
   "execution_count": 33,
   "id": "14852578-9852-4171-8d98-4663d1427d33",
   "metadata": {},
   "outputs": [
    {
     "name": "stdout",
     "output_type": "stream",
     "text": [
      "root\n",
      " |-- invoice_no: integer (nullable = true)\n",
      " |-- gstin: string (nullable = true)\n",
      " |-- supplier_gstin: string (nullable = true)\n",
      " |-- invoice_date: date (nullable = true)\n",
      " |-- amount: integer (nullable = true)\n",
      " |-- gst: double (nullable = true)\n",
      "\n"
     ]
    }
   ],
   "source": [
    "y_df.printSchema()"
   ]
  },
  {
   "cell_type": "code",
   "execution_count": 34,
   "id": "e1992003-a9d3-48b1-ae65-9a92baf3324f",
   "metadata": {},
   "outputs": [],
   "source": [
    "y_df1 = y_df.withColumn(\"amount\",when(isnull(col(\"amount\")),10).otherwise(col(\"amount\")))"
   ]
  },
  {
   "cell_type": "code",
   "execution_count": 35,
   "id": "d7e71bbc-e963-4c0b-afd3-39c26ef5ed58",
   "metadata": {},
   "outputs": [
    {
     "name": "stdout",
     "output_type": "stream",
     "text": [
      "+----------+-----+--------------+------------+------+---+\n",
      "|invoice_no|gstin|supplier_gstin|invoice_date|amount|gst|\n",
      "+----------+-----+--------------+------------+------+---+\n",
      "|         3|    C|            a3|  2024-01-05|    12|2.4|\n",
      "|         4|    D|            a4|  2024-01-06|    13|2.6|\n",
      "|         5|    E|            a5|  2024-01-07|    14|2.8|\n",
      "|         6|    F|            a6|  2024-01-08|    15|3.0|\n",
      "|         7|    G|            a7|  2024-01-09|    16|3.2|\n",
      "|         8|    H|            a8|  2024-01-10|    17|3.4|\n",
      "|         9|    I|            a9|  2024-01-11|    18|3.6|\n",
      "|        10|    J|           a10|  2024-01-12|    19|3.8|\n",
      "|        11|    K|           a11|  2024-01-13|    20|4.0|\n",
      "|        12|    L|           a12|  2024-01-14|    21|4.2|\n",
      "|        13|    M|           a13|  2024-01-15|    22|4.4|\n",
      "|        14|    N|           a14|  2024-01-16|    23|4.6|\n",
      "|        15|    O|           a15|  2024-01-17|    24|4.8|\n",
      "|        16|    P|           a16|  2024-01-18|    25|5.0|\n",
      "|        17|    Q|           a17|  2024-01-19|    26|5.2|\n",
      "|        18|    R|           a18|  2024-01-20|    27|5.4|\n",
      "|        19|    S|           a19|  2024-01-21|    28|5.6|\n",
      "|        20|    T|           a20|  2024-01-22|    29|5.8|\n",
      "|        21|    U|           a21|  2024-01-23|    30|6.0|\n",
      "|        22|    V|           a22|  2024-01-24|    31|6.2|\n",
      "+----------+-----+--------------+------------+------+---+\n",
      "only showing top 20 rows\n",
      "\n"
     ]
    }
   ],
   "source": [
    "x_df1.show()"
   ]
  },
  {
   "cell_type": "code",
   "execution_count": 36,
   "id": "86a3af8c-d780-49a0-b2a1-8ef8f3a53faf",
   "metadata": {},
   "outputs": [],
   "source": [
    "x_df2 = x_df1.filter(isnotnull(col(\"invoice_no\")))\\\n",
    "    .filter(isnotnull(col(\"gstin\")))\\\n",
    "    .filter(isnotnull(col(\"supplier_gstin\")))\\\n",
    "    .filter(isnotnull(col(\"invoice_date\")))"
   ]
  },
  {
   "cell_type": "code",
   "execution_count": 37,
   "id": "b600f70c-1228-4b02-9bb1-3e59379142f8",
   "metadata": {},
   "outputs": [],
   "source": [
    "y_df2 = y_df1.filter(isnotnull(col(\"invoice_no\")))\\\n",
    "    .filter(isnotnull(col(\"gstin\")))\\\n",
    "    .filter(isnotnull(col(\"supplier_gstin\")))\\\n",
    "    .filter(isnotnull(col(\"invoice_date\")))"
   ]
  },
  {
   "cell_type": "code",
   "execution_count": 38,
   "id": "81f200a7-7ce4-4aa3-983f-e900ce369712",
   "metadata": {},
   "outputs": [
    {
     "name": "stdout",
     "output_type": "stream",
     "text": [
      "+----------+-----+--------------+------------+------+---+\n",
      "|invoice_no|gstin|supplier_gstin|invoice_date|amount|gst|\n",
      "+----------+-----+--------------+------------+------+---+\n",
      "|         3|    C|            a3|  2024-01-05|    12|2.4|\n",
      "|         4|    D|            a4|  2024-01-06|    13|2.6|\n",
      "|         5|    E|            a5|  2024-01-07|    14|2.8|\n",
      "|         6|    F|            a6|  2024-01-08|    15|3.0|\n",
      "|         7|    G|            a7|  2024-01-09|    16|3.2|\n",
      "|         8|    H|            a8|  2024-01-10|    17|3.4|\n",
      "|         9|    I|            a9|  2024-01-11|    18|3.6|\n",
      "|        10|    J|           a10|  2024-01-12|    19|3.8|\n",
      "|        11|    K|           a11|  2024-01-13|    20|4.0|\n",
      "|        12|    L|           a12|  2024-01-14|    21|4.2|\n",
      "|        13|    M|           a13|  2024-01-15|    22|4.4|\n",
      "|        14|    N|           a14|  2024-01-16|    23|4.6|\n",
      "|        15|    O|           a15|  2024-01-17|    24|4.8|\n",
      "|        16|    P|           a16|  2024-01-18|    25|5.0|\n",
      "|        17|    Q|           a17|  2024-01-19|    26|5.2|\n",
      "|        18|    R|           a18|  2024-01-20|    27|5.4|\n",
      "|        19|    S|           a19|  2024-01-21|    28|5.6|\n",
      "|        20|    T|           a20|  2024-01-22|    29|5.8|\n",
      "|        21|    U|           a21|  2024-01-23|    30|6.0|\n",
      "|        22|    V|           a22|  2024-01-24|    31|6.2|\n",
      "+----------+-----+--------------+------------+------+---+\n",
      "only showing top 20 rows\n",
      "\n"
     ]
    }
   ],
   "source": [
    "x_df2.show()"
   ]
  },
  {
   "cell_type": "code",
   "execution_count": 45,
   "id": "f1baf7a2-60f1-4f37-abeb-954f74a982d1",
   "metadata": {},
   "outputs": [],
   "source": [
    "x_df3 = x_df2.groupBy([col(\"invoice_no\"),col(\"gstin\"),col(\"supplier_gstin\"),col(\"invoice_date\")])\\\n",
    "    .agg(\n",
    "        sum(\"amount\").alias(\"amount\"),\n",
    "        sum(\"gst\").alias(\"gst\")\n",
    "    )"
   ]
  },
  {
   "cell_type": "code",
   "execution_count": 46,
   "id": "b546d61a-7d2d-4dde-9ad8-0185da4d168b",
   "metadata": {},
   "outputs": [],
   "source": [
    "y_df3 = y_df2.groupBy([col(\"invoice_no\"),col(\"gstin\"),col(\"supplier_gstin\"),col(\"invoice_date\")])\\\n",
    "    .agg(\n",
    "        sum(\"amount\").alias(\"amount\"),\n",
    "        sum(\"gst\").alias(\"gst\")\n",
    "    )"
   ]
  },
  {
   "cell_type": "markdown",
   "id": "9a804a19-80ea-460a-bc8f-18072a8c1e5f",
   "metadata": {},
   "source": [
    "#### 2.3"
   ]
  },
  {
   "cell_type": "code",
   "execution_count": 47,
   "id": "45ce67b2-f897-404c-bfd2-0d47e0adf7b5",
   "metadata": {},
   "outputs": [
    {
     "name": "stdout",
     "output_type": "stream",
     "text": [
      "root\n",
      " |-- invoice_no: integer (nullable = true)\n",
      " |-- gstin: string (nullable = true)\n",
      " |-- supplier_gstin: string (nullable = true)\n",
      " |-- invoice_date: date (nullable = true)\n",
      " |-- amount: long (nullable = true)\n",
      " |-- gst: double (nullable = true)\n",
      "\n"
     ]
    }
   ],
   "source": [
    "x_df3.printSchema()"
   ]
  },
  {
   "cell_type": "code",
   "execution_count": null,
   "id": "74c3c5e4-82d6-4538-bcc4-41d99ba8dcb5",
   "metadata": {},
   "outputs": [],
   "source": []
  },
  {
   "cell_type": "code",
   "execution_count": 49,
   "id": "92cdf1b1-2ab4-43dc-9218-390e5db49279",
   "metadata": {},
   "outputs": [],
   "source": [
    "x_df4= x_df3.withColumn(\"total_amount\",col(\"amount\")+col(\"gst\"))"
   ]
  },
  {
   "cell_type": "code",
   "execution_count": 50,
   "id": "fbfa344a-a268-4884-ae2d-77722e5e558b",
   "metadata": {},
   "outputs": [],
   "source": [
    "y_df4= y_df3.withColumn(\"total_amount\",col(\"amount\")+col(\"gst\"))\n"
   ]
  },
  {
   "cell_type": "code",
   "execution_count": 135,
   "id": "999fe56b-c105-415a-a99d-29d7573b59fd",
   "metadata": {},
   "outputs": [
    {
     "name": "stdout",
     "output_type": "stream",
     "text": [
      "root\n",
      " |-- invoice_no: integer (nullable = true)\n",
      " |-- gstin: string (nullable = true)\n",
      " |-- supplier_gstin: string (nullable = true)\n",
      " |-- invoice_date: date (nullable = true)\n",
      " |-- amount: long (nullable = true)\n",
      " |-- gst: double (nullable = true)\n",
      " |-- total_amount: double (nullable = true)\n",
      "\n"
     ]
    }
   ],
   "source": [
    "x_df4.printSchema()"
   ]
  },
  {
   "cell_type": "markdown",
   "id": "44e42ca8-9a39-4ce0-83aa-77bb0aec875f",
   "metadata": {},
   "source": [
    "#### 2.4"
   ]
  },
  {
   "cell_type": "code",
   "execution_count": 53,
   "id": "faa111da-9f1d-4e98-a4ec-eccf7cb75555",
   "metadata": {},
   "outputs": [
    {
     "name": "stdout",
     "output_type": "stream",
     "text": [
      "root\n",
      " |-- invoice_no: integer (nullable = true)\n",
      " |-- gstin: string (nullable = true)\n",
      " |-- supplier_gstin: string (nullable = true)\n",
      " |-- invoice_date: date (nullable = true)\n",
      " |-- amount: long (nullable = true)\n",
      " |-- gst: double (nullable = true)\n",
      " |-- total_amount: double (nullable = true)\n",
      "\n"
     ]
    }
   ],
   "source": [
    "x_df4.printSchema()"
   ]
  },
  {
   "cell_type": "code",
   "execution_count": 58,
   "id": "86449d96-e0dd-4f0e-a857-374303153e8c",
   "metadata": {},
   "outputs": [],
   "source": [
    "x_df5 = x_df4.groupby([col(\"gstin\"),col(\"supplier_gstin\"),col(\"invoice_date\")])\\\n",
    " .agg(\n",
    "     sum(\"amount\").alias(\"amount\"),\n",
    "     sum(\"gst\").alias(\"gst\"),\n",
    "     sum(\"total_amount\").alias(\"total_amount\")\n",
    " )"
   ]
  },
  {
   "cell_type": "code",
   "execution_count": 59,
   "id": "5f1a9e74-69ad-4be9-b65e-36435312ae33",
   "metadata": {},
   "outputs": [],
   "source": [
    "y_df5 = y_df4.groupby([col(\"gstin\"),col(\"supplier_gstin\"),col(\"invoice_date\")])\\\n",
    " .agg(\n",
    "     sum(\"amount\").alias(\"amount\"),\n",
    "     sum(\"gst\").alias(\"gst\"),\n",
    "     sum(\"total_amount\").alias(\"total_amount\")\n",
    " )"
   ]
  },
  {
   "cell_type": "markdown",
   "id": "70507fae-7b2e-4aa5-8975-e9db4bc3aa6b",
   "metadata": {},
   "source": [
    "### 2.5"
   ]
  },
  {
   "cell_type": "code",
   "execution_count": 81,
   "id": "b8cc6ec8-6135-43cf-a5ca-d597dc847448",
   "metadata": {},
   "outputs": [],
   "source": [
    "@udf\n",
    "def run_length(string_entered):\n",
    "    marker = string_entered[0]\n",
    "    counter = 0\n",
    "    return_str = \"\"\n",
    "    for char in string_entered:\n",
    "        if (marker == char):\n",
    "            counter +=1\n",
    "        else:\n",
    "            str = f\"{marker}{counter}\"\n",
    "            return_str =return_str + str\n",
    "            marker = char\n",
    "            counter = 1\n",
    "    str = f\"{marker}{counter}\"\n",
    "    return_str =return_str + str\n",
    "    return return_str"
   ]
  },
  {
   "cell_type": "code",
   "execution_count": 79,
   "id": "ebee0c99-e67a-4360-aeb6-389e4db7c6ad",
   "metadata": {},
   "outputs": [],
   "source": [
    "# run_length_udf = udf(run_length,StringType())"
   ]
  },
  {
   "cell_type": "code",
   "execution_count": 83,
   "id": "4313b010-f01a-4b91-a5be-b92b1252abed",
   "metadata": {},
   "outputs": [],
   "source": [
    "x_df6= x_df5.withColumn(\"supplier_gstin\",run_length(col(\"supplier_gstin\")))"
   ]
  },
  {
   "cell_type": "code",
   "execution_count": 84,
   "id": "e4c5dbb1-f3b3-4752-affe-25ab8636d12e",
   "metadata": {},
   "outputs": [],
   "source": [
    "y_df6= y_df5.withColumn(\"supplier_gstin\",run_length(col(\"supplier_gstin\")))"
   ]
  },
  {
   "cell_type": "code",
   "execution_count": null,
   "id": "47f779c2-b102-406d-84ca-d4e16e311038",
   "metadata": {},
   "outputs": [],
   "source": []
  },
  {
   "cell_type": "code",
   "execution_count": 86,
   "id": "b9620340-52c2-4255-9eab-c4cd859f7387",
   "metadata": {},
   "outputs": [],
   "source": [
    "x_df7 = x_df6.withColumn(\"supplier_gstin\",md5(col(\"supplier_gstin\")))"
   ]
  },
  {
   "cell_type": "code",
   "execution_count": 87,
   "id": "914f61a9-2662-4991-aaa9-f4ed1ceece7d",
   "metadata": {},
   "outputs": [],
   "source": [
    "y_df7 = y_df6.withColumn(\"supplier_gstin\",md5(col(\"supplier_gstin\")))"
   ]
  },
  {
   "cell_type": "code",
   "execution_count": 133,
   "id": "ddcd8e6e-e882-42fa-9638-c6eb6f8b3750",
   "metadata": {},
   "outputs": [
    {
     "name": "stdout",
     "output_type": "stream",
     "text": [
      "+-----+--------------------+------------+------+---+------------+\n",
      "|gstin|      supplier_gstin|invoice_date|amount|gst|total_amount|\n",
      "+-----+--------------------+------------+------+---+------------+\n",
      "|    S|7b42e594c6b0aea17...|  2024-01-21|    28|5.6|        33.6|\n",
      "|    L|04a6891d4d3f105be...|  2024-01-14|    21|4.2|        25.2|\n",
      "|    K|d8715694717e03d6c...|  2024-01-13|    20|4.0|        24.0|\n",
      "|    F|e4fde4e670403765f...|  2024-01-08|    15|3.0|        18.0|\n",
      "|    H|ce106d4e16eb0fb67...|  2024-01-10|    17|3.4|        20.4|\n",
      "|    N|cdb8baed319712f77...|  2024-01-16|    23|4.6|        27.6|\n",
      "|    R|f5cd71aba90b526f8...|  2024-01-20|    27|5.4|        32.4|\n",
      "|    U|73d50a19965eba5f9...|  2024-01-23|    30|6.0|        36.0|\n",
      "|    C|3e4f4af15ee8fb8da...|  2024-01-05|    12|2.4|        14.4|\n",
      "|    J|130ab96c963eada95...|  2024-01-12|    19|3.8|        22.8|\n",
      "|    D|5496fa050b66ec447...|  2024-01-06|    13|2.6|        15.6|\n",
      "|    Z|5520d55f74db52f7e...|  2024-01-28|    35|7.0|        42.0|\n",
      "|    X|574ebbb5adec45b4c...|  2024-01-26|    33|6.6|        39.6|\n",
      "|    W|28b0389a0a15fb307...|  2024-01-25|    32|6.4|        38.4|\n",
      "|    P|620f2d4e7a4e6ea2c...|  2024-01-18|    25|5.0|        30.0|\n",
      "|    O|6556a9d7e14a2c1c7...|  2024-01-17|    24|4.8|        28.8|\n",
      "|    I|690827602234514b5...|  2024-01-11|    18|3.6|        21.6|\n",
      "|    T|1b48a03ace3a19842...|  2024-01-22|    29|5.8|        34.8|\n",
      "|    Y|af045c4b5040aa43a...|  2024-01-27|    34|6.8|        40.8|\n",
      "|    Q|bb43a192dc87c6da0...|  2024-01-19|    26|5.2|        31.2|\n",
      "+-----+--------------------+------------+------+---+------------+\n",
      "only showing top 20 rows\n",
      "\n"
     ]
    }
   ],
   "source": [
    "x_df7.show()"
   ]
  },
  {
   "cell_type": "markdown",
   "id": "d6f1d577-4fd3-4dbc-b79a-7fc9ae7e51c0",
   "metadata": {},
   "source": [
    "### 2.6"
   ]
  },
  {
   "cell_type": "code",
   "execution_count": 104,
   "id": "4bf26a4c-8993-4b68-9536-72d44b8fcefb",
   "metadata": {},
   "outputs": [],
   "source": [
    "type_A = x_df4.join(y_df4,[\"invoice_no\",\"gstin\",\"supplier_gstin\",\"invoice_date\",\"amount\"],\"inner\").select(\"invoice_no\",\"gstin\",\"supplier_gstin\",\"invoice_date\")\n",
    "type_A = type_A.withColumn(\"category\",lit(\"Type A\"))"
   ]
  },
  {
   "cell_type": "code",
   "execution_count": 105,
   "id": "0cc19dea-db20-433d-a461-cbe421870646",
   "metadata": {},
   "outputs": [
    {
     "name": "stdout",
     "output_type": "stream",
     "text": [
      "root\n",
      " |-- invoice_no: integer (nullable = true)\n",
      " |-- gstin: string (nullable = true)\n",
      " |-- supplier_gstin: string (nullable = true)\n",
      " |-- invoice_date: date (nullable = true)\n",
      " |-- category: string (nullable = false)\n",
      "\n"
     ]
    }
   ],
   "source": [
    "type_A.printSchema()"
   ]
  },
  {
   "cell_type": "code",
   "execution_count": 107,
   "id": "56628f47-d239-4a15-8141-cf1b1faf89e8",
   "metadata": {},
   "outputs": [],
   "source": [
    "type_e = x_df4.join(y_df4,[\"invoice_no\",\"gstin\",\"supplier_gstin\",\"amount\"],\"leftanti\").select(\"invoice_no\",\"gstin\",\"supplier_gstin\",\"invoice_date\")\n",
    "type_e = type_e.withColumn(\"category\",lit(\"Type E\"))"
   ]
  },
  {
   "cell_type": "code",
   "execution_count": 108,
   "id": "54646b78-5b4f-4f27-948b-f24e1a111d29",
   "metadata": {},
   "outputs": [],
   "source": [
    "type_d = y_df4.join(x_df4,[\"invoice_no\",\"gstin\",\"supplier_gstin\",\"amount\"],\"leftanti\").select(\"invoice_no\",\"gstin\",\"supplier_gstin\",\"invoice_date\")\n",
    "type_d = type_d.withColumn(\"category\",lit(\"Type D\"))"
   ]
  },
  {
   "cell_type": "code",
   "execution_count": 109,
   "id": "3357957b-211b-4348-9465-5fba620609cc",
   "metadata": {},
   "outputs": [],
   "source": [
    "type_b = x_df4.join(y_df4,\n",
    "                    (x_df4[\"invoice_no\"]==y_df4[\"invoice_no\"])&(x_df4[\"gstin\"]==y_df4[\"gstin\"])&(x_df4[\"supplier_gstin\"]==y_df4[\"supplier_gstin\"])&(x_df4[\"invoice_date\"]==y_df4[\"invoice_date\"])&( (x_df4[\"amount\"]-y_df4[\"amount\"]<=50) | (x_df4[\"amount\"]-y_df4[\"amount\"]>=-50)),\n",
    "                    \"inner\").select(x_df4[\"invoice_no\"],x_df4[\"gstin\"],x_df4[\"supplier_gstin\"],x_df4[\"invoice_date\"])\n",
    "type_b = type_b.withColumn(\"category\",lit(\"Type B\"))"
   ]
  },
  {
   "cell_type": "code",
   "execution_count": 110,
   "id": "edd56118-f452-4fad-95da-6c138964ee95",
   "metadata": {},
   "outputs": [],
   "source": [
    "\n",
    "type_c = x_df4.join(y_df4,\n",
    "                    (x_df4[\"invoice_no\"]==y_df4[\"invoice_no\"])&(x_df4[\"gstin\"]==y_df4[\"gstin\"])&(x_df4[\"supplier_gstin\"]==y_df4[\"supplier_gstin\"])&(x_df4[\"invoice_date\"]==y_df4[\"invoice_date\"])&( (x_df4[\"amount\"]-y_df4[\"amount\"]>50) | (x_df4[\"amount\"]-y_df4[\"amount\"]<-50)),\n",
    "                    \"inner\").select(x_df4[\"invoice_no\"],x_df4[\"gstin\"],x_df4[\"supplier_gstin\"],x_df4[\"invoice_date\"])\n",
    "type_c = type_c.withColumn(\"category\",lit(\"Type C\"))"
   ]
  },
  {
   "cell_type": "code",
   "execution_count": 111,
   "id": "adcd8c09-6880-4d33-baee-3f5eae7063b2",
   "metadata": {},
   "outputs": [],
   "source": [
    "unioned_df = type_A.union(type_b).union(type_c).union(type_d).union(type_e)"
   ]
  },
  {
   "cell_type": "code",
   "execution_count": 112,
   "id": "7c8b0e0f-2602-4f24-bd7b-ffe0edf5a2d9",
   "metadata": {},
   "outputs": [
    {
     "name": "stdout",
     "output_type": "stream",
     "text": [
      "+----------+-----+--------------+------------+--------+\n",
      "|invoice_no|gstin|supplier_gstin|invoice_date|category|\n",
      "+----------+-----+--------------+------------+--------+\n",
      "|         4|    D|            a4|  2024-01-06|  Type A|\n",
      "|        13|    M|           a13|  2024-01-15|  Type A|\n",
      "|         6|    F|            a6|  2024-01-08|  Type B|\n",
      "|        18|    R|           a18|  2024-01-20|  Type B|\n",
      "|        11|    K|           a11|  2024-01-13|  Type B|\n",
      "|        20|    T|           a20|  2024-01-22|  Type B|\n",
      "|         5|    E|            a5|  2024-01-07|  Type B|\n",
      "|         3|    C|            a3|  2024-01-05|  Type B|\n",
      "|        12|    L|           a12|  2024-01-14|  Type B|\n",
      "|        16|    P|           a16|  2024-01-18|  Type B|\n",
      "|         9|    I|            a9|  2024-01-11|  Type B|\n",
      "|         4|    D|            a4|  2024-01-06|  Type B|\n",
      "|         8|    H|            a8|  2024-01-10|  Type B|\n",
      "|        17|    Q|           a17|  2024-01-19|  Type B|\n",
      "|        24|    X|           a24|  2024-01-26|  Type B|\n",
      "|        19|    S|           a19|  2024-01-21|  Type B|\n",
      "|        13|    M|           a13|  2024-01-15|  Type B|\n",
      "|        23|    W|           a23|  2024-01-25|  Type B|\n",
      "|        21|    U|           a21|  2024-01-23|  Type B|\n",
      "|        14|    N|           a14|  2024-01-16|  Type B|\n",
      "+----------+-----+--------------+------------+--------+\n",
      "only showing top 20 rows\n",
      "\n"
     ]
    }
   ],
   "source": [
    "unioned_df.show()"
   ]
  },
  {
   "cell_type": "code",
   "execution_count": 117,
   "id": "9e8754f2-9be0-40a6-a8e2-8b156591754a",
   "metadata": {},
   "outputs": [],
   "source": [
    "unioned_df.write.format(\"csv\").option(\"header\",\"True\").save(\"file:///home/hdoop/notebooks/answer3.csv\")"
   ]
  },
  {
   "cell_type": "code",
   "execution_count": 136,
   "id": "0e8032b0-2ca9-4965-a8c4-78096b7ef9bc",
   "metadata": {},
   "outputs": [],
   "source": [
    "df = unioned_df.join(x_df4,[\"invoice_no\",\"gstin\",\"supplier_gstin\"]).select(col(\"total_amount\").alias(\"X_amt\"),\"category\")"
   ]
  },
  {
   "cell_type": "code",
   "execution_count": 138,
   "id": "527e4439-367d-49e3-9651-5a62673fdc69",
   "metadata": {},
   "outputs": [],
   "source": [
    "df2 = unioned_df.join(y_df4,[\"invoice_no\",\"gstin\",\"supplier_gstin\"]).select(col(\"total_amount\").alias(\"y_amt\"),\"category\")"
   ]
  },
  {
   "cell_type": "code",
   "execution_count": 141,
   "id": "4c45291f-8a59-42ae-b0be-8c271c9589e2",
   "metadata": {},
   "outputs": [
    {
     "name": "stdout",
     "output_type": "stream",
     "text": [
      "+--------+-----+-----+\n",
      "|category|X_amt|y_amt|\n",
      "+--------+-----+-----+\n",
      "|  Type A| 26.4| 15.6|\n",
      "|  Type A| 15.6| 15.6|\n",
      "|  Type A| 26.4| 26.4|\n",
      "|  Type A| 15.6| 26.4|\n",
      "|  Type B| 28.8| 28.0|\n",
      "|  Type B| 19.2| 28.0|\n",
      "|  Type B| 22.8| 28.0|\n",
      "|  Type B| 37.2| 28.0|\n",
      "|  Type B| 27.6| 28.0|\n",
      "|  Type B| 36.0| 28.0|\n",
      "|  Type B| 38.4| 28.0|\n",
      "|  Type B| 26.4| 28.0|\n",
      "|  Type B| 33.6| 28.0|\n",
      "|  Type B| 39.6| 28.0|\n",
      "|  Type B| 31.2| 28.0|\n",
      "|  Type B| 20.4| 28.0|\n",
      "|  Type B| 15.6| 28.0|\n",
      "|  Type B| 21.6| 28.0|\n",
      "|  Type B| 30.0| 28.0|\n",
      "|  Type B| 25.2| 28.0|\n",
      "+--------+-----+-----+\n",
      "only showing top 20 rows\n",
      "\n"
     ]
    }
   ],
   "source": [
    "df3 = df.join(df2,on = [\"category\"])\n",
    "df3.show()"
   ]
  },
  {
   "cell_type": "code",
   "execution_count": 144,
   "id": "cb922eda-c8d4-49c7-95cf-a80817ee5efc",
   "metadata": {},
   "outputs": [],
   "source": [
    "df4 = df3.groupBy(\"category\").agg(\n",
    "    round(sum(\"X_amt\"),2).alias(\"total_amount_X\"),\n",
    "    round(sum(\"y_amt\"),2).alias(\"total_amouunt_Y\")\n",
    ").drop(\"X_amt\").drop(\"y_amt\")"
   ]
  },
  {
   "cell_type": "code",
   "execution_count": 147,
   "id": "6197a844-6843-4826-8844-a7700b1939f2",
   "metadata": {},
   "outputs": [],
   "source": [
    "df4.write.format(\"csv\").option(\"header\",\"True\").mode(\"append\").save(\"file:///home/hdoop/notebooks/answer4.csv\")"
   ]
  },
  {
   "cell_type": "code",
   "execution_count": 148,
   "id": "0c4f204e-464b-4ada-a123-caf0a01d211a",
   "metadata": {},
   "outputs": [],
   "source": [
    "spark.stop()"
   ]
  },
  {
   "cell_type": "code",
   "execution_count": null,
   "id": "fa28cd85-c27c-435f-8a10-f5127e0414a6",
   "metadata": {},
   "outputs": [],
   "source": []
  }
 ],
 "metadata": {
  "kernelspec": {
   "display_name": "Python 3 (ipykernel)",
   "language": "python",
   "name": "python3"
  },
  "language_info": {
   "codemirror_mode": {
    "name": "ipython",
    "version": 3
   },
   "file_extension": ".py",
   "mimetype": "text/x-python",
   "name": "python",
   "nbconvert_exporter": "python",
   "pygments_lexer": "ipython3",
   "version": "3.10.12"
  }
 },
 "nbformat": 4,
 "nbformat_minor": 5
}
