{
 "cells": [
  {
   "cell_type": "code",
   "execution_count": 1,
   "id": "4e9b0f56-413f-4663-aab0-4a3ec5af7066",
   "metadata": {},
   "outputs": [],
   "source": [
    "from pyspark.sql import SparkSession"
   ]
  },
  {
   "cell_type": "code",
   "execution_count": 2,
   "id": "5ef4b0bb-0bc9-414f-b40e-3dd71aabc1bc",
   "metadata": {},
   "outputs": [
    {
     "name": "stderr",
     "output_type": "stream",
     "text": [
      "25/04/17 16:56:48 WARN Utils: Your hostname, TTNPL-8203 resolves to a loopback address: 127.0.1.1; using 10.1.210.48 instead (on interface wlp0s20f3)\n",
      "25/04/17 16:56:48 WARN Utils: Set SPARK_LOCAL_IP if you need to bind to another address\n",
      "Setting default log level to \"WARN\".\n",
      "To adjust logging level use sc.setLogLevel(newLevel). For SparkR, use setLogLevel(newLevel).\n",
      "25/04/17 16:56:49 WARN NativeCodeLoader: Unable to load native-hadoop library for your platform... using builtin-java classes where applicable\n"
     ]
    },
    {
     "name": "stdout",
     "output_type": "stream",
     "text": [
      "<pyspark.sql.session.SparkSession object at 0x7af9481137f0>\n"
     ]
    }
   ],
   "source": [
    "spark =SparkSession.builder.appName(\"MyGlueJob\").getOrCreate()\n",
    "print(spark)"
   ]
  },
  {
   "cell_type": "markdown",
   "id": "e00953e3-3153-4209-aa21-99adf51ffe0d",
   "metadata": {},
   "source": [
    "#### importing needed libs"
   ]
  },
  {
   "cell_type": "code",
   "execution_count": 3,
   "id": "8dc510c9-3e84-4e16-a0de-294b46552499",
   "metadata": {},
   "outputs": [],
   "source": [
    "from pyspark.sql.functions import col,sum, round,max,asc"
   ]
  },
  {
   "cell_type": "code",
   "execution_count": 4,
   "id": "02541a5a-5984-417d-8edf-fe4531db72f0",
   "metadata": {},
   "outputs": [
    {
     "name": "stderr",
     "output_type": "stream",
     "text": [
      "                                                                                "
     ]
    }
   ],
   "source": [
    "df1 = spark.read.csv(\"file:///home/hdoop/notebooks/data/assessment4-mukul/Copy of covid_19_india.csv\",inferSchema = True,header = True)\n",
    "df2 = spark.read.csv(\"file:///home/hdoop/notebooks/data/assessment4-mukul/Copy of StatewiseTestingDetails.csv\",inferSchema = True,header = True)"
   ]
  },
  {
   "cell_type": "code",
   "execution_count": 5,
   "id": "ecfe9367-5e72-42e7-a177-3502bb6690d7",
   "metadata": {},
   "outputs": [
    {
     "name": "stdout",
     "output_type": "stream",
     "text": [
      "+---+--------+-------+--------------------+-----------------------+------------------------+-----+------+---------+\n",
      "|Sno|Date    |Time   |State/UnionTerritory|ConfirmedIndianNational|ConfirmedForeignNational|Cured|Deaths|Confirmed|\n",
      "+---+--------+-------+--------------------+-----------------------+------------------------+-----+------+---------+\n",
      "|1  |30/01/20|6:00 PM|Kerala              |1                      |0                       |0    |0     |1        |\n",
      "|2  |31/01/20|6:00 PM|Kerala              |1                      |0                       |0    |0     |1        |\n",
      "|3  |01/02/20|6:00 PM|Kerala              |2                      |0                       |0    |0     |2        |\n",
      "|4  |02/02/20|6:00 PM|Kerala              |3                      |0                       |0    |0     |3        |\n",
      "|5  |03/02/20|6:00 PM|Kerala              |3                      |0                       |0    |0     |3        |\n",
      "|6  |04/02/20|6:00 PM|Kerala              |3                      |0                       |0    |0     |3        |\n",
      "|7  |05/02/20|6:00 PM|Kerala              |3                      |0                       |0    |0     |3        |\n",
      "|8  |06/02/20|6:00 PM|Kerala              |3                      |0                       |0    |0     |3        |\n",
      "|9  |07/02/20|6:00 PM|Kerala              |3                      |0                       |0    |0     |3        |\n",
      "|10 |08/02/20|6:00 PM|Kerala              |3                      |0                       |0    |0     |3        |\n",
      "|11 |09/02/20|6:00 PM|Kerala              |3                      |0                       |0    |0     |3        |\n",
      "|12 |10/02/20|6:00 PM|Kerala              |3                      |0                       |0    |0     |3        |\n",
      "|13 |11/02/20|6:00 PM|Kerala              |3                      |0                       |0    |0     |3        |\n",
      "|14 |12/02/20|6:00 PM|Kerala              |3                      |0                       |0    |0     |3        |\n",
      "|15 |13/02/20|6:00 PM|Kerala              |3                      |0                       |0    |0     |3        |\n",
      "|16 |14/02/20|6:00 PM|Kerala              |3                      |0                       |0    |0     |3        |\n",
      "|17 |15/02/20|6:00 PM|Kerala              |3                      |0                       |0    |0     |3        |\n",
      "|18 |16/02/20|6:00 PM|Kerala              |3                      |0                       |0    |0     |3        |\n",
      "|19 |17/02/20|6:00 PM|Kerala              |3                      |0                       |0    |0     |3        |\n",
      "|20 |18/02/20|6:00 PM|Kerala              |3                      |0                       |0    |0     |3        |\n",
      "+---+--------+-------+--------------------+-----------------------+------------------------+-----+------+---------+\n",
      "only showing top 20 rows\n",
      "\n"
     ]
    }
   ],
   "source": [
    "df1.show(n=20,truncate = False)"
   ]
  },
  {
   "cell_type": "code",
   "execution_count": 6,
   "id": "9a8d1969-79ea-4208-92b7-17dbce6c24c8",
   "metadata": {},
   "outputs": [
    {
     "name": "stdout",
     "output_type": "stream",
     "text": [
      "+----------+---------------------------+------------+--------+--------+\n",
      "|Date      |State                      |TotalSamples|Negative|Positive|\n",
      "+----------+---------------------------+------------+--------+--------+\n",
      "|2020-04-17|Andaman and Nicobar Islands|1403.0      |1210    |12.0    |\n",
      "|2020-04-24|Andaman and Nicobar Islands|2679.0      |NULL    |27.0    |\n",
      "|2020-04-27|Andaman and Nicobar Islands|2848.0      |NULL    |33.0    |\n",
      "|2020-05-01|Andaman and Nicobar Islands|3754.0      |NULL    |33.0    |\n",
      "|2020-05-16|Andaman and Nicobar Islands|6677.0      |NULL    |33.0    |\n",
      "|2020-05-19|Andaman and Nicobar Islands|6965.0      |NULL    |33.0    |\n",
      "|2020-05-20|Andaman and Nicobar Islands|7082.0      |NULL    |33.0    |\n",
      "|2020-05-21|Andaman and Nicobar Islands|7167.0      |NULL    |33.0    |\n",
      "|2020-05-22|Andaman and Nicobar Islands|7263.0      |NULL    |33.0    |\n",
      "|2020-05-23|Andaman and Nicobar Islands|7327.0      |NULL    |33.0    |\n",
      "|2020-05-24|Andaman and Nicobar Islands|7327.0      |NULL    |33.0    |\n",
      "|2020-05-25|Andaman and Nicobar Islands|7363.0      |NULL    |33.0    |\n",
      "|2020-05-26|Andaman and Nicobar Islands|7448.0      |NULL    |33.0    |\n",
      "|2020-05-27|Andaman and Nicobar Islands|7499.0      |NULL    |33.0    |\n",
      "|2020-05-28|Andaman and Nicobar Islands|7519.0      |NULL    |33.0    |\n",
      "|2020-05-29|Andaman and Nicobar Islands|7567.0      |NULL    |33.0    |\n",
      "|2020-05-30|Andaman and Nicobar Islands|7567.0      |NULL    |33.0    |\n",
      "|2020-05-31|Andaman and Nicobar Islands|7706.0      |NULL    |33.0    |\n",
      "|2020-06-01|Andaman and Nicobar Islands|7805.0      |NULL    |33.0    |\n",
      "|2020-06-02|Andaman and Nicobar Islands|8086.0      |NULL    |33.0    |\n",
      "+----------+---------------------------+------------+--------+--------+\n",
      "only showing top 20 rows\n",
      "\n"
     ]
    }
   ],
   "source": [
    "df2.show(n=20,truncate = False)"
   ]
  },
  {
   "cell_type": "markdown",
   "id": "f7fe6c39-e3fe-426b-a266-829147274f24",
   "metadata": {},
   "source": [
    "#### adding the confirmedforeign percentage in df1"
   ]
  },
  {
   "cell_type": "code",
   "execution_count": 7,
   "id": "7855780c-efa6-4144-9bb3-b19fea572072",
   "metadata": {},
   "outputs": [],
   "source": [
    "total_ConfirmedForeignNational = df1.agg(sum(\"ConfirmedForeignNational\")).collect()[0][0]\n",
    "df1_2 = df1.withColumn(\"ConfirmedForeignNationalPer\",round(col(\"ConfirmedForeignNational\")/total_ConfirmedForeignNational*100,2))"
   ]
  },
  {
   "cell_type": "markdown",
   "id": "d377094c-cac9-4e72-8119-07876e9d3e0a",
   "metadata": {},
   "source": [
    "#### state_unionterritory with he highest positive case percentage at any given date"
   ]
  },
  {
   "cell_type": "code",
   "execution_count": 8,
   "id": "879b6494-bb5c-46d2-bf11-47249f7cad87",
   "metadata": {},
   "outputs": [
    {
     "name": "stdout",
     "output_type": "stream",
     "text": [
      "+----------+---------------------------+------------+--------+--------+\n",
      "|Date      |State                      |TotalSamples|Negative|Positive|\n",
      "+----------+---------------------------+------------+--------+--------+\n",
      "|2020-04-17|Andaman and Nicobar Islands|1403.0      |1210    |12.0    |\n",
      "|2020-04-24|Andaman and Nicobar Islands|2679.0      |NULL    |27.0    |\n",
      "|2020-04-27|Andaman and Nicobar Islands|2848.0      |NULL    |33.0    |\n",
      "|2020-05-01|Andaman and Nicobar Islands|3754.0      |NULL    |33.0    |\n",
      "|2020-05-16|Andaman and Nicobar Islands|6677.0      |NULL    |33.0    |\n",
      "|2020-05-19|Andaman and Nicobar Islands|6965.0      |NULL    |33.0    |\n",
      "|2020-05-20|Andaman and Nicobar Islands|7082.0      |NULL    |33.0    |\n",
      "|2020-05-21|Andaman and Nicobar Islands|7167.0      |NULL    |33.0    |\n",
      "|2020-05-22|Andaman and Nicobar Islands|7263.0      |NULL    |33.0    |\n",
      "|2020-05-23|Andaman and Nicobar Islands|7327.0      |NULL    |33.0    |\n",
      "|2020-05-24|Andaman and Nicobar Islands|7327.0      |NULL    |33.0    |\n",
      "|2020-05-25|Andaman and Nicobar Islands|7363.0      |NULL    |33.0    |\n",
      "|2020-05-26|Andaman and Nicobar Islands|7448.0      |NULL    |33.0    |\n",
      "|2020-05-27|Andaman and Nicobar Islands|7499.0      |NULL    |33.0    |\n",
      "|2020-05-28|Andaman and Nicobar Islands|7519.0      |NULL    |33.0    |\n",
      "|2020-05-29|Andaman and Nicobar Islands|7567.0      |NULL    |33.0    |\n",
      "|2020-05-30|Andaman and Nicobar Islands|7567.0      |NULL    |33.0    |\n",
      "|2020-05-31|Andaman and Nicobar Islands|7706.0      |NULL    |33.0    |\n",
      "|2020-06-01|Andaman and Nicobar Islands|7805.0      |NULL    |33.0    |\n",
      "|2020-06-02|Andaman and Nicobar Islands|8086.0      |NULL    |33.0    |\n",
      "+----------+---------------------------+------------+--------+--------+\n",
      "only showing top 20 rows\n",
      "\n"
     ]
    }
   ],
   "source": [
    "df2.show(n=20,truncate =False)"
   ]
  },
  {
   "cell_type": "code",
   "execution_count": 9,
   "id": "2cc3d97e-0308-428a-aeaa-f327cc858490",
   "metadata": {},
   "outputs": [],
   "source": [
    "df2_2 = df2.withColumn(\"PositiveRate\",col(\"Positive\")/col(\"TotalSamples\")*100)"
   ]
  },
  {
   "cell_type": "code",
   "execution_count": 10,
   "id": "47020f2f-57dc-4f51-9e9b-57f1f0c9bfcf",
   "metadata": {},
   "outputs": [
    {
     "name": "stdout",
     "output_type": "stream",
     "text": [
      "+----------+-----+------------+--------+--------+------------------+\n",
      "|      Date|State|TotalSamples|Negative|Positive|      PositiveRate|\n",
      "+----------+-----+------------+--------+--------+------------------+\n",
      "|2020-04-13|Delhi|     15032.0|   12283|  1510.0|10.045236828100053|\n",
      "+----------+-----+------------+--------+--------+------------------+\n",
      "\n"
     ]
    }
   ],
   "source": [
    "\n",
    "df2_2.where(col(\"Date\")=='2020-04-13').where(col(\"PositiveRate\")>10).show()"
   ]
  },
  {
   "cell_type": "code",
   "execution_count": 11,
   "id": "e634ebbe-cab1-4468-a663-655c09f2d866",
   "metadata": {},
   "outputs": [],
   "source": [
    "date_wise_max = df2_2.groupBy(\"Date\").agg(\n",
    "    max(\"PositiveRate\").alias(\"PositiveRate\")\n",
    ").orderBy(\"Date\")"
   ]
  },
  {
   "cell_type": "code",
   "execution_count": 16,
   "id": "52319965-d935-4f94-bdf4-5780bc6a14ac",
   "metadata": {},
   "outputs": [],
   "source": [
    "df2_3 = df2_2.join(date_wise_max,[\"Date\",\"PositiveRate\"],\"inner\").select(df2_2[\"Date\"],df2_2[\"State\"]).orderBy(\"Date\")"
   ]
  },
  {
   "cell_type": "code",
   "execution_count": 13,
   "id": "35b4eb2e-4384-4dc7-af93-3f57b9e210b8",
   "metadata": {},
   "outputs": [
    {
     "name": "stdout",
     "output_type": "stream",
     "text": [
      "+---+--------+-------+--------------------+-----------------------+------------------------+-----+------+---------+---------------------------+\n",
      "|Sno|    Date|   Time|State/UnionTerritory|ConfirmedIndianNational|ConfirmedForeignNational|Cured|Deaths|Confirmed|ConfirmedForeignNationalPer|\n",
      "+---+--------+-------+--------------------+-----------------------+------------------------+-----+------+---------+---------------------------+\n",
      "| 37|03/03/20|6:00 PM|           Rajasthan|                      0|                       1|    0|     0|        1|                       0.15|\n",
      "| 42|04/03/20|6:00 PM|             Haryana|                      0|                       2|    0|     0|        2|                        0.3|\n",
      "| 45|04/03/20|6:00 PM|           Rajasthan|                      1|                      14|    0|     0|       15|                        2.1|\n",
      "| 47|05/03/20|6:00 PM|             Haryana|                      0|                       2|    0|     0|        2|                        0.3|\n",
      "| 49|05/03/20|6:00 PM|           Rajasthan|                      1|                      14|    0|     0|       15|                        2.1|\n",
      "| 53|06/03/20|6:00 PM|             Haryana|                      0|                       2|    0|     0|        2|                        0.3|\n",
      "| 55|06/03/20|6:00 PM|           Rajasthan|                      1|                      14|    0|     0|       15|                        2.1|\n",
      "| 64|07/03/20|6:00 PM|             Haryana|                      0|                       2|    0|     0|        2|                        0.3|\n",
      "| 65|07/03/20|6:00 PM|           Rajasthan|                      1|                      14|    0|     0|       15|                        2.1|\n",
      "| 69|08/03/20|6:00 PM|           Rajasthan|                      1|                      14|    0|     0|       15|                        2.1|\n",
      "| 71|08/03/20|6:00 PM|             Haryana|                      0|                       2|    0|     0|        2|                        0.3|\n",
      "| 79|09/03/20|6:00 PM|           Rajasthan|                      1|                      14|    0|     0|       15|                        2.1|\n",
      "| 84|09/03/20|6:00 PM|             Haryana|                      0|                       2|    0|     0|        2|                        0.3|\n",
      "| 89|10/03/20|6:00 PM|             Haryana|                      0|                       2|    0|     0|        2|                        0.3|\n",
      "| 94|10/03/20|6:00 PM|           Rajasthan|                      1|                      14|    0|     0|       15|                        2.1|\n",
      "|100|11/03/20|6:00 PM|             Haryana|                      0|                      14|    0|     0|       14|                        2.1|\n",
      "|102|11/03/20|6:00 PM|           Rajasthan|                      1|                       2|    0|     0|        3|                        0.3|\n",
      "|111|12/03/20|6:00 PM|             Haryana|                      0|                      14|    0|     0|       14|                        2.1|\n",
      "|113|12/03/20|6:00 PM|           Rajasthan|                      1|                       2|    0|     0|        3|                        0.3|\n",
      "|115|12/03/20|6:00 PM|       Uttar Pradesh|                     10|                       1|    0|     0|       11|                       0.15|\n",
      "+---+--------+-------+--------------------+-----------------------+------------------------+-----+------+---------+---------------------------+\n",
      "only showing top 20 rows\n",
      "\n"
     ]
    }
   ],
   "source": [
    "df1_2.where(col(\"ConfirmedForeignNationalPer\")>0).show()"
   ]
  },
  {
   "cell_type": "code",
   "execution_count": 19,
   "id": "38e69137-7ec9-4fed-9086-c7dbf190dbaa",
   "metadata": {},
   "outputs": [],
   "source": [
    "df1_2.write.format(\"parquet\").mode(\"overwrite\").save(\"file:///home/hdoop/notebooks/data/assessment4-mukul/dataset1/\")"
   ]
  },
  {
   "cell_type": "code",
   "execution_count": 18,
   "id": "38e3fea0-e458-4697-a338-9f1cdbbf3567",
   "metadata": {},
   "outputs": [
    {
     "name": "stderr",
     "output_type": "stream",
     "text": [
      "                                                                                "
     ]
    }
   ],
   "source": [
    "df2_3.write.format(\"parquet\").mode(\"overwrite\").save(\"file:///home/hdoop/notebooks/data/assessment4-mukul/dataset2/\")"
   ]
  },
  {
   "cell_type": "code",
   "execution_count": null,
   "id": "30ac11df-0d14-4045-b9f5-b020b2503500",
   "metadata": {},
   "outputs": [],
   "source": []
  }
 ],
 "metadata": {
  "kernelspec": {
   "display_name": "Python 3 (ipykernel)",
   "language": "python",
   "name": "python3"
  },
  "language_info": {
   "codemirror_mode": {
    "name": "ipython",
    "version": 3
   },
   "file_extension": ".py",
   "mimetype": "text/x-python",
   "name": "python",
   "nbconvert_exporter": "python",
   "pygments_lexer": "ipython3",
   "version": "3.10.12"
  }
 },
 "nbformat": 4,
 "nbformat_minor": 5
}
